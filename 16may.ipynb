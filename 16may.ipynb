{
 "cells": [
  {
   "cell_type": "code",
   "execution_count": 4,
   "id": "8fa1f153-91ad-46a2-9b7a-a0894db42489",
   "metadata": {},
   "outputs": [
    {
     "data": {
      "text/plain": [
       "8000"
      ]
     },
     "execution_count": 4,
     "metadata": {},
     "output_type": "execute_result"
    }
   ],
   "source": [
    "class Student:\n",
    "    def __init__(self,fee):\n",
    "        self.fee=fee\n",
    "    # decorator     \n",
    "    @property\n",
    "    def info(self):\n",
    "        return self.fee*80\n",
    "\n",
    "h1=Student(100)\n",
    "h1.info"
   ]
  },
  {
   "cell_type": "code",
   "execution_count": 19,
   "id": "46356c2c-f239-498a-97df-daca7240510c",
   "metadata": {},
   "outputs": [
    {
     "data": {
      "text/plain": [
       "80"
      ]
     },
     "execution_count": 19,
     "metadata": {},
     "output_type": "execute_result"
    }
   ],
   "source": [
    "# static method=fixed\n",
    "class Student:\n",
    "    def __init__(self,fee):\n",
    "        self.fee=fee   \n",
    "    @staticmethod\n",
    "    def info():\n",
    "        return 80\n",
    "\n",
    "h1=Student(100)\n",
    "h1.info() "
   ]
  },
  {
   "cell_type": "code",
   "execution_count": 9,
   "id": "9da34ba3-5e17-4674-a390-a2f7cb98b7f9",
   "metadata": {},
   "outputs": [
    {
     "data": {
      "text/plain": [
       "30"
      ]
     },
     "execution_count": 9,
     "metadata": {},
     "output_type": "execute_result"
    }
   ],
   "source": [
    "class Student:\n",
    "    def __init__(self,fee):\n",
    "        self.fee=fee   \n",
    "    @staticmethod\n",
    "    def info(x,y):\n",
    "        return x+y\n",
    "\n",
    "Student.info(10,20)"
   ]
  },
  {
   "cell_type": "code",
   "execution_count": 18,
   "id": "b7b2dd62-e650-4ae7-87f2-14f7811f80c6",
   "metadata": {},
   "outputs": [
    {
     "data": {
      "text/plain": [
       "Euro class has 310"
      ]
     },
     "execution_count": 18,
     "metadata": {},
     "output_type": "execute_result"
    }
   ],
   "source": [
    "# class method\n",
    "class Doller:\n",
    "    def __init__(self,amount):\n",
    "        self.amount=amount\n",
    "\n",
    "    def __repr__(self):\n",
    "        return f\"Doller class has values {self.amount}\"\n",
    "        \n",
    "    @classmethod    \n",
    "    def convert(cls,x,y):\n",
    "        return cls(x+y)\n",
    "class Euro(Doller):\n",
    "    def __init__(self,amount):\n",
    "        super().__init__(amount)\n",
    "\n",
    "    def __repr__(self):\n",
    "        return f\"Euro class has {self.amount}\"\n",
    "        \n",
    "d1=Doller(100)\n",
    "d1.convert(60,50)\n",
    "e1=Euro(100)\n",
    "e1.convert(160,150)"
   ]
  },
  {
   "cell_type": "code",
   "execution_count": null,
   "id": "e73abc37-53fe-4547-8c96-aae8da0a67d1",
   "metadata": {},
   "outputs": [],
   "source": []
  }
 ],
 "metadata": {
  "kernelspec": {
   "display_name": "Python 3 (ipykernel)",
   "language": "python",
   "name": "python3"
  },
  "language_info": {
   "codemirror_mode": {
    "name": "ipython",
    "version": 3
   },
   "file_extension": ".py",
   "mimetype": "text/x-python",
   "name": "python",
   "nbconvert_exporter": "python",
   "pygments_lexer": "ipython3",
   "version": "3.12.2"
  }
 },
 "nbformat": 4,
 "nbformat_minor": 5
}
