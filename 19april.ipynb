{
 "cells": [
  {
   "cell_type": "code",
   "execution_count": 7,
   "id": "1e9535c2-2f31-4f1d-b9ae-7a5661eb2632",
   "metadata": {},
   "outputs": [
    {
     "name": "stdin",
     "output_type": "stream",
     "text": [
      "enter your age:  16\n"
     ]
    },
    {
     "name": "stdout",
     "output_type": "stream",
     "text": [
      "you are not eligible for vote\n"
     ]
    }
   ],
   "source": [
    "#voter id\n",
    "age=int(input(\"enter your age: \"))\n",
    "if(age>=18):\n",
    "    print(\"you are eligible for vote\")\n",
    "else:\n",
    "    print(\"you are not eligible for vote\")"
   ]
  },
  {
   "cell_type": "code",
   "execution_count": 14,
   "id": "bc071836-0853-4f6c-96fc-1e8f3a68625d",
   "metadata": {},
   "outputs": [
    {
     "name": "stdin",
     "output_type": "stream",
     "text": [
      "enter your marks:  55\n"
     ]
    },
    {
     "name": "stdout",
     "output_type": "stream",
     "text": [
      "Fail\n"
     ]
    }
   ],
   "source": [
    "#grade students on marks\n",
    "marks=int(input(\"enter your marks: \"))\n",
    "if(marks>=90):\n",
    "    print(\"Grade A\")\n",
    "elif(marks>=80 and marks<90):\n",
    "    print(\"Grade B\") \n",
    "elif(marks>=70 and marks<80):\n",
    "    print(\"Grade C\") \n",
    "elif(marks>=60):\n",
    "    print(\"Grade D\") \n",
    "else:\n",
    "    print(\"Fail\")"
   ]
  },
  {
   "cell_type": "code",
   "execution_count": 20,
   "id": "e15f4ff4-5e3a-4189-9e8f-6eaa6913839e",
   "metadata": {},
   "outputs": [
    {
     "name": "stdout",
     "output_type": "stream",
     "text": [
      "can vote\n"
     ]
    }
   ],
   "source": [
    " # nested if\n",
    "age=34\n",
    "if(age>=18):\n",
    "    if(age<=18):\n",
    "       print(\"cannot vote\")\n",
    "    else:\n",
    "       print(\"can vote\")\n",
    "else:\n",
    "    print(\"cannot vote\")\n",
    "    "
   ]
  },
  {
   "cell_type": "code",
   "execution_count": 22,
   "id": "f737a3f2-3de7-4192-a82f-052148cc5c5a",
   "metadata": {},
   "outputs": [
    {
     "name": "stdin",
     "output_type": "stream",
     "text": [
      "enter your number:  3\n"
     ]
    },
    {
     "name": "stdout",
     "output_type": "stream",
     "text": [
      "The Number is Odd\n"
     ]
    }
   ],
   "source": [
    "num=int(input(\"enter your number: \"))\n",
    "if(num%2==0):\n",
    "    print(\"The Number is Even\") \n",
    "else:\n",
    "    print(\"The Number is Odd\")"
   ]
  },
  {
   "cell_type": "code",
   "execution_count": 24,
   "id": "17228fd5-ad21-40cc-ba9f-e6020c6f0f8e",
   "metadata": {},
   "outputs": [
    {
     "name": "stdin",
     "output_type": "stream",
     "text": [
      "enter your first number:  1\n",
      "enter your second number:  1\n",
      "enter your third number:  1\n"
     ]
    },
    {
     "name": "stdout",
     "output_type": "stream",
     "text": [
      "equal\n"
     ]
    }
   ],
   "source": [
    "a=int(input(\"enter your first number: \"))\n",
    "b=int(input(\"enter your second number: \"))\n",
    "c=int(input(\"enter your third number: \"))\n",
    "if(a>b and a>c):\n",
    "    print(\"a is max\") \n",
    "elif(b>a and b>c):\n",
    "    print(\"b is max\") \n",
    "elif(c>a and c>b):\n",
    "    print(\"c is max\") \n",
    "else:\n",
    "    print(\"equal\")"
   ]
  },
  {
   "cell_type": "code",
   "execution_count": 27,
   "id": "3f8fb3b5-46b9-4dba-95a6-bb3d9bc9dd30",
   "metadata": {},
   "outputs": [
    {
     "name": "stdin",
     "output_type": "stream",
     "text": [
      "enter your number:  25\n"
     ]
    },
    {
     "name": "stdout",
     "output_type": "stream",
     "text": [
      "the number is not multiply by 7\n"
     ]
    }
   ],
   "source": [
    "num1=int(input(\"enter your number: \"))\n",
    "if(num1%7==0):\n",
    "    print(\"this number is multiply by 7\") \n",
    "else:\n",
    "    print(\"the number is not multiply by 7\")"
   ]
  }
 ],
 "metadata": {
  "kernelspec": {
   "display_name": "Python 3 (ipykernel)",
   "language": "python",
   "name": "python3"
  },
  "language_info": {
   "codemirror_mode": {
    "name": "ipython",
    "version": 3
   },
   "file_extension": ".py",
   "mimetype": "text/x-python",
   "name": "python",
   "nbconvert_exporter": "python",
   "pygments_lexer": "ipython3",
   "version": "3.12.2"
  }
 },
 "nbformat": 4,
 "nbformat_minor": 5
}
