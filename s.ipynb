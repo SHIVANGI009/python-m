{
 "cells": [
  {
   "cell_type": "code",
   "execution_count": 4,
   "id": "99354e35-fb21-4cc9-aa52-daac51c632ed",
   "metadata": {},
   "outputs": [
    {
     "name": "stdout",
     "output_type": "stream",
     "text": [
      "This is string.\n",
      "we are creating python code.\n"
     ]
    }
   ],
   "source": [
    "str=\"This is string.\\nwe are creating python code.\"\n",
    "#\\n use this escape for give new line.\n",
    "print(str)"
   ]
  },
  {
   "cell_type": "code",
   "execution_count": 9,
   "id": "b38fe1af-78f9-4ec4-8d9c-812507318c6f",
   "metadata": {},
   "outputs": [
    {
     "name": "stdout",
     "output_type": "stream",
     "text": [
      "4\n",
      "shivangi\n"
     ]
    }
   ],
   "source": [
    "str1=\"shiv\"\n",
    "len1=len(str1)\n",
    "print(len1)\n",
    "str2=\"angi\"\n",
    "str3=str1+str2\n",
    "print(str3)"
   ]
  },
  {
   "cell_type": "code",
   "execution_count": 16,
   "id": "4dfb1049-f102-478d-acd3-f33d04f7411a",
   "metadata": {},
   "outputs": [
    {
     "name": "stdout",
     "output_type": "stream",
     "text": [
      "True\n"
     ]
    }
   ],
   "source": [
    "s=\"apna college\"\n",
    "print(s.endswith(\"ege\"))"
   ]
  },
  {
   "cell_type": "code",
   "execution_count": 17,
   "id": "61f1294e-2a0d-40ee-b463-ecf110d40908",
   "metadata": {},
   "outputs": [
    {
     "name": "stdout",
     "output_type": "stream",
     "text": [
      "Apna college\n"
     ]
    }
   ],
   "source": [
    "s=\"apna college\"\n",
    "print(s.capitalize())"
   ]
  },
  {
   "cell_type": "code",
   "execution_count": 21,
   "id": "85da9491-b066-466e-8b2a-c7e079629e53",
   "metadata": {},
   "outputs": [
    {
     "name": "stdout",
     "output_type": "stream",
     "text": [
      "apna callege\n"
     ]
    }
   ],
   "source": [
    "s=\"apna college\"\n",
    "print(s.replace(\"o\",\"a\"))"
   ]
  },
  {
   "cell_type": "code",
   "execution_count": 24,
   "id": "7c528155-103d-4a64-80a6-b9e50db26e41",
   "metadata": {},
   "outputs": [
    {
     "name": "stdout",
     "output_type": "stream",
     "text": [
      "6\n"
     ]
    }
   ],
   "source": [
    "s=\"apna college\"\n",
    "print(s.find(\"o\"))"
   ]
  },
  {
   "cell_type": "code",
   "execution_count": 26,
   "id": "ffda3a74-ef1d-48b7-93dd-520a5eaf12f8",
   "metadata": {},
   "outputs": [
    {
     "name": "stdout",
     "output_type": "stream",
     "text": [
      "1\n"
     ]
    }
   ],
   "source": [
    "s=\"apna college\"\n",
    "print(s.count(\"college\"))"
   ]
  },
  {
   "cell_type": "code",
   "execution_count": 27,
   "id": "8d090463-51c3-40a3-b50e-3932e957eab5",
   "metadata": {},
   "outputs": [
    {
     "name": "stdin",
     "output_type": "stream",
     "text": [
      "enter your first name:  shivangi\n"
     ]
    },
    {
     "name": "stdout",
     "output_type": "stream",
     "text": [
      "8\n"
     ]
    }
   ],
   "source": [
    "#find length\n",
    "a=(input(\"enter your first name: \"))\n",
    "len1=len(a)\n",
    "print(len1)"
   ]
  },
  {
   "cell_type": "code",
   "execution_count": 28,
   "id": "9470418e-5e4a-4cb1-ac3b-7379aa6386af",
   "metadata": {},
   "outputs": [
    {
     "name": "stdin",
     "output_type": "stream",
     "text": [
      "enter your first name:  $shiva$ngi$\n"
     ]
    },
    {
     "name": "stdout",
     "output_type": "stream",
     "text": [
      "3\n"
     ]
    }
   ],
   "source": [
    "#count $\n",
    "a=(input(\"enter your first name: \"))\n",
    "print(a.count(\"$\"))"
   ]
  },
  {
   "cell_type": "code",
   "execution_count": null,
   "id": "3d64457b-84a3-497b-98a7-af2c27c6f27c",
   "metadata": {},
   "outputs": [],
   "source": []
  }
 ],
 "metadata": {
  "kernelspec": {
   "display_name": "Python 3 (ipykernel)",
   "language": "python",
   "name": "python3"
  },
  "language_info": {
   "codemirror_mode": {
    "name": "ipython",
    "version": 3
   },
   "file_extension": ".py",
   "mimetype": "text/x-python",
   "name": "python",
   "nbconvert_exporter": "python",
   "pygments_lexer": "ipython3",
   "version": "3.12.2"
  }
 },
 "nbformat": 4,
 "nbformat_minor": 5
}
