{
 "cells": [
  {
   "cell_type": "code",
   "execution_count": 5,
   "id": "0d7aa1e7-2a98-4a4a-b397-ca33c065998e",
   "metadata": {},
   "outputs": [
    {
     "name": "stdout",
     "output_type": "stream",
     "text": [
      "Toyoto 2016\n"
     ]
    }
   ],
   "source": [
    "# CLASS & OBJECT \n",
    "class Car:\n",
    "    def __init__(self,modelname,year):\n",
    "        self.modelname=modelname\n",
    "        self.year=year\n",
    "    def display(self):\n",
    "        print(self.modelname,self.year)\n",
    "c1=Car(\"Toyoto\",2016)\n",
    "c1.display()"
   ]
  },
  {
   "cell_type": "code",
   "execution_count": 7,
   "id": "fa73b758-7407-499b-a003-7a67ab2f0324",
   "metadata": {},
   "outputs": [
    {
     "name": "stdout",
     "output_type": "stream",
     "text": [
      "Congrats Shivangi :)\n"
     ]
    }
   ],
   "source": [
    "class Person:\n",
    "    def __init__(self,name,age):\n",
    "        self.name=name\n",
    "        self.age=age\n",
    "    def greet(self):\n",
    "        print(\"Congrats\",self.name,\":)\")\n",
    "p1=Person(\"Shivangi\",21)\n",
    "p1.greet()"
   ]
  },
  {
   "cell_type": "code",
   "execution_count": 13,
   "id": "efa659c2-9c19-4bff-97a3-567b13e39d56",
   "metadata": {},
   "outputs": [
    {
     "name": "stdout",
     "output_type": "stream",
     "text": [
      "3\n"
     ]
    }
   ],
   "source": [
    "class count:\n",
    "    count1=0\n",
    "    def __init__(self,listt):\n",
    "        self.listt=listt\n",
    "        count.count1+=1\n",
    "l1=count([1,2,3,4,5])\n",
    "l2=count([6,7,8,9,10])\n",
    "l3=count([11,12,13,14,15])\n",
    "print(count.count1)"
   ]
  },
  {
   "cell_type": "code",
   "execution_count": 19,
   "id": "001efad7-e0e7-4e7f-ba0a-2f2dc28c2f13",
   "metadata": {},
   "outputs": [
    {
     "name": "stdout",
     "output_type": "stream",
     "text": [
      "Dog bark\n",
      "Animal speak\n"
     ]
    }
   ],
   "source": [
    "# INHERITANCE\n",
    "# simple inheritance\n",
    "class Animal:\n",
    "    def speak(self):\n",
    "        print(\"Animal speak\")\n",
    "class Dog(Animal):\n",
    "    def bark(self):\n",
    "        print(\"Dog bark\")\n",
    "a1=Dog()\n",
    "a1.bark()\n",
    "a1.speak()"
   ]
  },
  {
   "cell_type": "code",
   "execution_count": 23,
   "id": "054b7610-6093-4fad-96be-e49f0083b035",
   "metadata": {},
   "outputs": [
    {
     "name": "stdout",
     "output_type": "stream",
     "text": [
      "Here Some Calculations: \n",
      "2+2= 4\n",
      "9-5= 6\n"
     ]
    }
   ],
   "source": [
    "# multilevel inheritance\n",
    "class calculation:\n",
    "    def cal(self):\n",
    "        print(\"Here Some Calculations: \")\n",
    "class Addition(calculation):\n",
    "    def add(self):\n",
    "        print(\"2+2=\",2+2)\n",
    "class Subtraction(Addition):\n",
    "    def sub(self):\n",
    "        print(\"9-5=\",10-4)\n",
    "c1=Subtraction()\n",
    "c1.cal()\n",
    "c1.add()\n",
    "c1.sub()"
   ]
  },
  {
   "cell_type": "code",
   "execution_count": 24,
   "id": "72b71b94-8fb6-496b-9297-13359bf2a413",
   "metadata": {},
   "outputs": [
    {
     "name": "stdout",
     "output_type": "stream",
     "text": [
      "child\n",
      "Father\n",
      "Mother\n"
     ]
    }
   ],
   "source": [
    "# multiple inheritance\n",
    "class Parent:\n",
    "    def father(self):\n",
    "        print(\"Father\")\n",
    "class Parent2:\n",
    "    def mother(self):\n",
    "        print(\"Mother\")\n",
    "class child(Parent,Parent2):\n",
    "    print(\"child\")\n",
    "p1=child()\n",
    "p1.father()\n",
    "p1.mother()"
   ]
  }
 ],
 "metadata": {
  "kernelspec": {
   "display_name": "Python 3 (ipykernel)",
   "language": "python",
   "name": "python3"
  },
  "language_info": {
   "codemirror_mode": {
    "name": "ipython",
    "version": 3
   },
   "file_extension": ".py",
   "mimetype": "text/x-python",
   "name": "python",
   "nbconvert_exporter": "python",
   "pygments_lexer": "ipython3",
   "version": "3.12.2"
  }
 },
 "nbformat": 4,
 "nbformat_minor": 5
}
