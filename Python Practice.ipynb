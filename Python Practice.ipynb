{
 "cells": [
  {
   "cell_type": "code",
   "execution_count": 5,
   "id": "469a405b-304d-491b-9fa1-e7654093320f",
   "metadata": {},
   "outputs": [
    {
     "name": "stdout",
     "output_type": "stream",
     "text": [
      "[5, 2, 3, 4, 1]\n"
     ]
    }
   ],
   "source": [
    "# interchange the first and last element\n",
    "def list1(lst):\n",
    "    if len(lst)>1:\n",
    "        lst[0],lst[-1] = lst[-1],lst[0]\n",
    "    return lst\n",
    "lst=[1,2,3,4,5]\n",
    "print(list1(lst)) "
   ]
  },
  {
   "cell_type": "code",
   "execution_count": 9,
   "id": "3437d3c3-aa9a-481b-866c-d4aadb1b3521",
   "metadata": {},
   "outputs": [
    {
     "name": "stdout",
     "output_type": "stream",
     "text": [
      "[40, 20, 30, 10, 50]\n"
     ]
    }
   ],
   "source": [
    "# swap two elements in list\n",
    "def list2(lst,i1,i2):\n",
    "    if 0 <= i1 < len(lst) and 0 <= i2 < len(lst):\n",
    "        lst[i1],lst[i2] = lst[i2],lst[i1] \n",
    "    return lst\n",
    "\n",
    "lst=[10,20,30,40,50]\n",
    "print(list2(lst,0,3))"
   ]
  },
  {
   "cell_type": "code",
   "execution_count": 12,
   "id": "069e5f92-cf56-46b2-bdb8-cc0307f9d16e",
   "metadata": {},
   "outputs": [
    {
     "name": "stdout",
     "output_type": "stream",
     "text": [
      "11 exist in the list\n"
     ]
    }
   ],
   "source": [
    "# check element exist in the list or not\n",
    "def list3(lst,element):\n",
    "    if element in lst:\n",
    "        print(f\"{element} exist in the list\")\n",
    "    else:\n",
    "        print(f\"{element} is not exist in the list\")\n",
    "lst=[1,5,11,15,21,25,31,35,40]\n",
    "list3(lst,11) "
   ]
  },
  {
   "cell_type": "code",
   "execution_count": 29,
   "id": "7a6e5fc1-8b41-4f1d-a0b7-c3a6b1087a9d",
   "metadata": {},
   "outputs": [
    {
     "name": "stdout",
     "output_type": "stream",
     "text": [
      "before clear [1, 2, 3, 4, 5]\n",
      "after clear []\n"
     ]
    }
   ],
   "source": [
    "# remove from a list \n",
    "# i) using clear() method\n",
    "def list4(lst):\n",
    "    print(f\"before clear {lst}\")\n",
    "    lst1=lst.clear()\n",
    "    print(f\"after clear {lst}\")\n",
    "lst=[1,2,3,4,5]\n",
    "list4(lst)"
   ]
  },
  {
   "cell_type": "code",
   "execution_count": 30,
   "id": "740503e8-0a9e-4c62-85b7-98489bd19f9b",
   "metadata": {},
   "outputs": [
    {
     "name": "stdout",
     "output_type": "stream",
     "text": [
      "List1 before deleting is : [1, 2, 3, 4, 5]\n",
      "List1 after clearing using del : []\n"
     ]
    }
   ],
   "source": [
    "# ii) using pop() method\n",
    "def list4(lst):\n",
    "    print(\"List1 before deleting is : \" + str(lst))\n",
    "    while(len(lst) != 0):\n",
    "        lst.pop()\n",
    "    print(\"List1 after clearing using del : \" + str(lst))\n",
    "lst=[1,2,3,4,5]\n",
    "list4(lst)"
   ]
  },
  {
   "cell_type": "code",
   "execution_count": 33,
   "id": "bc8f2f94-66d5-4714-93a1-43a4e863f3d8",
   "metadata": {},
   "outputs": [
    {
     "name": "stdout",
     "output_type": "stream",
     "text": [
      "before clear [1, 2, 3, 4, 5]\n",
      "after clear []\n"
     ]
    }
   ],
   "source": [
    "# iii) using slicing method\n",
    "def list4(lst):\n",
    "    print(\"before clear\",lst)\n",
    "    lst=lst[:0]\n",
    "    print(\"after clear\",lst)\n",
    "\n",
    "lst=[1,2,3,4,5]\n",
    "list4(lst)"
   ]
  },
  {
   "cell_type": "code",
   "execution_count": 35,
   "id": "52f753e2-df46-481f-9ea7-e98939478c2b",
   "metadata": {},
   "outputs": [
    {
     "data": {
      "text/plain": [
       "[5, 4, 3, 2, 1]"
      ]
     },
     "execution_count": 35,
     "metadata": {},
     "output_type": "execute_result"
    }
   ],
   "source": [
    "# reverse elements in the list\n",
    "# using loop method\n",
    "def list5(lst):\n",
    "    reversed_lst = []\n",
    "    for item in lst:\n",
    "        reversed_lst.insert(0,item)\n",
    "    return reversed_lst\n",
    "lst=[1,2,3,4,5]\n",
    "list5(lst)"
   ]
  },
  {
   "cell_type": "code",
   "execution_count": 36,
   "id": "0eb5ce05-1adc-4945-b8d9-69f9c2fb9133",
   "metadata": {},
   "outputs": [
    {
     "name": "stdout",
     "output_type": "stream",
     "text": [
      "[5, 4, 3, 2, 1]\n"
     ]
    }
   ],
   "source": [
    "# using list method\n",
    "lst=[1,2,3,4,5]\n",
    "reversed_lst=[lst[i] for i in range(len(lst) -1,-1,-1)]\n",
    "print(reversed_lst)"
   ]
  },
  {
   "cell_type": "code",
   "execution_count": null,
   "id": "72d6225a-dd27-47b7-953e-4e03f58d06b9",
   "metadata": {},
   "outputs": [],
   "source": []
  }
 ],
 "metadata": {
  "kernelspec": {
   "display_name": "Python 3 (ipykernel)",
   "language": "python",
   "name": "python3"
  },
  "language_info": {
   "codemirror_mode": {
    "name": "ipython",
    "version": 3
   },
   "file_extension": ".py",
   "mimetype": "text/x-python",
   "name": "python",
   "nbconvert_exporter": "python",
   "pygments_lexer": "ipython3",
   "version": "3.12.2"
  }
 },
 "nbformat": 4,
 "nbformat_minor": 5
}
