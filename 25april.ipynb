{
 "cells": [
  {
   "cell_type": "code",
   "execution_count": 15,
   "id": "c252ce97-eb4e-4275-b21f-d2f5cd1b9ef0",
   "metadata": {},
   "outputs": [
    {
     "name": "stdin",
     "output_type": "stream",
     "text": [
      "Enter no. of entities:  3\n"
     ]
    },
    {
     "name": "stdout",
     "output_type": "stream",
     "text": [
      "enter elements: \n"
     ]
    },
    {
     "name": "stdin",
     "output_type": "stream",
     "text": [
      " 1\n",
      " 2\n",
      " 3\n"
     ]
    },
    {
     "name": "stdout",
     "output_type": "stream",
     "text": [
      "*\n",
      "**\n",
      "***\n"
     ]
    }
   ],
   "source": [
    "n=int(input(\"Enter no. of entities: \")) \n",
    "print(\"enter elements: \") \n",
    "a=[int(input())for i in range(n)] \n",
    "for i in a:\n",
    "    print(\"*\"*i)"
   ]
  },
  {
   "cell_type": "code",
   "execution_count": 18,
   "id": "76e79448-3714-46b2-bef3-5fa2de316c55",
   "metadata": {},
   "outputs": [
    {
     "name": "stdout",
     "output_type": "stream",
     "text": [
      "['snack', 'crocodile', 'zebra', 'lion', 'tiger', 'cat']\n"
     ]
    }
   ],
   "source": [
    "a=[\"cat\", \"tiger\", \"lion\", \"zebra\", \"crocodile\", \"snack\"]\n",
    "r=[]\n",
    "\n",
    "for i in range(len(a) - 1, -1, -1):\n",
    "    r.append(a[i])\n",
    "\n",
    "print(r)"
   ]
  },
  {
   "cell_type": "code",
   "execution_count": 19,
   "id": "95de62c9-850e-45a4-8205-fc50b9f442b3",
   "metadata": {},
   "outputs": [
    {
     "name": "stdout",
     "output_type": "stream",
     "text": [
      "Duplicate numbers: [5, 8, 18, 3]\n"
     ]
    }
   ],
   "source": [
    "m1=[5, 8, 4, 18, 8, 55, 6, 8, 3, 18, 5, 3, 44]\n",
    "d1=[]\n",
    "\n",
    "for num in m1:\n",
    "    if m1.count(num) > 1 and num not in d1:\n",
    "        d1.append(num)\n",
    "\n",
    "print(\"Duplicate numbers:\", d1)"
   ]
  },
  {
   "cell_type": "code",
   "execution_count": 25,
   "id": "6cc911c6-0872-455c-b7fb-338730430d26",
   "metadata": {},
   "outputs": [
    {
     "name": "stdout",
     "output_type": "stream",
     "text": [
      "False\n"
     ]
    }
   ],
   "source": [
    "list1 = [1, 2, 3, 4, 5]\n",
    "list2 = [6, 7, 8, 9,10]\n",
    "\n",
    "common= False\n",
    "\n",
    "for item1 in list1:\n",
    "    for item2 in list2:\n",
    "        if item1 == item2:\n",
    "            common=True\n",
    "            break\n",
    "    else:\n",
    "        continue\n",
    "    break\n",
    "\n",
    "if common:\n",
    "    print(True)\n",
    "else:\n",
    "    print(False)\n"
   ]
  },
  {
   "cell_type": "code",
   "execution_count": 28,
   "id": "32f1bf36-5061-450c-a289-5cbf5325d9b4",
   "metadata": {},
   "outputs": [
    {
     "name": "stdout",
     "output_type": "stream",
     "text": [
      "True\n"
     ]
    }
   ],
   "source": [
    "x=5\n",
    "a=[1,2,3,4,5]\n",
    "result=False\n",
    "for item in a:\n",
    "    if item==x:\n",
    "        result=True\n",
    "        break\n",
    "print(result)"
   ]
  },
  {
   "cell_type": "code",
   "execution_count": 29,
   "id": "f95f2dcc-0333-49dd-8802-917b81faca22",
   "metadata": {},
   "outputs": [
    {
     "name": "stdout",
     "output_type": "stream",
     "text": [
      "Hello Shivangi\n"
     ]
    }
   ],
   "source": [
    "name=\"Shivangi\"\n",
    "print(\"Hello\",name)"
   ]
  },
  {
   "cell_type": "code",
   "execution_count": 30,
   "id": "8aeb9dc8-87cf-4711-8254-5ced0519b697",
   "metadata": {},
   "outputs": [
    {
     "name": "stdin",
     "output_type": "stream",
     "text": [
      "Enter your first number:  3\n",
      "Enter your second number:  2\n"
     ]
    },
    {
     "name": "stdout",
     "output_type": "stream",
     "text": [
      "5\n",
      "the number is positive\n"
     ]
    }
   ],
   "source": [
    "a=int(input(\"Enter your first number: \"))\n",
    "b=int(input(\"Enter your second number: \"))\n",
    "print(a+b)\n",
    "if(a+b>0):\n",
    "    print(\"the number is positive\")\n",
    "else:\n",
    "    print(\"the number is negative\")"
   ]
  },
  {
   "cell_type": "code",
   "execution_count": 31,
   "id": "dd8cbc8f-75b6-4b13-af67-e563b0856dad",
   "metadata": {},
   "outputs": [
    {
     "name": "stdin",
     "output_type": "stream",
     "text": [
      "Enter your number:  4\n"
     ]
    },
    {
     "name": "stdout",
     "output_type": "stream",
     "text": [
      "Keep trying\n"
     ]
    }
   ],
   "source": [
    "num=int(input(\"Enter your number: \"))\n",
    "if(num==11):\n",
    "    print(\"correct!\") \n",
    "else:\n",
    "    print(\"Keep trying\")"
   ]
  },
  {
   "cell_type": "code",
   "execution_count": null,
   "id": "8186727a-ebf2-49cf-87c1-61e574193593",
   "metadata": {},
   "outputs": [],
   "source": [
    "firstname=(input(\"Enter your First Name: \"))\n",
    "lastname=(input(\"Enter your Last Name: \"))\n",
    "wholename=firstname+'.'+lastname\n",
    "print(wholename)"
   ]
  },
  {
   "cell_type": "code",
   "execution_count": null,
   "id": "6990de65-9999-40e0-ac0a-b1412058b29d",
   "metadata": {},
   "outputs": [],
   "source": [
    "s=(input(\"Enter your sentence: \"))\n",
    "s1=s.swapcase() \n",
    "print(s1)"
   ]
  },
  {
   "cell_type": "code",
   "execution_count": null,
   "id": "2a61b353-d291-4ca0-be03-55d4e25a8872",
   "metadata": {},
   "outputs": [],
   "source": [
    "n=int(input(\"enter your numbers: \"))\n",
    "numbers=[int(input())for i in range(n)]\n",
    "sum=0\n",
    "multi=1\n",
    "for i in numbers:\n",
    "    sum+=i \n",
    "    multi*=i\n",
    "print(numbers,sum)\n",
    "print(numbers,multi)"
   ]
  },
  {
   "cell_type": "code",
   "execution_count": null,
   "id": "1b554b70-1ac7-4508-b29a-90459f164098",
   "metadata": {},
   "outputs": [],
   "source": []
  },
  {
   "cell_type": "code",
   "execution_count": null,
   "id": "61b5c4ee-a21e-472d-b4bc-a291faf3761d",
   "metadata": {},
   "outputs": [],
   "source": []
  },
  {
   "cell_type": "code",
   "execution_count": null,
   "id": "4c3e72a1-d410-4e41-8e39-a4dad9f80f9a",
   "metadata": {},
   "outputs": [],
   "source": []
  },
  {
   "cell_type": "code",
   "execution_count": null,
   "id": "80abfd1b-6c77-40a6-b47e-8322946d1afb",
   "metadata": {},
   "outputs": [],
   "source": []
  },
  {
   "cell_type": "code",
   "execution_count": null,
   "id": "e511abbe-068d-42ef-99d1-7ea463d9163b",
   "metadata": {},
   "outputs": [],
   "source": []
  },
  {
   "cell_type": "code",
   "execution_count": null,
   "id": "8ae7b3c7-3e46-4d88-899e-b1e517dfc818",
   "metadata": {},
   "outputs": [],
   "source": []
  },
  {
   "cell_type": "code",
   "execution_count": null,
   "id": "9addb270-a98e-4bb8-a3c0-b07cd418b4e8",
   "metadata": {},
   "outputs": [],
   "source": []
  },
  {
   "cell_type": "code",
   "execution_count": null,
   "id": "c0d8d08f-4823-4c5d-99c4-3445e0e1e9cf",
   "metadata": {},
   "outputs": [],
   "source": []
  },
  {
   "cell_type": "code",
   "execution_count": null,
   "id": "d6231d99-b603-4b86-acac-62315e49c94d",
   "metadata": {},
   "outputs": [],
   "source": []
  },
  {
   "cell_type": "code",
   "execution_count": null,
   "id": "e02b37f8-edf8-4056-b12e-a64f18f9b079",
   "metadata": {},
   "outputs": [],
   "source": []
  },
  {
   "cell_type": "code",
   "execution_count": null,
   "id": "7ea2b428-282a-4d86-af9b-809749da4bfe",
   "metadata": {},
   "outputs": [],
   "source": []
  },
  {
   "cell_type": "code",
   "execution_count": null,
   "id": "ede8632f-7cd8-439b-9c7c-6e0b6b9305f3",
   "metadata": {},
   "outputs": [],
   "source": []
  },
  {
   "cell_type": "code",
   "execution_count": null,
   "id": "588296ab-5030-4bfa-a775-a737949baf03",
   "metadata": {},
   "outputs": [],
   "source": []
  },
  {
   "cell_type": "code",
   "execution_count": null,
   "id": "4bdccf7c-6271-4bf7-b02a-e25e07658825",
   "metadata": {},
   "outputs": [],
   "source": []
  },
  {
   "cell_type": "code",
   "execution_count": null,
   "id": "b6670f61-371a-4ebe-a9e4-efd316f63833",
   "metadata": {},
   "outputs": [],
   "source": []
  },
  {
   "cell_type": "code",
   "execution_count": null,
   "id": "20b06813-3e90-422e-8f24-9d73bbea58d0",
   "metadata": {},
   "outputs": [],
   "source": []
  }
 ],
 "metadata": {
  "kernelspec": {
   "display_name": "Python 3 (ipykernel)",
   "language": "python",
   "name": "python3"
  },
  "language_info": {
   "codemirror_mode": {
    "name": "ipython",
    "version": 3
   },
   "file_extension": ".py",
   "mimetype": "text/x-python",
   "name": "python",
   "nbconvert_exporter": "python",
   "pygments_lexer": "ipython3",
   "version": "3.12.2"
  }
 },
 "nbformat": 4,
 "nbformat_minor": 5
}
