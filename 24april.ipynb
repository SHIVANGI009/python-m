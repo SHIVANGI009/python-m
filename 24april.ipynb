{
  "nbformat": 4,
  "nbformat_minor": 0,
  "metadata": {
    "colab": {
      "provenance": []
    },
    "kernelspec": {
      "name": "python3",
      "display_name": "Python 3"
    },
    "language_info": {
      "name": "python"
    }
  },
  "cells": [
    {
      "cell_type": "code",
      "execution_count": 6,
      "metadata": {
        "colab": {
          "base_uri": "https://localhost:8080/"
        },
        "id": "6mhjnDSMMS78",
        "outputId": "eecc0e99-52e0-406e-b3e5-ba4d0ca3c880"
      },
      "outputs": [
        {
          "output_type": "stream",
          "name": "stdout",
          "text": [
            "1 \n",
            "2 4 \n",
            "3 6 12 \n"
          ]
        }
      ],
      "source": [
        "i=1\n",
        "for i in range(1,4):\n",
        "  for j in range(1,i+1):\n",
        "    print(i,end=\" \")\n",
        "    i*=2\n",
        "  print(\"\")"
      ]
    },
    {
      "cell_type": "code",
      "source": [
        "for i in range(1,4):\n",
        "  for j in range(1,i+1):\n",
        "    print(\"*\",end=\" \")\n",
        "\n",
        "  print(\"\")"
      ],
      "metadata": {
        "colab": {
          "base_uri": "https://localhost:8080/"
        },
        "id": "Sl0BeJH2PR98",
        "outputId": "2634e4f3-70a4-4d8a-bc6a-3652412a2be1"
      },
      "execution_count": 7,
      "outputs": [
        {
          "output_type": "stream",
          "name": "stdout",
          "text": [
            "* \n",
            "* * \n",
            "* * * \n"
          ]
        }
      ]
    },
    {
      "cell_type": "code",
      "source": [
        "for i in range(1,5):\n",
        "  for j in range(1,i):\n",
        "    print(\" \",end=\" \")\n",
        "  for k in range(i,5):\n",
        "    print(\"*\",end=\" \")\n",
        "\n",
        "  print(\"\")"
      ],
      "metadata": {
        "colab": {
          "base_uri": "https://localhost:8080/"
        },
        "id": "8Sb1tj4jSppN",
        "outputId": "d879c9cf-69cd-42c0-c2d9-567a1cae0f9d"
      },
      "execution_count": 12,
      "outputs": [
        {
          "output_type": "stream",
          "name": "stdout",
          "text": [
            "* * * * \n",
            "  * * * \n",
            "    * * \n",
            "      * \n"
          ]
        }
      ]
    },
    {
      "cell_type": "code",
      "source": [
        "for i in range(1,5):\n",
        "  n=1\n",
        "  for j in range(1,i):\n",
        "    print(\" \",end=\" \")\n",
        "  for k in range(i,5):\n",
        "    print(n,end=\" \")\n",
        "    n+=1\n",
        "  print(\"\")"
      ],
      "metadata": {
        "colab": {
          "base_uri": "https://localhost:8080/"
        },
        "id": "LVQjl0-kUXez",
        "outputId": "f7945cf6-1f1b-48fa-8dd9-ccfeacd80766"
      },
      "execution_count": 23,
      "outputs": [
        {
          "output_type": "stream",
          "name": "stdout",
          "text": [
            "1 2 3 4 \n",
            "  1 2 3 \n",
            "    1 2 \n",
            "      1 \n"
          ]
        }
      ]
    },
    {
      "cell_type": "code",
      "source": [
        "n=1\n",
        "for i in range(1,5):\n",
        "  for j in range(1,i):\n",
        "    print(\" \",end=\" \")\n",
        "  for k in range(i,5):\n",
        "    print(n,end=\" \")\n",
        "    n+=1\n",
        "  print(\"\")"
      ],
      "metadata": {
        "colab": {
          "base_uri": "https://localhost:8080/"
        },
        "id": "Na9ecPZxVoCE",
        "outputId": "3d5cccc5-97da-4a24-fcf8-6b6f038ad831"
      },
      "execution_count": 24,
      "outputs": [
        {
          "output_type": "stream",
          "name": "stdout",
          "text": [
            "1 2 3 4 \n",
            "  5 6 7 \n",
            "    8 9 \n",
            "      10 \n"
          ]
        }
      ]
    }
  ]
}