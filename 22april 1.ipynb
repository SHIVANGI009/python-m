{
 "cells": [
  {
   "cell_type": "code",
   "execution_count": 1,
   "id": "8a92100c-96dd-4527-b75a-17dbe79b2b32",
   "metadata": {},
   "outputs": [
    {
     "name": "stdout",
     "output_type": "stream",
     "text": [
      "240\n"
     ]
    }
   ],
   "source": [
    "sum=0\n",
    "for i in range(1,31):\n",
    "    if(i%2==0):\n",
    "        sum=sum+i \n",
    "print(sum)"
   ]
  },
  {
   "cell_type": "code",
   "execution_count": 3,
   "id": "5dc953c7-9374-4c68-9838-975bd073e547",
   "metadata": {},
   "outputs": [
    {
     "name": "stdout",
     "output_type": "stream",
     "text": [
      "40320\n"
     ]
    }
   ],
   "source": [
    "p1=1\n",
    "for i in range(8,0,-1):\n",
    "    p1*=i \n",
    "print(p1)"
   ]
  },
  {
   "cell_type": "code",
   "execution_count": 7,
   "id": "9a39c57a-2cea-4a5a-aca7-21fd5f248531",
   "metadata": {},
   "outputs": [
    {
     "name": "stdout",
     "output_type": "stream",
     "text": [
      "0 j\n",
      "1 a\n",
      "2 i\n",
      "3 p\n",
      "4 u\n",
      "5 r\n"
     ]
    }
   ],
   "source": [
    "city=\"jaipur\"\n",
    "for i in range(0,len(city) ):\n",
    "    print(i,city[i])"
   ]
  },
  {
   "cell_type": "code",
   "execution_count": 12,
   "id": "701283d0-824e-489c-9743-56af033d68e0",
   "metadata": {},
   "outputs": [
    {
     "name": "stdout",
     "output_type": "stream",
     "text": [
      "6\n"
     ]
    }
   ],
   "source": [
    "city=\"jaipur\"\n",
    "for i in range(0):\n",
    "    len1=len(city)\n",
    "print(len1)"
   ]
  },
  {
   "cell_type": "code",
   "execution_count": 15,
   "id": "197e30a0-593b-4591-9e31-00ac46da4f56",
   "metadata": {},
   "outputs": [],
   "source": [
    "city=\"jaipaura\"\n",
    "for i in range(0):\n",
    "    print(city.count(\"a\"))"
   ]
  },
  {
   "cell_type": "code",
   "execution_count": null,
   "id": "fa4d12cf-db73-434d-b444-23668dd0d9f0",
   "metadata": {},
   "outputs": [],
   "source": [
    "for i in ch=(input(\"enter your character: \")):\n",
    "    if(ch==\"a\" or ch==\"e\" or ch==\"i\" or ch==\"o)"
   ]
  }
 ],
 "metadata": {
  "kernelspec": {
   "display_name": "Python 3 (ipykernel)",
   "language": "python",
   "name": "python3"
  },
  "language_info": {
   "codemirror_mode": {
    "name": "ipython",
    "version": 3
   },
   "file_extension": ".py",
   "mimetype": "text/x-python",
   "name": "python",
   "nbconvert_exporter": "python",
   "pygments_lexer": "ipython3",
   "version": "3.12.2"
  }
 },
 "nbformat": 4,
 "nbformat_minor": 5
}
