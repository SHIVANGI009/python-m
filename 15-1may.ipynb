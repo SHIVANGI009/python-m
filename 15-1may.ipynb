{
 "cells": [
  {
   "cell_type": "code",
   "execution_count": 10,
   "id": "27d9eb72-7683-4be4-a61e-14e3d90cc71d",
   "metadata": {},
   "outputs": [
    {
     "name": "stdout",
     "output_type": "stream",
     "text": [
      "True\n"
     ]
    }
   ],
   "source": [
    "# create class\n",
    "class Num:\n",
    "    # constructor\n",
    "    def __init__(self,p1,p2):\n",
    "        self.p1=p1\n",
    "        self.p2=p2\n",
    "    # member function    \n",
    "    def sum(self):\n",
    "        sum_p1=self.p1+self.p1\n",
    "        sum_p2=self.p2+self.p2\n",
    "        # make condition 1\n",
    "        return sum_p1>=sum_p2\n",
    "\n",
    "# giving value\n",
    "p1=(10,20)\n",
    "p2=(30,40)\n",
    "# creation of object\n",
    "h1=Num(p1,p2)\n",
    "result=h1.sum()\n",
    "# condition 2\n",
    "if result:\n",
    "    print(\"False\")\n",
    "else:\n",
    "    print(\"True\")"
   ]
  }
 ],
 "metadata": {
  "kernelspec": {
   "display_name": "Python 3 (ipykernel)",
   "language": "python",
   "name": "python3"
  },
  "language_info": {
   "codemirror_mode": {
    "name": "ipython",
    "version": 3
   },
   "file_extension": ".py",
   "mimetype": "text/x-python",
   "name": "python",
   "nbconvert_exporter": "python",
   "pygments_lexer": "ipython3",
   "version": "3.12.2"
  }
 },
 "nbformat": 4,
 "nbformat_minor": 5
}
