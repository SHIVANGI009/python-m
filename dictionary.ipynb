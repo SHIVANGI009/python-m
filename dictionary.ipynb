{
 "cells": [
  {
   "cell_type": "code",
   "execution_count": 41,
   "id": "50ae860c-6b38-4ea0-8118-735fb4a166c0",
   "metadata": {},
   "outputs": [
    {
     "name": "stdout",
     "output_type": "stream",
     "text": [
      "{10: 40, 20: 50, 300: 60}\n"
     ]
    }
   ],
   "source": [
    "# using zip function\n",
    "l1=[10,20,300]\n",
    "l2=[40,50,60]\n",
    "result=list(zip(l1,l2))\n",
    "print(dict(result))"
   ]
  },
  {
   "cell_type": "code",
   "execution_count": 44,
   "id": "53d4e84c-aecd-4e56-bd0a-e2641a420a3c",
   "metadata": {},
   "outputs": [
    {
     "name": "stdout",
     "output_type": "stream",
     "text": [
      "{10: 40, 20: 50, 300: 60}\n"
     ]
    }
   ],
   "source": [
    "# without zip function\n",
    "l1=[10,20,300]\n",
    "l2=[40,50,60]\n",
    "d1={}\n",
    "for i in range(len(l1)):\n",
    "    d1[l1[i]]=l2[i]\n",
    "print(d1)"
   ]
  },
  {
   "cell_type": "code",
   "execution_count": 5,
   "id": "2edac1c7-959f-49b2-9654-2b25f672fad1",
   "metadata": {},
   "outputs": [
    {
     "name": "stdin",
     "output_type": "stream",
     "text": [
      "enter the element:  20\n"
     ]
    },
    {
     "name": "stdout",
     "output_type": "stream",
     "text": [
      "monica\n",
      "joe\n"
     ]
    }
   ],
   "source": [
    "# now take a input from the user for score variable\n",
    "# print the key who have more value then the score variable\n",
    "a=int(input(\"enter the element: \"))\n",
    "d1={'ross':21,'chandler':45,'phoebe':76,'monica':11,'rachael':20,'joe':10}\n",
    "for key,value in d1.items():\n",
    "    if(a>value):\n",
    "        print(key)"
   ]
  },
  {
   "cell_type": "code",
   "execution_count": 2,
   "id": "00ba7773-a519-44b2-b648-fba0eac41aa4",
   "metadata": {},
   "outputs": [
    {
     "name": "stdout",
     "output_type": "stream",
     "text": [
      "{10: 19, 11: 20}\n"
     ]
    }
   ],
   "source": [
    "# delete the key-value pair where the value is none\n",
    "d2={10:19,  11:20,  13:'NONE'}\n",
    "result={key: value for key,value in d2.items() if value != 'NONE'}\n",
    "print(result)"
   ]
  },
  {
   "cell_type": "code",
   "execution_count": 60,
   "id": "a26270e2-9d9e-43df-a058-0d70b0e19ea1",
   "metadata": {},
   "outputs": [
    {
     "name": "stdout",
     "output_type": "stream",
     "text": [
      "{'x': 25, 'y': 49, 'z': 100}\n"
     ]
    }
   ],
   "source": [
    "# print new dictionary as square of each key {x:25, y:49,  z:100}\n",
    "d3={\"x\":5, \"y\":7, \"z\":10}\n",
    "result={key: value**2 for key,value in d3.items()}\n",
    "print(result)"
   ]
  },
  {
   "cell_type": "code",
   "execution_count": 65,
   "id": "6676f13a-ebd1-43a6-8420-ad6e12109c90",
   "metadata": {},
   "outputs": [
    {
     "name": "stdout",
     "output_type": "stream",
     "text": [
      "{1: 1, 2: 8, 3: 27, 4: 64, 5: 125}\n"
     ]
    }
   ],
   "source": [
    "# create a dictionary as cube of number from 1 to 5\n",
    "# {1:1, 2:8, 3:27, 4:64, 5:125}\n",
    "l1=[1,2,3,4,5]\n",
    "d4={}\n",
    "for i in l1:\n",
    "    d4[i]=i**3\n",
    "print(d4)"
   ]
  },
  {
   "cell_type": "code",
   "execution_count": 3,
   "id": "dcb20d97-e974-4d7e-93ec-c005079587f5",
   "metadata": {},
   "outputs": [
    {
     "name": "stdout",
     "output_type": "stream",
     "text": [
      "{'average': 7.333333333333333, 'max_value': 10}\n"
     ]
    }
   ],
   "source": [
    "# get the ans in new dictionary {\"average\":7.3 , \"max\":10}\n",
    "d2={\"x\":5, \"y\":7, \"z\":10}\n",
    "total=0\n",
    "count=0\n",
    "first_key=list(d2.keys())[0]\n",
    "max_value=d2[first_key]\n",
    "\n",
    "for key in d2:\n",
    "    value=d2[key]\n",
    "    total+=value\n",
    "    count+=1\n",
    "\n",
    "    if value>max_value:\n",
    "        max_value=value\n",
    "\n",
    "average_value=total/count\n",
    "result={\"average\": average_value,\"max_value\":max_value}\n",
    "print(result)"
   ]
  },
  {
   "cell_type": "code",
   "execution_count": null,
   "id": "ed2d21e8-cdfe-4032-b0e0-4780e55779ed",
   "metadata": {},
   "outputs": [],
   "source": []
  }
 ],
 "metadata": {
  "kernelspec": {
   "display_name": "Python 3 (ipykernel)",
   "language": "python",
   "name": "python3"
  },
  "language_info": {
   "codemirror_mode": {
    "name": "ipython",
    "version": 3
   },
   "file_extension": ".py",
   "mimetype": "text/x-python",
   "name": "python",
   "nbconvert_exporter": "python",
   "pygments_lexer": "ipython3",
   "version": "3.12.6"
  }
 },
 "nbformat": 4,
 "nbformat_minor": 5
}
