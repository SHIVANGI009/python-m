{
  "nbformat": 4,
  "nbformat_minor": 0,
  "metadata": {
    "colab": {
      "provenance": []
    },
    "kernelspec": {
      "name": "python3",
      "display_name": "Python 3"
    },
    "language_info": {
      "name": "python"
    }
  },
  "cells": [
    {
      "cell_type": "code",
      "execution_count": 13,
      "metadata": {
        "colab": {
          "base_uri": "https://localhost:8080/"
        },
        "id": "9-8gAPUIW_PM",
        "outputId": "740365f3-476d-418f-fbb2-597eafb295c9"
      },
      "outputs": [
        {
          "output_type": "stream",
          "name": "stdout",
          "text": [
            "15\n"
          ]
        }
      ],
      "source": [
        "#indexing operator\n",
        "a=[5,10,15,20,25]\n",
        "print(a[2])"
      ]
    },
    {
      "cell_type": "code",
      "source": [
        "word=\"python\"\n",
        "print(word[3])"
      ],
      "metadata": {
        "colab": {
          "base_uri": "https://localhost:8080/"
        },
        "id": "tWiFcm8aZCbE",
        "outputId": "d17ce532-4e50-4137-f24f-a9bc4f1976ec"
      },
      "execution_count": 14,
      "outputs": [
        {
          "output_type": "stream",
          "name": "stdout",
          "text": [
            "h\n"
          ]
        }
      ]
    },
    {
      "cell_type": "code",
      "source": [
        "colors=(\"red\", \"green\", \"blue\")\n",
        "print(colors[2])"
      ],
      "metadata": {
        "colab": {
          "base_uri": "https://localhost:8080/"
        },
        "id": "OOQuX9lhaA-I",
        "outputId": "b1832a8a-53a5-4c79-c701-32c4034beb6b"
      },
      "execution_count": 19,
      "outputs": [
        {
          "output_type": "stream",
          "name": "stdout",
          "text": [
            "blue\n"
          ]
        }
      ]
    },
    {
      "cell_type": "code",
      "source": [
        "text = (1, 2, 3, 4, 5, 6, 7, 8, 9, 10)\n",
        "print(text[-5])"
      ],
      "metadata": {
        "colab": {
          "base_uri": "https://localhost:8080/"
        },
        "id": "yfl0ICMdaJ8L",
        "outputId": "cc4f2e71-057d-42fb-9f2c-f298953a3288"
      },
      "execution_count": 24,
      "outputs": [
        {
          "output_type": "stream",
          "name": "stdout",
          "text": [
            "6\n"
          ]
        }
      ]
    },
    {
      "cell_type": "code",
      "source": [
        "matrix = [[1, 2, 3], [4, 5, 6], [7, 8, 9]]\n",
        "print(matrix[2])"
      ],
      "metadata": {
        "colab": {
          "base_uri": "https://localhost:8080/"
        },
        "id": "vqc8vXHVagTZ",
        "outputId": "c12d4dcf-d745-4fcd-b9c6-94716d3c81f3"
      },
      "execution_count": 26,
      "outputs": [
        {
          "output_type": "stream",
          "name": "stdout",
          "text": [
            "[7, 8, 9]\n"
          ]
        }
      ]
    },
    {
      "cell_type": "code",
      "source": [
        "data = [10, [20, 30], 40, [50, 60, [70, 80, 90]]]\n",
        "print(data[3])"
      ],
      "metadata": {
        "colab": {
          "base_uri": "https://localhost:8080/"
        },
        "id": "VrYpjdSfbL4K",
        "outputId": "48ecacfd-7ad4-4d93-daa7-05d367d14442"
      },
      "execution_count": 29,
      "outputs": [
        {
          "output_type": "stream",
          "name": "stdout",
          "text": [
            "[50, 60, [70, 80, 90]]\n"
          ]
        }
      ]
    },
    {
      "cell_type": "code",
      "source": [
        "code = \"Python3.9.2\"\n",
        "print(code[-4])"
      ],
      "metadata": {
        "colab": {
          "base_uri": "https://localhost:8080/"
        },
        "id": "74K05KJ0bgnJ",
        "outputId": "a26456b5-f526-4890-a866-9a6e5e0066b1"
      },
      "execution_count": 30,
      "outputs": [
        {
          "output_type": "stream",
          "name": "stdout",
          "text": [
            ".\n"
          ]
        }
      ]
    },
    {
      "cell_type": "code",
      "source": [
        "x = [[1, 2], [3, 4], [5, 6]]\n",
        "print(x[2])"
      ],
      "metadata": {
        "colab": {
          "base_uri": "https://localhost:8080/"
        },
        "id": "hdBEJlHfbu2M",
        "outputId": "6863c321-a25d-4eaf-a0e0-93d180c90b07"
      },
      "execution_count": 33,
      "outputs": [
        {
          "output_type": "stream",
          "name": "stdout",
          "text": [
            "[5, 6]\n"
          ]
        }
      ]
    },
    {
      "cell_type": "code",
      "source": [
        "#slicing operator\n",
        "a=[1,2,3,4,5,6,7,8,9]\n",
        "print(a[0:9:7])"
      ],
      "metadata": {
        "colab": {
          "base_uri": "https://localhost:8080/"
        },
        "id": "900mUs7Wb6pc",
        "outputId": "adadf7e7-80d8-4399-f277-fbc1c0e83df3"
      },
      "execution_count": 41,
      "outputs": [
        {
          "output_type": "stream",
          "name": "stdout",
          "text": [
            "[1, 8]\n"
          ]
        }
      ]
    },
    {
      "cell_type": "code",
      "source": [
        "num=[5,10,15,20,25]\n",
        "print(num[1:3])"
      ],
      "metadata": {
        "colab": {
          "base_uri": "https://localhost:8080/"
        },
        "id": "KsKY_0h8dYh6",
        "outputId": "c486a50d-b15c-4331-f09e-0022d66586aa"
      },
      "execution_count": 42,
      "outputs": [
        {
          "output_type": "stream",
          "name": "stdout",
          "text": [
            "[10, 15]\n"
          ]
        }
      ]
    },
    {
      "cell_type": "code",
      "source": [
        "w='python'\n",
        "print(w[2:5])"
      ],
      "metadata": {
        "colab": {
          "base_uri": "https://localhost:8080/"
        },
        "id": "Zx-12XEkeAAK",
        "outputId": "20a63f2f-4146-4b3a-8ba0-6b30dd973646"
      },
      "execution_count": 43,
      "outputs": [
        {
          "output_type": "stream",
          "name": "stdout",
          "text": [
            "tho\n"
          ]
        }
      ]
    },
    {
      "cell_type": "code",
      "source": [
        "c=(\"red\", \"green\", \"blue\", \"yellow\", \"orange\")\n",
        "print(c[1:4:2])"
      ],
      "metadata": {
        "colab": {
          "base_uri": "https://localhost:8080/"
        },
        "id": "tvSQCyoeeRoq",
        "outputId": "4e715406-c932-4a7c-8b5a-dc715bae1671"
      },
      "execution_count": 44,
      "outputs": [
        {
          "output_type": "stream",
          "name": "stdout",
          "text": [
            "('green', 'yellow')\n"
          ]
        }
      ]
    },
    {
      "cell_type": "code",
      "source": [
        "g=[\"A\", \"B\", \"C\", \"D\", \"F\"]\n",
        "print(g[-3:])"
      ],
      "metadata": {
        "colab": {
          "base_uri": "https://localhost:8080/"
        },
        "id": "sS4B7BzTelIZ",
        "outputId": "f6fca0a7-e8db-4fdb-b97f-7b6ceaf7c759"
      },
      "execution_count": 46,
      "outputs": [
        {
          "output_type": "stream",
          "name": "stdout",
          "text": [
            "['C', 'D', 'F']\n"
          ]
        }
      ]
    },
    {
      "cell_type": "code",
      "source": [
        "s=\"Hello, world!\"\n",
        "print(s[2:9:2])"
      ],
      "metadata": {
        "colab": {
          "base_uri": "https://localhost:8080/"
        },
        "id": "zmP7F-gqe0M4",
        "outputId": "8200e48c-1bba-4c10-ff49-ac533bf0ec09"
      },
      "execution_count": 47,
      "outputs": [
        {
          "output_type": "stream",
          "name": "stdout",
          "text": [
            "lo o\n"
          ]
        }
      ]
    },
    {
      "cell_type": "code",
      "source": [
        "fruits = [\"apple\", \"banana\", \"orange\", \"grape\", \"kiwi\"]\n",
        "print(fruits[1::2])"
      ],
      "metadata": {
        "colab": {
          "base_uri": "https://localhost:8080/"
        },
        "id": "mSFwQLwLfpY1",
        "outputId": "d124bfcc-2ec6-4f8c-bf69-3a97a95cd1cd"
      },
      "execution_count": 49,
      "outputs": [
        {
          "output_type": "stream",
          "name": "stdout",
          "text": [
            "['banana', 'grape']\n"
          ]
        }
      ]
    },
    {
      "cell_type": "code",
      "source": [
        "numbers = (1, 2, 3, 4, 5, 6, 7, 8, 9, 10)\n",
        "print(numbers[2:8:3])"
      ],
      "metadata": {
        "colab": {
          "base_uri": "https://localhost:8080/"
        },
        "id": "n372lU2xf_OU",
        "outputId": "a12b3426-3fbd-4dbc-ea71-552928dbd838"
      },
      "execution_count": 52,
      "outputs": [
        {
          "output_type": "stream",
          "name": "stdout",
          "text": [
            "(3, 6)\n"
          ]
        }
      ]
    },
    {
      "cell_type": "code",
      "source": [],
      "metadata": {
        "id": "uVpJHEz1gaWj"
      },
      "execution_count": null,
      "outputs": []
    }
  ]
}