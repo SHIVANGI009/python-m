{
 "cells": [
  {
   "cell_type": "code",
   "execution_count": 2,
   "id": "e129d280-ead5-458e-bfe5-92b7a4974737",
   "metadata": {},
   "outputs": [
    {
     "name": "stdout",
     "output_type": "stream",
     "text": [
      "hero hero\n",
      "bajaj hero\n"
     ]
    }
   ],
   "source": [
    "class BikeDesign:\n",
    "    company=\"hero\"\n",
    "    model=\"splendor\"\n",
    "\n",
    "b1=BikeDesign()\n",
    "print(b1.company,BikeDesign.company)\n",
    "b1.company=\"bajaj\"\n",
    "print(b1.company,BikeDesign.company)"
   ]
  },
  {
   "cell_type": "code",
   "execution_count": 14,
   "id": "279a5fd6-7c9b-4d7b-9d61-1677fe9894ef",
   "metadata": {},
   "outputs": [
    {
     "name": "stdout",
     "output_type": "stream",
     "text": [
      "splendor\n"
     ]
    }
   ],
   "source": [
    "class BikeDesign:\n",
    "    company=\"hero\"\n",
    "    def __init__(self,model):\n",
    "        self.model=model  # self.model = instance variable and model = local variable\n",
    "b1=BikeDesign(\"splendor\")\n",
    "print(b1.model)"
   ]
  },
  {
   "cell_type": "code",
   "execution_count": 24,
   "id": "324733cd-b3ac-4ec6-91e3-3310020e3f6f",
   "metadata": {},
   "outputs": [
    {
     "data": {
      "text/plain": [
       "'shivangi'"
      ]
     },
     "execution_count": 24,
     "metadata": {},
     "output_type": "execute_result"
    }
   ],
   "source": [
    "class Student:\n",
    "    college=\"regex\"\n",
    "    def __init__(self,sid,name,email):\n",
    "        self.sid=sid\n",
    "        self.name=name\n",
    "        self.email=email\n",
    "    def info(self):\n",
    "        print(self.sid,self.name)\n",
    "\n",
    "class CollegeAdmission(Student):\n",
    "    def __init__(self,sid,name,email,subject):\n",
    "        self.subject=subject\n",
    "        super().__init__(sid,name,email)\n",
    "c1=CollegeAdmission(11,\"shivangi\",\"shivangi@111gmail.com\",\"Science\")\n",
    "c1.name"
   ]
  },
  {
   "cell_type": "code",
   "execution_count": null,
   "id": "9d306940-994a-4ac3-9e37-efe073e00507",
   "metadata": {},
   "outputs": [],
   "source": []
  }
 ],
 "metadata": {
  "kernelspec": {
   "display_name": "Python 3 (ipykernel)",
   "language": "python",
   "name": "python3"
  },
  "language_info": {
   "codemirror_mode": {
    "name": "ipython",
    "version": 3
   },
   "file_extension": ".py",
   "mimetype": "text/x-python",
   "name": "python",
   "nbconvert_exporter": "python",
   "pygments_lexer": "ipython3",
   "version": "3.12.6"
  }
 },
 "nbformat": 4,
 "nbformat_minor": 5
}
