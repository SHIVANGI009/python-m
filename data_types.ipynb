{
 "cells": [
  {
   "cell_type": "code",
   "execution_count": 1,
   "id": "7023542e-67b6-4c0c-b66e-a601fec2eafd",
   "metadata": {},
   "outputs": [
    {
     "name": "stdout",
     "output_type": "stream",
     "text": [
      "[80, 60, 20, 10, 9]\n"
     ]
    }
   ],
   "source": [
    "mylist=[10,20,60,80,9]\n",
    "for i in range(0,len(mylist)):\n",
    "    for j in range(i+1,len(mylist)):\n",
    "        if(mylist[i]<mylist[j]):\n",
    "            mylist[i],mylist[j]=mylist[j],mylist[i]\n",
    "print(mylist)"
   ]
  },
  {
   "cell_type": "code",
   "execution_count": 6,
   "id": "757a69c5-f05b-4657-84ca-2ffbfffc9e9e",
   "metadata": {},
   "outputs": [
    {
     "name": "stdout",
     "output_type": "stream",
     "text": [
      "5\n"
     ]
    }
   ],
   "source": [
    "max1=0\n",
    "prices = [7,1,5,3,6,4]\n",
    "for i in range(0,len(prices)):\n",
    "    for j in range(i+1,len(prices)):\n",
    "        if(prices[j]-prices[i]>max1):\n",
    "            max1=prices[j]-prices[i]\n",
    "\n",
    "print(max1)"
   ]
  },
  {
   "cell_type": "code",
   "execution_count": 15,
   "id": "1af87fd6-584a-4f33-a193-94bb8e305b2d",
   "metadata": {},
   "outputs": [
    {
     "name": "stdout",
     "output_type": "stream",
     "text": [
      "[0, 1, 2, 3, 4, 5, 7]\n"
     ]
    }
   ],
   "source": [
    "# sort list but using one loop\n",
    "l1=[1,2,3,5,4,0,7]\n",
    "length=len(l1)\n",
    "j=0\n",
    "while j<length-1:\n",
    "    if(l1[j]>l1[j+1]):\n",
    "        l1[j],l1[j+1]=l1[j+1],l1[j]\n",
    "        j=0\n",
    "    else:\n",
    "        j+=1\n",
    "print(l1)"
   ]
  },
  {
   "cell_type": "code",
   "execution_count": 21,
   "id": "6e7f080d-3815-48de-9f9f-e4b3d0c488dc",
   "metadata": {},
   "outputs": [
    {
     "name": "stdout",
     "output_type": "stream",
     "text": [
      "[1, 2]\n"
     ]
    }
   ],
   "source": [
    "# two sum\n",
    "nums = [3,2,4]\n",
    "target = 6\n",
    "for i in range(0,len(nums)):\n",
    "    for j in range(i+1,len(nums)):\n",
    "        if(nums[i]+nums[j]==target):\n",
    "            print([i,j])"
   ]
  },
  {
   "cell_type": "code",
   "execution_count": 63,
   "id": "83a3c17c-9bc2-4343-8585-d73d5623c75a",
   "metadata": {},
   "outputs": [
    {
     "name": "stdout",
     "output_type": "stream",
     "text": [
      "[10]\n"
     ]
    }
   ],
   "source": [
    "# plus one\n",
    "digits=[9]\n",
    "b=0\n",
    "b=digits.pop()\n",
    "b+=1\n",
    "digits.append(b)\n",
    "print(digits)"
   ]
  },
  {
   "cell_type": "code",
   "execution_count": 51,
   "id": "629d064d-ddc7-4244-b0fd-637b13021cfc",
   "metadata": {},
   "outputs": [
    {
     "name": "stdout",
     "output_type": "stream",
     "text": [
      "{1, 2, 3, 4, 5, 6, 7, 8, 9}\n"
     ]
    }
   ],
   "source": [
    "# you have been given two list having same number of elements and have to merge both the list by removing the \n",
    "# duplicates element but with a single loop dont use zip and enumerate function \n",
    "list1=[1,2,3,4,5]\n",
    "list2=[5,6,7,8,9]\n",
    "result=list1+list2\n",
    "print(set(result))"
   ]
  },
  {
   "cell_type": "code",
   "execution_count": 52,
   "id": "0c1f096c-cfc6-439a-9608-bbe76a5fb447",
   "metadata": {},
   "outputs": [
    {
     "name": "stdout",
     "output_type": "stream",
     "text": [
      "[1, 2, 3, 4, 5, 6, 7, 8, 9]\n"
     ]
    }
   ],
   "source": [
    "list1=[1,2,3,4,5]\n",
    "list2=[5,6,7,8,9]\n",
    "result=list1+list2\n",
    "newlist=[]\n",
    "for i in result:\n",
    "    if(i not in newlist):\n",
    "        newlist.append(i)\n",
    "print(newlist)"
   ]
  },
  {
   "cell_type": "code",
   "execution_count": 74,
   "id": "27a6a280-d607-44b6-9f6a-d61afdbd8b62",
   "metadata": {},
   "outputs": [
    {
     "name": "stdout",
     "output_type": "stream",
     "text": [
      "-1 -1 2\n",
      "-1 0 1\n",
      "-1 0 1\n"
     ]
    }
   ],
   "source": [
    "# 3 sum\n",
    "nums=[-1,0,1,2,-1,-4]\n",
    "nums.sort()\n",
    "for i in range(0,len(nums)-2):\n",
    "    start=i+1\n",
    "    end=len(nums)-1\n",
    "    while (start<end):\n",
    "        if(nums[i] + nums[start] + nums[end] == 0):\n",
    "            print(nums[i],nums[start],nums[end])\n",
    "            start+=1\n",
    "            end-=1\n",
    "        elif(nums[i] + nums[start] + nums[end]>0):\n",
    "            end-=1\n",
    "        else:\n",
    "            start+=1"
   ]
  },
  {
   "cell_type": "code",
   "execution_count": 13,
   "id": "f1e70e66-6969-4f23-bce8-3f1904ce81f8",
   "metadata": {},
   "outputs": [],
   "source": [
    "a={\"name\":\"shivangi\",\"rollno\":21}"
   ]
  },
  {
   "cell_type": "code",
   "execution_count": 4,
   "id": "4ccf88c0-0818-4d11-bf09-98a2b590b1ca",
   "metadata": {},
   "outputs": [
    {
     "name": "stdout",
     "output_type": "stream",
     "text": [
      "[0, 1, 2, 3, 4]\n"
     ]
    }
   ],
   "source": [
    "# list comprehension is used to declare list in one line\n",
    "a=[i for i in range (5)]\n",
    "print(a)"
   ]
  },
  {
   "cell_type": "code",
   "execution_count": 7,
   "id": "dc8d43e5-15ca-419c-9fcb-542c50f90895",
   "metadata": {},
   "outputs": [
    {
     "name": "stdout",
     "output_type": "stream",
     "text": [
      "{0, 2, 4, 6, 8}\n"
     ]
    }
   ],
   "source": [
    "# set comprehension is used to declare set in one line\n",
    "b={i*2 for i in range(5)}\n",
    "print(b)"
   ]
  },
  {
   "cell_type": "code",
   "execution_count": 10,
   "id": "5fe15607-a4dd-4314-ab95-54851fef71a6",
   "metadata": {},
   "outputs": [
    {
     "name": "stdout",
     "output_type": "stream",
     "text": [
      "{0: 0, 1: 1, 2: 4, 3: 9, 4: 16}\n"
     ]
    }
   ],
   "source": [
    "# dictionary comprehension is used to declare dictionary in one line\n",
    "c={i: i**2 for i in range(5)}\n",
    "print(c)"
   ]
  },
  {
   "cell_type": "code",
   "execution_count": 12,
   "id": "651fdc7a-0e69-472e-b3a1-ff721d280b33",
   "metadata": {},
   "outputs": [],
   "source": [
    "# We use comprehension because it allows us to create lists, sets, and dictionaries in a shorter and more readable way. \n",
    "# It is also faster in execution than normal loops."
   ]
  },
  {
   "cell_type": "code",
   "execution_count": null,
   "id": "9ee0d18f-3b0c-46c5-b00a-469879e57599",
   "metadata": {},
   "outputs": [],
   "source": []
  }
 ],
 "metadata": {
  "kernelspec": {
   "display_name": "Python 3 (ipykernel)",
   "language": "python",
   "name": "python3"
  },
  "language_info": {
   "codemirror_mode": {
    "name": "ipython",
    "version": 3
   },
   "file_extension": ".py",
   "mimetype": "text/x-python",
   "name": "python",
   "nbconvert_exporter": "python",
   "pygments_lexer": "ipython3",
   "version": "3.12.6"
  }
 },
 "nbformat": 4,
 "nbformat_minor": 5
}
