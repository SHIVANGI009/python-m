{
 "cells": [
  {
   "cell_type": "code",
   "execution_count": 2,
   "id": "56b84fc4-91fa-4a27-b63d-75967b3af9ed",
   "metadata": {},
   "outputs": [
    {
     "name": "stdout",
     "output_type": "stream",
     "text": [
      "hello world\n"
     ]
    }
   ],
   "source": [
    "a=open(\"sv.txt\")\n",
    "out=a.read()\n",
    "a.close()\n",
    "print(out)"
   ]
  },
  {
   "cell_type": "code",
   "execution_count": 5,
   "id": "188bc1e1-be15-4dac-bfb8-6572bbdbf061",
   "metadata": {},
   "outputs": [
    {
     "name": "stdout",
     "output_type": "stream",
     "text": [
      "2\n"
     ]
    }
   ],
   "source": [
    "a=open(\"sv.txt\",\"w\")\n",
    "out=a.write(\"$$\") \n",
    "a.close() \n",
    "print(out)  "
   ]
  },
  {
   "cell_type": "code",
   "execution_count": 6,
   "id": "52be767e-f707-449f-992f-03719f8f9a8f",
   "metadata": {},
   "outputs": [
    {
     "name": "stdout",
     "output_type": "stream",
     "text": [
      "llo world\n"
     ]
    }
   ],
   "source": [
    "a=open(\"sv.txt\",\"r+\")\n",
    "a.write(\"$$\")\n",
    "print(a.read())\n",
    "a.close()"
   ]
  },
  {
   "cell_type": "code",
   "execution_count": 12,
   "id": "fdfcb3c4-cd68-4aed-8fd3-340e9305db5c",
   "metadata": {},
   "outputs": [
    {
     "name": "stdout",
     "output_type": "stream",
     "text": [
      "17\n",
      "8\n",
      "vashistha\n"
     ]
    }
   ],
   "source": [
    "a=open(\"sv.txt\",\"w+\")\n",
    "a.write(\"shivangivashistha\")\n",
    "print(a.tell()) # checks position\n",
    "a.seek(8) # change the position of cursor \n",
    "print(a.tell())\n",
    "print(a.read()) \n",
    "a.close()"
   ]
  },
  {
   "cell_type": "code",
   "execution_count": 14,
   "id": "52b60193-3de5-46ab-96c4-b5a900aa3aee",
   "metadata": {},
   "outputs": [
    {
     "name": "stdout",
     "output_type": "stream",
     "text": [
      "shivangivashistha\n",
      "shailysharma\n",
      "sv\n"
     ]
    }
   ],
   "source": [
    "with open(\"sv.txt\",\"r\") as a:\n",
    "    x=a.read()\n",
    "\n",
    "print(x)"
   ]
  },
  {
   "cell_type": "code",
   "execution_count": 15,
   "id": "7308b80d-086e-41f1-ab63-95303c7723f4",
   "metadata": {},
   "outputs": [
    {
     "name": "stdout",
     "output_type": "stream",
     "text": [
      "shivangivashistha\n",
      "\n",
      "shailysharma\n",
      "\n",
      "sv\n"
     ]
    }
   ],
   "source": [
    "with open(\"sv.txt\",\"r\") as a:\n",
    "    for line in a:\n",
    "        print(line)"
   ]
  },
  {
   "cell_type": "code",
   "execution_count": 17,
   "id": "74ffe8aa-b0e9-4c7a-b5b9-3afb8d922098",
   "metadata": {},
   "outputs": [
    {
     "name": "stdout",
     "output_type": "stream",
     "text": [
      "shivangivashistha\n",
      "shailysharma\n",
      "sv\n"
     ]
    }
   ],
   "source": [
    "with open(\"sv.txt\",\"r\") as a:\n",
    "    for line in a:\n",
    "        print(line.strip())"
   ]
  },
  {
   "cell_type": "code",
   "execution_count": 18,
   "id": "850267a1-e669-493e-a5db-0c3e087793af",
   "metadata": {},
   "outputs": [
    {
     "name": "stdout",
     "output_type": "stream",
     "text": [
      "['shivangi', 'vashistha', '1']\n"
     ]
    }
   ],
   "source": [
    "import csv\n",
    "a=open(\"sv.txt\")\n",
    "csv_a=csv.reader(a)\n",
    "for line in csv_a:\n",
    "    print(line)\n",
    "    break "
   ]
  }
 ],
 "metadata": {
  "kernelspec": {
   "display_name": "Python 3 (ipykernel)",
   "language": "python",
   "name": "python3"
  },
  "language_info": {
   "codemirror_mode": {
    "name": "ipython",
    "version": 3
   },
   "file_extension": ".py",
   "mimetype": "text/x-python",
   "name": "python",
   "nbconvert_exporter": "python",
   "pygments_lexer": "ipython3",
   "version": "3.12.2"
  }
 },
 "nbformat": 4,
 "nbformat_minor": 5
}
