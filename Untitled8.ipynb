{
  "nbformat": 4,
  "nbformat_minor": 0,
  "metadata": {
    "colab": {
      "provenance": []
    },
    "kernelspec": {
      "name": "python3",
      "display_name": "Python 3"
    },
    "language_info": {
      "name": "python"
    }
  },
  "cells": [
    {
      "cell_type": "code",
      "execution_count": 1,
      "metadata": {
        "colab": {
          "base_uri": "https://localhost:8080/"
        },
        "id": "-KjdQPvggdep",
        "outputId": "6eebc64a-43a6-4b02-d329-8ce01b5e96ad"
      },
      "outputs": [
        {
          "output_type": "stream",
          "name": "stdout",
          "text": [
            "['h', '', ' sh', 'vang', ' h', '', '']\n"
          ]
        }
      ],
      "source": [
        "data=\"hii shivangi hii\"\n",
        "x=data.split(\"i\")\n",
        "print(x)"
      ]
    },
    {
      "cell_type": "code",
      "source": [
        "data=\"hii shivangi hey hello hey user user hey\"\n",
        "mylist=data.split()\n",
        "newlist=[]\n",
        "for i in mylist:\n",
        "  if(i not in newlist):\n",
        "    newlist.append(i)\n",
        "print(newlist)"
      ],
      "metadata": {
        "colab": {
          "base_uri": "https://localhost:8080/"
        },
        "id": "Y3PJwvppiHvj",
        "outputId": "fa33d919-f6f0-4dba-b1ed-64b7d162b7ff"
      },
      "execution_count": 7,
      "outputs": [
        {
          "output_type": "stream",
          "name": "stdout",
          "text": [
            "['hii', 'shivangi', 'hey', 'hello', 'user']\n"
          ]
        }
      ]
    },
    {
      "cell_type": "code",
      "source": [
        "mytuple=11\n",
        "print(type(mytuple))"
      ],
      "metadata": {
        "colab": {
          "base_uri": "https://localhost:8080/"
        },
        "id": "pu-DSSKZii5Z",
        "outputId": "fdb8e0f9-6120-493f-9b9f-05f7e8eca785"
      },
      "execution_count": 8,
      "outputs": [
        {
          "output_type": "stream",
          "name": "stdout",
          "text": [
            "<class 'int'>\n"
          ]
        }
      ]
    },
    {
      "cell_type": "code",
      "source": [
        "mytuple=(\"10,20,30\")\n",
        "id(mytuple)"
      ],
      "metadata": {
        "colab": {
          "base_uri": "https://localhost:8080/"
        },
        "id": "CPTqnQn2lWBo",
        "outputId": "e4a3bef4-14a5-4637-ece5-2e226b1c9864"
      },
      "execution_count": 10,
      "outputs": [
        {
          "output_type": "execute_result",
          "data": {
            "text/plain": [
              "137069647815536"
            ]
          },
          "metadata": {},
          "execution_count": 10
        }
      ]
    },
    {
      "cell_type": "code",
      "source": [
        "mytuple=(\"60,50,40\")\n",
        "id(mytuple)"
      ],
      "metadata": {
        "colab": {
          "base_uri": "https://localhost:8080/"
        },
        "id": "cryCyhMdmCHx",
        "outputId": "1d8f191c-5972-4522-f53a-f9e1f1eab411"
      },
      "execution_count": 11,
      "outputs": [
        {
          "output_type": "execute_result",
          "data": {
            "text/plain": [
              "137070021814000"
            ]
          },
          "metadata": {},
          "execution_count": 11
        }
      ]
    },
    {
      "cell_type": "code",
      "source": [
        "x=153\n",
        "total=0\n",
        "original=x\n",
        "while(x>0):\n",
        "  rem=x%10\n",
        "  total+=rem**3\n",
        "  x=x//10\n",
        "if(total==original):\n",
        "  print(\"Armstrong number\")\n",
        "else:\n",
        "  print(\"not armstrong\")\n",
        "print(total)"
      ],
      "metadata": {
        "colab": {
          "base_uri": "https://localhost:8080/"
        },
        "id": "dTKMzqopmLkI",
        "outputId": "a9660328-9375-4445-c514-d2a13845a3cb"
      },
      "execution_count": 15,
      "outputs": [
        {
          "output_type": "stream",
          "name": "stdout",
          "text": [
            "Armstrong number\n",
            "153\n"
          ]
        }
      ]
    }
  ]
}