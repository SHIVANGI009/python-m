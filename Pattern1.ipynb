{
 "cells": [
  {
   "cell_type": "code",
   "execution_count": 4,
   "id": "b4eb50cd-96df-41f1-a2ef-0ac5cb891f10",
   "metadata": {},
   "outputs": [
    {
     "name": "stdout",
     "output_type": "stream",
     "text": [
      "65 \n",
      "66 67 \n",
      "68 69 70 \n"
     ]
    }
   ],
   "source": [
    "num=4\n",
    "n=65\n",
    "for i in range(1,num):\n",
    "    for j in range(1,i+1):\n",
    "        print(n,end=\" \")\n",
    "        n+=1\n",
    "    print()"
   ]
  },
  {
   "cell_type": "code",
   "execution_count": 7,
   "id": "1a02c3e1-7d88-44d4-961a-594cc53f03ed",
   "metadata": {},
   "outputs": [
    {
     "name": "stdout",
     "output_type": "stream",
     "text": [
      "A \n",
      "B C \n",
      "D E F \n"
     ]
    }
   ],
   "source": [
    "num=4\n",
    "n=65\n",
    "for i in range(1,num):\n",
    "    for j in range(1,i+1):\n",
    "        print(chr(n),end=\" \")\n",
    "        n+=1\n",
    "    print()"
   ]
  },
  {
   "cell_type": "code",
   "execution_count": 8,
   "id": "c4f61d68-8d9b-465f-bfc1-c8a841147ca8",
   "metadata": {},
   "outputs": [
    {
     "name": "stdout",
     "output_type": "stream",
     "text": [
      "* * * * \n",
      "* * * \n",
      "* * \n",
      "* \n"
     ]
    }
   ],
   "source": [
    "num=4\n",
    "for i in range(num,0,-1):\n",
    "    for j in range(1,i+1):\n",
    "        print(\"*\",end=\" \")\n",
    "    print()"
   ]
  },
  {
   "cell_type": "code",
   "execution_count": 10,
   "id": "797a6905-9f5f-4eba-b7f9-1485ba4cf190",
   "metadata": {},
   "outputs": [
    {
     "name": "stdout",
     "output_type": "stream",
     "text": [
      "0 1 2 3 4 \n",
      "0 1 2 3 \n",
      "0 1 2 \n",
      "0 1 \n"
     ]
    }
   ],
   "source": [
    "num=4\n",
    "for i in range(num,0,-1):\n",
    "    for j in range(0,i+1):\n",
    "        print(j,end=\" \")\n",
    "    print()"
   ]
  },
  {
   "cell_type": "code",
   "execution_count": 14,
   "id": "bcabc5e8-199d-48d0-9b7c-48114de45c91",
   "metadata": {},
   "outputs": [
    {
     "name": "stdout",
     "output_type": "stream",
     "text": [
      "10 11 12 13 14 \n",
      "15 16 17 18 \n",
      "19 20 21 \n",
      "22 23 \n",
      "24 \n",
      "\n"
     ]
    }
   ],
   "source": [
    "num=6\n",
    "n=10\n",
    "for i in range(num,0,-1):\n",
    "    for j in range(1,i):\n",
    "        print(n,end=\" \")\n",
    "        n+=1\n",
    "    print()"
   ]
  },
  {
   "cell_type": "code",
   "execution_count": 46,
   "id": "04e56d79-3e6b-4565-b959-f1b57cceb6df",
   "metadata": {},
   "outputs": [
    {
     "name": "stdout",
     "output_type": "stream",
     "text": [
      "5 6 7 8 \n",
      "4 5 6 \n",
      "3 4 \n",
      "2 \n"
     ]
    }
   ],
   "source": [
    "# 1 2 3 4 \n",
    "# 2 3 4 \n",
    "# 3 4 \n",
    "# 4 \n",
    "num=4\n",
    "n=1\n",
    "for i in range(num,0,-1):\n",
    "    for j in range(1,i+1):\n",
    "        print(j+i,end=\" \")\n",
    "        n+=1\n",
    "    print()"
   ]
  },
  {
   "cell_type": "code",
   "execution_count": 37,
   "id": "c61a5a71-3cf4-4c54-8428-254c3a0b9e27",
   "metadata": {},
   "outputs": [
    {
     "name": "stdout",
     "output_type": "stream",
     "text": [
      "1 0 1 0 1 \n",
      "1 0 1 0 \n",
      "1 0 1 \n",
      "1 0 \n",
      "1 \n"
     ]
    }
   ],
   "source": [
    "num=5\n",
    "for i in range(0,num):\n",
    "    for j in range(0,num-i):\n",
    "        if(j%2==0):\n",
    "            print(1,end=\" \")\n",
    "        else:\n",
    "            print(0,end=\" \")\n",
    "    print()"
   ]
  },
  {
   "cell_type": "code",
   "execution_count": 46,
   "id": "7ad78d25-e720-42cf-8ca5-a25a5dcb6a1d",
   "metadata": {},
   "outputs": [
    {
     "name": "stdout",
     "output_type": "stream",
     "text": [
      "1 0 1 0 1 \n",
      "2 0 2 0 \n",
      "3 0 3 \n",
      "4 0 \n",
      "5 \n"
     ]
    }
   ],
   "source": [
    "num=5\n",
    "for i in range(0,num):\n",
    "    for j in range(0,num-i):\n",
    "        if(j%2==0):\n",
    "            print(i+1,end=\" \")\n",
    "        else:\n",
    "            print(0,end=\" \")\n",
    "    print()"
   ]
  },
  {
   "cell_type": "code",
   "execution_count": 47,
   "id": "a5cfaa8d-aeb1-486b-8798-b1ef5cd5f2f1",
   "metadata": {},
   "outputs": [
    {
     "name": "stdout",
     "output_type": "stream",
     "text": [
      "        * \n",
      "      * * \n",
      "    * * * \n",
      "  * * * * \n"
     ]
    }
   ],
   "source": [
    "n=5\n",
    "for i in range(1,n):\n",
    "    for j in range(n-i):\n",
    "        print(\" \",end=\" \")\n",
    "    for k in range(1,i+1):\n",
    "        print(\"*\",end=\" \")\n",
    "    print()"
   ]
  },
  {
   "cell_type": "code",
   "execution_count": 64,
   "id": "0b533897-a842-43c1-bd48-53c3c10d3a19",
   "metadata": {},
   "outputs": [
    {
     "name": "stdout",
     "output_type": "stream",
     "text": [
      "        * * \n",
      "          * \n",
      "          * \n",
      "          * \n",
      "          * \n",
      "          * \n"
     ]
    }
   ],
   "source": [
    "num=6\n",
    "for i in range(num,0,-1):\n",
    "    for j in range(num-i):\n",
    "        print(\" \",end=\" \")\n",
    "    for k in range(1,i+1):\n",
    "        if(i==1 or k==5 or k==i):\n",
    "            print(\"*\",end=\" \")\n",
    "        else:\n",
    "            print(\" \",end=\" \")\n",
    "    print()"
   ]
  },
  {
   "cell_type": "code",
   "execution_count": 67,
   "id": "f740a0d3-9161-4bb5-9fc8-a3a184d2fb35",
   "metadata": {},
   "outputs": [
    {
     "name": "stdout",
     "output_type": "stream",
     "text": [
      "      * \n",
      "    * * * \n",
      "  * * * * * \n"
     ]
    }
   ],
   "source": [
    "n=3\n",
    "for i in range(0,n):\n",
    "    for j in range(n-i):\n",
    "        print(\" \",end=\" \")\n",
    "    for k in range(0,2*i+1):\n",
    "        print(\"*\",end=\" \")\n",
    "    print()"
   ]
  },
  {
   "cell_type": "code",
   "execution_count": 96,
   "id": "138e62d6-f8ce-4766-8e71-5d7defbe3df3",
   "metadata": {},
   "outputs": [
    {
     "name": "stdout",
     "output_type": "stream",
     "text": [
      "* * * * * * * \n",
      "  * * * * * \n",
      "    * * * \n",
      "      * \n"
     ]
    }
   ],
   "source": [
    "num=4\n",
    "for i in range(0,num):\n",
    "    for j in range(0,i):\n",
    "        print(\" \",end=\" \")\n",
    "    for k in range(0,2*num-2*i-1):\n",
    "        print(\"*\",end=\" \")\n",
    "    print()"
   ]
  },
  {
   "cell_type": "code",
   "execution_count": null,
   "id": "b5b576d7-3e3d-42d2-b424-83b28587fc4b",
   "metadata": {},
   "outputs": [],
   "source": []
  }
 ],
 "metadata": {
  "kernelspec": {
   "display_name": "Python 3 (ipykernel)",
   "language": "python",
   "name": "python3"
  },
  "language_info": {
   "codemirror_mode": {
    "name": "ipython",
    "version": 3
   },
   "file_extension": ".py",
   "mimetype": "text/x-python",
   "name": "python",
   "nbconvert_exporter": "python",
   "pygments_lexer": "ipython3",
   "version": "3.12.6"
  }
 },
 "nbformat": 4,
 "nbformat_minor": 5
}
