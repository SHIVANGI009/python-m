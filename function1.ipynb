{
 "cells": [
  {
   "cell_type": "code",
   "execution_count": 1,
   "id": "1a92383e-2b8f-4c78-8525-2f0437bbdb7c",
   "metadata": {},
   "outputs": [
    {
     "data": {
      "text/plain": [
       "120"
      ]
     },
     "execution_count": 1,
     "metadata": {},
     "output_type": "execute_result"
    }
   ],
   "source": [
    "# Factorial\n",
    "def fact(n):\n",
    "    if n==1:\n",
    "        return 1\n",
    "    return n*fact(n-1)\n",
    "fact(5)"
   ]
  },
  {
   "cell_type": "code",
   "execution_count": 1,
   "id": "ecb30ac3-7983-4ca9-a617-246da6b6f8ba",
   "metadata": {},
   "outputs": [
    {
     "name": "stdout",
     "output_type": "stream",
     "text": [
      "shivangi\n"
     ]
    }
   ],
   "source": [
    "# default argument\n",
    "def func(name=\"shivangi\"):\n",
    "    print(name)\n",
    "func()"
   ]
  },
  {
   "cell_type": "code",
   "execution_count": 2,
   "id": "0ae6152b-c4fb-479f-bbc1-c2ec1e3ab239",
   "metadata": {},
   "outputs": [
    {
     "name": "stdout",
     "output_type": "stream",
     "text": [
      "My Name is shivangi and My age is 21\n"
     ]
    }
   ],
   "source": [
    "# Keyword argument\n",
    "def func1(name,age):\n",
    "    print(f\"My Name is {name} and My age is {age}\")\n",
    "func1(age='21',name='shivangi')"
   ]
  },
  {
   "cell_type": "code",
   "execution_count": 9,
   "id": "6c498796-ef78-44b0-9f9c-0eb08449ea49",
   "metadata": {},
   "outputs": [
    {
     "name": "stdout",
     "output_type": "stream",
     "text": [
      "9\n"
     ]
    }
   ],
   "source": [
    "# Variable Length Argument\n",
    "def func2(*args):\n",
    "    result=sum(args)\n",
    "    print(result)\n",
    "func2(2,3,4)"
   ]
  },
  {
   "cell_type": "code",
   "execution_count": 21,
   "id": "8618c312-e5a4-470f-ac61-8e9e485eec0a",
   "metadata": {},
   "outputs": [
    {
     "name": "stdout",
     "output_type": "stream",
     "text": [
      "name:shivangi\n",
      "age:21\n",
      "rollno:11\n"
     ]
    }
   ],
   "source": [
    "# Keyword variable length argument\n",
    "def func3(**kwargs):\n",
    "    for key,value in kwargs.items():\n",
    "        print(f'{key}:{value}')\n",
    "func3(name='shivangi',age=21,rollno=11)"
   ]
  },
  {
   "cell_type": "code",
   "execution_count": 25,
   "id": "6329259b-8607-427a-946f-cb0a85dde648",
   "metadata": {},
   "outputs": [
    {
     "name": "stdout",
     "output_type": "stream",
     "text": [
      "5\n"
     ]
    }
   ],
   "source": [
    "# first class function\n",
    "# 1. store a function in a variable\n",
    "def func4(a,b):\n",
    "    sum1=a+b\n",
    "    return sum1\n",
    "result=func4(2,3)\n",
    "print(result)"
   ]
  },
  {
   "cell_type": "code",
   "execution_count": 26,
   "id": "7d1840f4-d57f-4fe5-9f90-c4a67aab0b73",
   "metadata": {},
   "outputs": [
    {
     "name": "stdout",
     "output_type": "stream",
     "text": [
      "25\n"
     ]
    }
   ],
   "source": [
    "# 2. passing a function as a argument to another function\n",
    "def func5(n):\n",
    "    return n*n\n",
    "def func6(func,value):\n",
    "    return func(value)\n",
    "print(func6(func5,5))"
   ]
  },
  {
   "cell_type": "code",
   "execution_count": 28,
   "id": "22b5b859-0531-4000-b455-338c9193322d",
   "metadata": {},
   "outputs": [
    {
     "name": "stdout",
     "output_type": "stream",
     "text": [
      "I am Inner Function\n"
     ]
    }
   ],
   "source": [
    "# 3. return a function from another function\n",
    "def outer_func():\n",
    "    def inner_func():\n",
    "        return \"I am Inner Function\"\n",
    "    return inner_func\n",
    "result=outer_func()\n",
    "print(result())"
   ]
  },
  {
   "cell_type": "code",
   "execution_count": 29,
   "id": "c9f77e91-1b9f-40c2-bcda-db9cefd66df1",
   "metadata": {},
   "outputs": [
    {
     "name": "stdout",
     "output_type": "stream",
     "text": [
      "25\n"
     ]
    }
   ],
   "source": [
    "# High order function\n",
    "# 1. takes another function as an argument\n",
    "def func1(n):\n",
    "    return n*n\n",
    "def func2(func,value):\n",
    "    return func(value)\n",
    "print(func2(func1,5))"
   ]
  },
  {
   "cell_type": "code",
   "execution_count": 33,
   "id": "88a11aa7-c103-4222-afaf-99673369494a",
   "metadata": {},
   "outputs": [
    {
     "name": "stdout",
     "output_type": "stream",
     "text": [
      "15\n"
     ]
    }
   ],
   "source": [
    "# 2. return a function from another function\n",
    "def outer_func(n):\n",
    "    def inner_func(x):\n",
    "        return n*x\n",
    "    return inner_func\n",
    "result=outer_func(3)\n",
    "print(result(5))"
   ]
  },
  {
   "cell_type": "code",
   "execution_count": 37,
   "id": "dda85ead-eeed-474b-9cb4-84b0ae825fba",
   "metadata": {},
   "outputs": [
    {
     "name": "stdout",
     "output_type": "stream",
     "text": [
      "[1, 4, 9, 16, 25]\n"
     ]
    }
   ],
   "source": [
    "# 3. map() is a built in high order function in python that applies a given function to each element\n",
    "# of an iterable and returns an new iteration\n",
    "nums=[1,2,3,4,5]\n",
    "a=list(map(lambda x: x**2,nums))\n",
    "print(a)"
   ]
  },
  {
   "cell_type": "code",
   "execution_count": 38,
   "id": "13c4222d-3f09-43d5-8b7e-bbd8d90ea185",
   "metadata": {},
   "outputs": [
    {
     "name": "stdout",
     "output_type": "stream",
     "text": [
      "[2, 4, 6, 8, 10]\n"
     ]
    }
   ],
   "source": [
    "# 4. filter() is a built in high order function in python that applies to each element of an iterable \n",
    "# and returns an iteration that contain those elements which satisfy the condition\n",
    "num=[1,2,3,4,5,6,7,8,9,10]\n",
    "b=list(filter(lambda x: x%2==0,num))\n",
    "print(b)"
   ]
  },
  {
   "cell_type": "code",
   "execution_count": 2,
   "id": "e0ca16a1-a900-4620-9437-5562c6d0420e",
   "metadata": {},
   "outputs": [
    {
     "data": {
      "text/plain": [
       "'side'"
      ]
     },
     "execution_count": 2,
     "metadata": {},
     "output_type": "execute_result"
    }
   ],
   "source": [
    "# Lambda\n",
    "s1=lambda x: x.split(\" \")[-1]\n",
    "s1(\"hey shivangi this side\")"
   ]
  },
  {
   "cell_type": "code",
   "execution_count": 6,
   "id": "f90d5e9a-e059-4596-80ac-ef8cfa00354a",
   "metadata": {},
   "outputs": [
    {
     "name": "stdout",
     "output_type": "stream",
     "text": [
      "user ['shivangi', 'here'] hey\n"
     ]
    }
   ],
   "source": [
    "name=\"hey shivangi here user\".split(\" \")\n",
    "print(name[-1],name[1:len(name)-1],name[0])"
   ]
  },
  {
   "cell_type": "code",
   "execution_count": 8,
   "id": "5ceaed47-8fdc-4b20-885d-39d014c69517",
   "metadata": {},
   "outputs": [
    {
     "name": "stdout",
     "output_type": "stream",
     "text": [
      "7\n",
      "None\n"
     ]
    }
   ],
   "source": [
    "# Return\n",
    "def func1(a):\n",
    "    print(a+5)\n",
    "print(func1(2))"
   ]
  },
  {
   "cell_type": "code",
   "execution_count": 9,
   "id": "598e3be9-b77b-4e84-b8d7-f586391d594b",
   "metadata": {},
   "outputs": [
    {
     "name": "stdout",
     "output_type": "stream",
     "text": [
      "7\n"
     ]
    }
   ],
   "source": [
    "def func1(a):\n",
    "    return a+5\n",
    "print(func1(2))"
   ]
  },
  {
   "cell_type": "code",
   "execution_count": 10,
   "id": "631730f0-857c-4be5-ad5f-1241c88b7188",
   "metadata": {},
   "outputs": [
    {
     "name": "stdout",
     "output_type": "stream",
     "text": [
      "7\n"
     ]
    }
   ],
   "source": [
    "def func1(a):\n",
    "    return a+5\n",
    "result=func1(2)\n",
    "print(result)"
   ]
  },
  {
   "cell_type": "code",
   "execution_count": 11,
   "id": "3d32bdc3-a143-4541-b9de-95f710fff82d",
   "metadata": {},
   "outputs": [],
   "source": [
    "def func2(b):\n",
    "    return b+5"
   ]
  },
  {
   "cell_type": "code",
   "execution_count": 12,
   "id": "15bdb4f4-46ff-4a13-9d4c-fe91abb01eff",
   "metadata": {},
   "outputs": [],
   "source": [
    "mylist=[1,2,3,4,5]"
   ]
  },
  {
   "cell_type": "code",
   "execution_count": 15,
   "id": "09795f97-6ad0-44ac-88c4-702faef5e187",
   "metadata": {},
   "outputs": [
    {
     "name": "stdout",
     "output_type": "stream",
     "text": [
      "6\n",
      "7\n",
      "8\n",
      "9\n",
      "10\n"
     ]
    }
   ],
   "source": [
    "x=map(func2,mylist)\n",
    "print(next(x))\n",
    "print(next(x))\n",
    "print(next(x))\n",
    "print(next(x))\n",
    "print(next(x))"
   ]
  },
  {
   "cell_type": "code",
   "execution_count": 18,
   "id": "ced01f07-2571-4137-a299-769df0b4322a",
   "metadata": {},
   "outputs": [
    {
     "name": "stdout",
     "output_type": "stream",
     "text": [
      "6\n",
      "7\n",
      "8\n",
      "9\n",
      "10\n"
     ]
    }
   ],
   "source": [
    "mylist=[1,2,3,4,5]\n",
    "x=map(lambda b: b+5,mylist)\n",
    "print(next(x))\n",
    "print(next(x))\n",
    "print(next(x))\n",
    "print(next(x))\n",
    "print(next(x))"
   ]
  },
  {
   "cell_type": "code",
   "execution_count": 22,
   "id": "e798c54e-f102-4217-887a-fc075ce81911",
   "metadata": {},
   "outputs": [
    {
     "name": "stdout",
     "output_type": "stream",
     "text": [
      "[2, 4]\n"
     ]
    }
   ],
   "source": [
    "l1=[1,2,3,4,5]\n",
    "result=list(filter(lambda a: a%2==0,l1))\n",
    "print(result)"
   ]
  },
  {
   "cell_type": "code",
   "execution_count": null,
   "id": "aaee27c5-fb94-4ad9-8f11-c10a6aef2aff",
   "metadata": {},
   "outputs": [],
   "source": []
  }
 ],
 "metadata": {
  "kernelspec": {
   "display_name": "Python 3 (ipykernel)",
   "language": "python",
   "name": "python3"
  },
  "language_info": {
   "codemirror_mode": {
    "name": "ipython",
    "version": 3
   },
   "file_extension": ".py",
   "mimetype": "text/x-python",
   "name": "python",
   "nbconvert_exporter": "python",
   "pygments_lexer": "ipython3",
   "version": "3.12.6"
  }
 },
 "nbformat": 4,
 "nbformat_minor": 5
}
