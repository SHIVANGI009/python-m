{
 "cells": [
  {
   "cell_type": "code",
   "execution_count": 4,
   "id": "d050e035-0146-4284-9911-7ecbc8b99637",
   "metadata": {},
   "outputs": [
    {
     "name": "stdout",
     "output_type": "stream",
     "text": [
      "name = shivangi vashistha\n"
     ]
    }
   ],
   "source": [
    "#print function\n",
    "name=\"shivangi vashistha\"\n",
    "print(\"name =\",name)"
   ]
  },
  {
   "cell_type": "code",
   "execution_count": 8,
   "id": "4bd6861d-6cb8-4355-9d35-4494c4bc1368",
   "metadata": {},
   "outputs": [
    {
     "name": "stdout",
     "output_type": "stream",
     "text": [
      "hello\n",
      "world hii\n"
     ]
    }
   ],
   "source": [
    "print(\"hello\",end=\"\\n\")\n",
    "print(\"world\",end=\" \")\n",
    "print(\"hii\")"
   ]
  },
  {
   "cell_type": "code",
   "execution_count": 12,
   "id": "5cb07b9f-19eb-4e91-8459-2d42f1271688",
   "metadata": {},
   "outputs": [
    {
     "name": "stdout",
     "output_type": "stream",
     "text": [
      "num= 11 <class 'int'> num2= 11.1 <class 'float'> num3= shivangi <class 'str'>\n"
     ]
    }
   ],
   "source": [
    "#variables\n",
    "num=11\n",
    "num2=11.1\n",
    "num3=\"shivangi\"\n",
    "print(\"num=\",num,type(num),\"num2=\",num2,type(num2),\"num3=\",num3,type(num3))"
   ]
  },
  {
   "cell_type": "code",
   "execution_count": 15,
   "id": "b377256f-8b6e-4656-aa29-f8d07a09b86e",
   "metadata": {},
   "outputs": [
    {
     "name": "stdout",
     "output_type": "stream",
     "text": [
      "5 <class 'int'> 3.14 <class 'float'> (3+4j) <class 'complex'>\n"
     ]
    }
   ],
   "source": [
    "#data types , numeric data type\n",
    "a=5\n",
    "b=3.14\n",
    "c=3+4j\n",
    "print(a,type(a),b,type(b),c,type(c))"
   ]
  },
  {
   "cell_type": "code",
   "execution_count": 17,
   "id": "91f8014a-3612-4b41-b822-b124885a6665",
   "metadata": {},
   "outputs": [
    {
     "name": "stdout",
     "output_type": "stream",
     "text": [
      "Hello World <class 'str'> [2, 4, 6, 8] <class 'list'> ('a', 'b', 'c') <class 'tuple'>\n"
     ]
    }
   ],
   "source": [
    "#sequence data type\n",
    "message=\"Hello World\"\n",
    "num=[2,4,6,8]\n",
    "num1=('a','b','c')\n",
    "print(message,type(message),num,type(num),num1,type(num1))"
   ]
  },
  {
   "cell_type": "code",
   "execution_count": 29,
   "id": "64cf0e3e-4a08-41cd-b390-c9b04da32a8a",
   "metadata": {},
   "outputs": [
    {
     "name": "stdout",
     "output_type": "stream",
     "text": [
      "{'age:21', 'name:shivangi'}\n"
     ]
    }
   ],
   "source": [
    "#dictionary data type\n",
    "name={\n",
    "    'name'':''shivangi',\n",
    "    'age'':''21',\n",
    "}\n",
    "print(name)"
   ]
  },
  {
   "cell_type": "code",
   "execution_count": 36,
   "id": "745a36b7-36da-44c0-bdd1-06d0ffc6469f",
   "metadata": {},
   "outputs": [
    {
     "name": "stdout",
     "output_type": "stream",
     "text": [
      "{1, 2, 3} <class 'set'> {1, 2, 3} <class 'set'>\n"
     ]
    }
   ],
   "source": [
    "# set data type\n",
    "s1={1,2,3}\n",
    "s2=({1,2,3})\n",
    "print(s1,type(s1),s2,type(s2))"
   ]
  },
  {
   "cell_type": "code",
   "execution_count": 44,
   "id": "6999752f-15e6-43b2-8d1d-3f31e330fb01",
   "metadata": {},
   "outputs": [
    {
     "name": "stdout",
     "output_type": "stream",
     "text": [
      "True\n"
     ]
    }
   ],
   "source": [
    "# boolean data type\n",
    "num=10\n",
    "num1=11\n",
    "print(num<num1)"
   ]
  },
  {
   "cell_type": "code",
   "execution_count": 46,
   "id": "dc2ccf41-87ad-49ec-beb1-d00d381da02d",
   "metadata": {},
   "outputs": [
    {
     "name": "stdout",
     "output_type": "stream",
     "text": [
      "None\n"
     ]
    }
   ],
   "source": [
    "# none data type\n",
    "num=None\n",
    "print(num)"
   ]
  },
  {
   "cell_type": "code",
   "execution_count": 54,
   "id": "627a3da7-b4a0-4acf-a3bb-cb7b48c4b92f",
   "metadata": {},
   "outputs": [
    {
     "name": "stdout",
     "output_type": "stream",
     "text": [
      "10.1 <class 'float'>\n"
     ]
    }
   ],
   "source": [
    "#type conversion , implicit conversion\n",
    "a=5\n",
    "b=5.10\n",
    "c=a+b\n",
    "print(c,type(c))"
   ]
  },
  {
   "cell_type": "code",
   "execution_count": 59,
   "id": "2de849ee-d404-4987-a943-82f275865523",
   "metadata": {},
   "outputs": [
    {
     "name": "stdout",
     "output_type": "stream",
     "text": [
      "10 <class 'int'>\n"
     ]
    }
   ],
   "source": [
    "#explicit conversion\n",
    "num = \"10\"\n",
    "num1 = int(num)\n",
    "print(num1,type(num1))"
   ]
  },
  {
   "cell_type": "code",
   "execution_count": 70,
   "id": "1732e4ee-b060-46ff-b20b-26942f5a9d51",
   "metadata": {},
   "outputs": [
    {
     "name": "stdout",
     "output_type": "stream",
     "text": [
      "add= 6 sub= -2 multi= 8 div= 0.5 floordiv= 0 modulus= 2 exponential= 16\n"
     ]
    }
   ],
   "source": [
    "#operators , assignment \n",
    "a=2\n",
    "b=4\n",
    "print(\"add=\",a+b,\"sub=\",a-b,\"multi=\",a*b,\"div=\",a/b,\"floordiv=\",a//b,\"modulus=\",a%b,\"exponential=\",a**b)"
   ]
  },
  {
   "cell_type": "code",
   "execution_count": 73,
   "id": "a109b84c-51c6-44f8-afcc-188666788cb9",
   "metadata": {},
   "outputs": [
    {
     "name": "stdout",
     "output_type": "stream",
     "text": [
      "equal= False inequal= True less= True greater= False lessequal= True greatequal= False\n"
     ]
    }
   ],
   "source": [
    "# relational operator\n",
    "a=2\n",
    "b=4\n",
    "print(\"equal=\",a==b,\"inequal=\",a!=b,\"less=\",a<b,\"greater=\",a>b,\"lessequal=\",a<=b,\"greatequal=\",a>=b)"
   ]
  },
  {
   "cell_type": "code",
   "execution_count": 83,
   "id": "ad37b367-6d2d-41fc-9e5b-b3081a419c6e",
   "metadata": {},
   "outputs": [
    {
     "name": "stdout",
     "output_type": "stream",
     "text": [
      "and= False or= True\n"
     ]
    }
   ],
   "source": [
    "# logical operator\n",
    "a=2\n",
    "b=4\n",
    "c=a>b\n",
    "d=a<b\n",
    "print(\"and=\",c and d,\"or=\",c or d)\n",
    "# here also not operator in logical operator \"not\""
   ]
  },
  {
   "cell_type": "code",
   "execution_count": 85,
   "id": "1a82dedd-2e5f-41c5-9c74-f96009940d57",
   "metadata": {},
   "outputs": [
    {
     "name": "stdout",
     "output_type": "stream",
     "text": [
      "in= False notin= True\n"
     ]
    }
   ],
   "source": [
    "# membership operator\n",
    "a=2,4\n",
    "b=4,3\n",
    "print(\"in=\",a in b,\"notin=\",a not in b)"
   ]
  },
  {
   "cell_type": "code",
   "execution_count": 87,
   "id": "01d294fe-32f3-4d20-b76b-caaa2e1401c6",
   "metadata": {},
   "outputs": [
    {
     "name": "stdout",
     "output_type": "stream",
     "text": [
      "is= False isnot= True\n"
     ]
    }
   ],
   "source": [
    "# identity operator\n",
    "a=2\n",
    "b=4\n",
    "print(\"is=\",a is b,\"isnot=\",a is not b)"
   ]
  },
  {
   "cell_type": "code",
   "execution_count": null,
   "id": "bc8b43ec-a199-48ce-8fb7-db412a2e3d14",
   "metadata": {},
   "outputs": [],
   "source": []
  }
 ],
 "metadata": {
  "kernelspec": {
   "display_name": "Python 3 (ipykernel)",
   "language": "python",
   "name": "python3"
  },
  "language_info": {
   "codemirror_mode": {
    "name": "ipython",
    "version": 3
   },
   "file_extension": ".py",
   "mimetype": "text/x-python",
   "name": "python",
   "nbconvert_exporter": "python",
   "pygments_lexer": "ipython3",
   "version": "3.12.2"
  }
 },
 "nbformat": 4,
 "nbformat_minor": 5
}
