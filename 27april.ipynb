{
 "cells": [
  {
   "cell_type": "code",
   "execution_count": 141,
   "id": "8d2ba785-814f-4439-b611-1d613dae06a7",
   "metadata": {},
   "outputs": [
    {
     "name": "stdout",
     "output_type": "stream",
     "text": [
      "age is eligible\n",
      "eligible for voting\n"
     ]
    }
   ],
   "source": [
    "age=18\n",
    "city=\"jaipur\"\n",
    "if(age>=18):\n",
    "    print(\"age is eligible\")\n",
    "    if(city==\"jaipur\"):\n",
    "        print(\"eligible for voting\")\n",
    "    else:\n",
    "        print(\"not eligible for voting\")\n",
    "else:\n",
    "    print(\"age is less than 18\")"
   ]
  },
  {
   "cell_type": "code",
   "execution_count": 142,
   "id": "66002d7b-398e-4b64-afd3-1bf6d4aab1a0",
   "metadata": {},
   "outputs": [
    {
     "name": "stdout",
     "output_type": "stream",
     "text": [
      "0\n",
      "1\n",
      "2\n",
      "3\n",
      "4\n"
     ]
    }
   ],
   "source": [
    "for i in range(0,5):\n",
    "    print(i)"
   ]
  },
  {
   "cell_type": "code",
   "execution_count": 143,
   "id": "4f68fdca-a674-4742-8baa-8e39d173f990",
   "metadata": {},
   "outputs": [
    {
     "name": "stdout",
     "output_type": "stream",
     "text": [
      "0\n",
      "2\n",
      "4\n"
     ]
    }
   ],
   "source": [
    "for i in range(0,5,2):\n",
    "    print(i)"
   ]
  },
  {
   "cell_type": "code",
   "execution_count": 144,
   "id": "ba8437d9-3e1d-4260-a744-4727f5da8404",
   "metadata": {},
   "outputs": [
    {
     "name": "stdout",
     "output_type": "stream",
     "text": [
      "1\n",
      "4\n",
      "7\n"
     ]
    }
   ],
   "source": [
    "for i in range(1,10,3):\n",
    "    print(i)"
   ]
  },
  {
   "cell_type": "code",
   "execution_count": 145,
   "id": "0b942e36-1655-4506-a20e-8a0853917de5",
   "metadata": {},
   "outputs": [
    {
     "name": "stdout",
     "output_type": "stream",
     "text": [
      "5\n",
      "4\n",
      "3\n",
      "2\n",
      "1\n"
     ]
    }
   ],
   "source": [
    "for i in range(5,0,-1):\n",
    "    print(i)"
   ]
  },
  {
   "cell_type": "code",
   "execution_count": 147,
   "id": "130c63ee-5c01-4a00-a76d-8c7a3eec7462",
   "metadata": {},
   "outputs": [
    {
     "name": "stdout",
     "output_type": "stream",
     "text": [
      "3\n",
      "6\n",
      "9\n",
      "12\n",
      "15\n",
      "18\n",
      "21\n",
      "24\n",
      "27\n",
      "30\n",
      "33\n",
      "36\n",
      "39\n"
     ]
    }
   ],
   "source": [
    "for i in range(1,41):\n",
    "    if(i%3==0):\n",
    "        print(i)"
   ]
  },
  {
   "cell_type": "code",
   "execution_count": 148,
   "id": "622940dc-0a99-41ca-9765-b64edd950e74",
   "metadata": {},
   "outputs": [
    {
     "name": "stdout",
     "output_type": "stream",
     "text": [
      "100\n",
      "50\n"
     ]
    }
   ],
   "source": [
    "for i in range(100,0,-1):\n",
    "    if(i%5==0 and i%50==0):\n",
    "        print(i)"
   ]
  },
  {
   "cell_type": "code",
   "execution_count": 156,
   "id": "2ce7d8c8-d49c-4d4d-8937-4428c9cbe8b8",
   "metadata": {},
   "outputs": [
    {
     "name": "stdout",
     "output_type": "stream",
     "text": [
      "55\n"
     ]
    }
   ],
   "source": [
    "sum=0\n",
    "for i in range(1,11):\n",
    "    sum+=i\n",
    "print(sum)    "
   ]
  },
  {
   "cell_type": "code",
   "execution_count": 162,
   "id": "17f61e49-1e23-4332-8643-0cea9f85b38e",
   "metadata": {},
   "outputs": [
    {
     "name": "stdout",
     "output_type": "stream",
     "text": [
      "240\n"
     ]
    }
   ],
   "source": [
    "sum=0\n",
    "for i in range(1,31):\n",
    "    if(i%2==0):\n",
    "        sum+=i\n",
    "print(sum)"
   ]
  },
  {
   "cell_type": "code",
   "execution_count": 166,
   "id": "9f4ec3a2-dd1c-4889-b95c-1d8967560b58",
   "metadata": {},
   "outputs": [
    {
     "name": "stdout",
     "output_type": "stream",
     "text": [
      "40320\n"
     ]
    }
   ],
   "source": [
    "p=1\n",
    "for i in range(8,0,-1):\n",
    "    p*=i\n",
    "print(p)    "
   ]
  },
  {
   "cell_type": "code",
   "execution_count": 168,
   "id": "36532ad6-9152-4485-97b0-f340e880539b",
   "metadata": {},
   "outputs": [
    {
     "name": "stdout",
     "output_type": "stream",
     "text": [
      "j\n",
      "a\n",
      "i\n",
      "p\n",
      "u\n",
      "r\n"
     ]
    }
   ],
   "source": [
    "data=\"jaipur\"\n",
    "\n",
    "for i in data:\n",
    "    print(i)"
   ]
  },
  {
   "cell_type": "code",
   "execution_count": 181,
   "id": "09107521-d197-452c-9827-3032779925b3",
   "metadata": {},
   "outputs": [
    {
     "name": "stdout",
     "output_type": "stream",
     "text": [
      "0 j\n",
      "1 a\n",
      "2 i\n",
      "3 p\n",
      "4 u\n",
      "5 r\n",
      "6 1\n",
      "7 2\n",
      "8 3\n"
     ]
    }
   ],
   "source": [
    "data=\"jaipur123\"\n",
    "\n",
    "for i in range(0,len(data)):\n",
    "    print(i,data[i])"
   ]
  },
  {
   "cell_type": "code",
   "execution_count": 209,
   "id": "36c4103c-e957-46fe-a64b-2be8afab104a",
   "metadata": {},
   "outputs": [
    {
     "name": "stdout",
     "output_type": "stream",
     "text": [
      "a\n",
      "i\n",
      "u\n",
      "total vowels= 3\n"
     ]
    }
   ],
   "source": [
    "city=\"jaipur\"\n",
    "n=0\n",
    "for i in \"jaipur\":\n",
    "    if(i=='a' or i=='e' or i=='i' or i=='o' or i=='u'):\n",
    "        print(i)\n",
    "        n+=1  \n",
    "print(\"total vowels=\",n)"
   ]
  },
  {
   "cell_type": "code",
   "execution_count": 217,
   "id": "96ce204f-2567-4a05-a632-565ca7f2f604",
   "metadata": {},
   "outputs": [
    {
     "name": "stdout",
     "output_type": "stream",
     "text": [
      "5\n"
     ]
    }
   ],
   "source": [
    "city=\"jaipauraaa\"\n",
    "print(city.count(\"a\"))"
   ]
  },
  {
   "cell_type": "code",
   "execution_count": 222,
   "id": "7ea1d5f6-c182-4125-8094-94e825d2b141",
   "metadata": {},
   "outputs": [
    {
     "name": "stdout",
     "output_type": "stream",
     "text": [
      "total character is 9\n"
     ]
    }
   ],
   "source": [
    "city=\"jaipur123\"\n",
    "total=0\n",
    "for i in city:\n",
    "    total+=1  \n",
    "print(\"total character is\",total)    "
   ]
  },
  {
   "cell_type": "code",
   "execution_count": 227,
   "id": "1017ca8c-861a-4caf-baba-b986e27651f9",
   "metadata": {},
   "outputs": [
    {
     "name": "stdout",
     "output_type": "stream",
     "text": [
      "210\n"
     ]
    }
   ],
   "source": [
    "sum=0\n",
    "for i in range(1,21):\n",
    "    sum+=i  \n",
    "print(sum)"
   ]
  },
  {
   "cell_type": "code",
   "execution_count": 232,
   "id": "bce24e2b-526a-420f-b42f-f770e4964497",
   "metadata": {},
   "outputs": [
    {
     "name": "stdout",
     "output_type": "stream",
     "text": [
      "18\n",
      "19\n",
      "20\n",
      "sum= 75\n"
     ]
    }
   ],
   "source": [
    "sum=18\n",
    "for i in range(18,21):\n",
    "    print(i)\n",
    "    sum+=i\n",
    "print(\"sum=\",sum)"
   ]
  },
  {
   "cell_type": "code",
   "execution_count": 239,
   "id": "e5bbcf94-c6cd-43c5-9119-322e107952ac",
   "metadata": {},
   "outputs": [
    {
     "name": "stdout",
     "output_type": "stream",
     "text": [
      "product= 2432902008176640000 total= 10.5\n"
     ]
    }
   ],
   "source": [
    "p=1\n",
    "avg=0\n",
    "for i in range(1,21):\n",
    "    p*=i  \n",
    "    avg+=i\n",
    "    total=avg/20\n",
    "print(\"product=\",p,\"total=\",total) "
   ]
  },
  {
   "cell_type": "code",
   "execution_count": 247,
   "id": "84326912-f6cc-4f9a-9513-dc590f46ddf1",
   "metadata": {},
   "outputs": [
    {
     "name": "stdin",
     "output_type": "stream",
     "text": [
      "enter your number:  3\n"
     ]
    },
    {
     "name": "stdout",
     "output_type": "stream",
     "text": [
      "3\n",
      "6\n",
      "9\n",
      "12\n",
      "15\n",
      "18\n",
      "21\n",
      "24\n",
      "27\n",
      "30\n"
     ]
    }
   ],
   "source": [
    "num=int(input(\"enter your number: \"))\n",
    "for i in range(1,11):\n",
    "    print(num*i)"
   ]
  },
  {
   "cell_type": "code",
   "execution_count": 255,
   "id": "c7761c49-9687-42b7-ac56-16448e8d3b4b",
   "metadata": {},
   "outputs": [
    {
     "name": "stdout",
     "output_type": "stream",
     "text": [
      "50069\n"
     ]
    }
   ],
   "source": [
    "sum=0\n",
    "for i in range(1,7):\n",
    "    power=i**i\n",
    "    sum=sum+power  \n",
    "print(sum)"
   ]
  },
  {
   "cell_type": "code",
   "execution_count": 268,
   "id": "2e72a0e5-1e7a-475b-80f8-301fc0f3b44e",
   "metadata": {},
   "outputs": [
    {
     "name": "stdin",
     "output_type": "stream",
     "text": [
      "enter your character:  shivangi\n"
     ]
    },
    {
     "name": "stdout",
     "output_type": "stream",
     "text": [
      "Consonant s\n",
      "Consonant h\n",
      "Consonant v\n",
      "Consonant n\n",
      "Consonant g\n",
      "5\n"
     ]
    }
   ],
   "source": [
    "total=0\n",
    "for ch in (input(\"enter your character: \")):\n",
    "    if(ch!=\"a\" and ch!=\"e\" and ch!=\"i\" and ch!=\"o\" and ch!=\"u\"):\n",
    "        print(\"Consonant\",ch)\n",
    "        total+=1  \n",
    "print(total)    "
   ]
  },
  {
   "cell_type": "code",
   "execution_count": 272,
   "id": "ab70b6d0-a6fc-4ada-af89-9ef114d1147b",
   "metadata": {},
   "outputs": [
    {
     "name": "stdin",
     "output_type": "stream",
     "text": [
      "enter your number:  20\n"
     ]
    },
    {
     "name": "stdout",
     "output_type": "stream",
     "text": [
      "63 524880 3.15\n"
     ]
    }
   ],
   "source": [
    "num=int(input(\"enter your number: \"))\n",
    "sum=0\n",
    "p1=1\n",
    "avg=0\n",
    "for i in range(1,num+1):\n",
    "    if(i%3==0):\n",
    "        sum+=i\n",
    "        p1*=i\n",
    "        avg+=i\n",
    "        total=avg/num\n",
    "print(sum,p1,total)        "
   ]
  },
  {
   "cell_type": "code",
   "execution_count": null,
   "id": "f47dc155-2932-4787-8a83-9ec82ec374a4",
   "metadata": {},
   "outputs": [],
   "source": []
  }
 ],
 "metadata": {
  "kernelspec": {
   "display_name": "Python 3 (ipykernel)",
   "language": "python",
   "name": "python3"
  },
  "language_info": {
   "codemirror_mode": {
    "name": "ipython",
    "version": 3
   },
   "file_extension": ".py",
   "mimetype": "text/x-python",
   "name": "python",
   "nbconvert_exporter": "python",
   "pygments_lexer": "ipython3",
   "version": "3.12.2"
  }
 },
 "nbformat": 4,
 "nbformat_minor": 5
}
