{
 "cells": [
  {
   "cell_type": "code",
   "execution_count": 2,
   "id": "33154f87-de93-4c3a-b1f4-927b8aced46f",
   "metadata": {},
   "outputs": [
    {
     "data": {
      "text/plain": [
       "10"
      ]
     },
     "execution_count": 2,
     "metadata": {},
     "output_type": "execute_result"
    }
   ],
   "source": [
    "# class\n",
    "# parent class/base class/super class\n",
    "class Father:\n",
    "    amount=100\n",
    "# inherit class/derived class/sub class\n",
    "class Son(Father):\n",
    "    amount=10\n",
    "\n",
    "h1=Son()\n",
    "h1.amount"
   ]
  },
  {
   "cell_type": "code",
   "execution_count": 6,
   "id": "bf47e117-0f91-489c-bac3-077ac7cb161b",
   "metadata": {},
   "outputs": [
    {
     "name": "stdout",
     "output_type": "stream",
     "text": [
      "regex\n"
     ]
    }
   ],
   "source": [
    "class Driver:\n",
    "    company=\"regex\"\n",
    "    def __init__(self,id,name,email):\n",
    "        self.id=id\n",
    "        self.name=name\n",
    "        self.email=email\n",
    "\n",
    "class Customer(Driver):\n",
    "    def __init__(self,cid,cname,cemail):\n",
    "        print( super().company )\n",
    "\n",
    "c1=Customer(11,\"shivangi\",\"shivangi@gmail.com\")"
   ]
  },
  {
   "cell_type": "code",
   "execution_count": 8,
   "id": "f3c0ec14-a820-442d-af32-5f6c9fb5e4b0",
   "metadata": {},
   "outputs": [
    {
     "data": {
      "text/plain": [
       "'shivangi'"
      ]
     },
     "execution_count": 8,
     "metadata": {},
     "output_type": "execute_result"
    }
   ],
   "source": [
    "class Driver:\n",
    "    company=\"regex\"\n",
    "    def __init__(self,id,name,email):\n",
    "        self.id=id\n",
    "        self.name=name\n",
    "        self.email=email\n",
    "\n",
    "class Customer(Driver):\n",
    "    def __init__(self,cid,cname,cemail):\n",
    "        super().__init__(cid,cname,cemail)\n",
    "\n",
    "c1=Customer(11,\"shivangi\",\"shivangi@gmail.com\")\n",
    "c1.name"
   ]
  },
  {
   "cell_type": "code",
   "execution_count": 13,
   "id": "af39b425-34d8-420a-9efb-f607cc550050",
   "metadata": {},
   "outputs": [
    {
     "name": "stdout",
     "output_type": "stream",
     "text": [
      " Information is 11 & shivangi\n"
     ]
    }
   ],
   "source": [
    "class Driver:\n",
    "    company=\"regex\"\n",
    "    def __init__(self,id,name,email):\n",
    "        self.id=id\n",
    "        self.name=name\n",
    "        self.email=email\n",
    "        \n",
    "    def dinfo(self):\n",
    "        print(f\" Information is {self.id} & {self.name}\")\n",
    "\n",
    "class Customer(Driver):\n",
    "    def __init__(self,cid,cname,cemail):\n",
    "        super().__init__(cid,cname,cemail)\n",
    "        \n",
    "    def cinfo(self):\n",
    "        super().dinfo()\n",
    "\n",
    "c1=Customer(11,\"shivangi\",\"shivangi@gmail.com\")\n",
    "c1.cinfo()"
   ]
  },
  {
   "cell_type": "code",
   "execution_count": null,
   "id": "43b81439-0db2-46c0-b27b-ded09d4c2ffd",
   "metadata": {},
   "outputs": [],
   "source": []
  }
 ],
 "metadata": {
  "kernelspec": {
   "display_name": "Python 3 (ipykernel)",
   "language": "python",
   "name": "python3"
  },
  "language_info": {
   "codemirror_mode": {
    "name": "ipython",
    "version": 3
   },
   "file_extension": ".py",
   "mimetype": "text/x-python",
   "name": "python",
   "nbconvert_exporter": "python",
   "pygments_lexer": "ipython3",
   "version": "3.12.2"
  }
 },
 "nbformat": 4,
 "nbformat_minor": 5
}
