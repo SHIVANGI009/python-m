{
  "nbformat": 4,
  "nbformat_minor": 0,
  "metadata": {
    "colab": {
      "provenance": []
    },
    "kernelspec": {
      "name": "python3",
      "display_name": "Python 3"
    },
    "language_info": {
      "name": "python"
    }
  },
  "cells": [
    {
      "cell_type": "code",
      "execution_count": 3,
      "metadata": {
        "colab": {
          "base_uri": "https://localhost:8080/"
        },
        "id": "YtpbJFf1zWUR",
        "outputId": "a34b8339-e476-4c5b-b4ed-c36c750eb3ca"
      },
      "outputs": [
        {
          "output_type": "stream",
          "name": "stdout",
          "text": [
            "[10, 20, 30, 'hello', 'world']\n"
          ]
        }
      ],
      "source": [
        "mylist=[10,20,30,\"hello\",\"world\"]\n",
        "print(mylist)"
      ]
    },
    {
      "cell_type": "code",
      "source": [
        "list1=[20,40,60,80,\"hey\",\"shivangi\"]\n",
        "print(list1[1])#indexing in list"
      ],
      "metadata": {
        "colab": {
          "base_uri": "https://localhost:8080/"
        },
        "id": "FGjmRIjuzfJB",
        "outputId": "2f0a9f47-fe77-41cc-9760-660462eded3d"
      },
      "execution_count": 7,
      "outputs": [
        {
          "output_type": "stream",
          "name": "stdout",
          "text": [
            "40\n"
          ]
        }
      ]
    },
    {
      "cell_type": "code",
      "source": [
        "list2=[10,30,50,70,90,\"hello\"]\n",
        "print(list2[-1:-3:-1])#in this concept when we give negative start and end then we also have to give negative slice"
      ],
      "metadata": {
        "colab": {
          "base_uri": "https://localhost:8080/"
        },
        "id": "fgmTG44Lz-Jd",
        "outputId": "76cde793-8a22-4164-8e83-16dc9d1e9fdc"
      },
      "execution_count": 9,
      "outputs": [
        {
          "output_type": "stream",
          "name": "stdout",
          "text": [
            "['hello', 90]\n"
          ]
        }
      ]
    },
    {
      "cell_type": "code",
      "source": [
        "#adding value in the list\n",
        "list3=[1,12,123,1234,12345]\n",
        "list3[4]=\"hi\"#this is our new value in the list\n",
        "print(list3)"
      ],
      "metadata": {
        "colab": {
          "base_uri": "https://localhost:8080/"
        },
        "id": "tOoCuyDu0cqN",
        "outputId": "99403eb7-ac85-45fa-b9f8-ca28fc32758a"
      },
      "execution_count": 12,
      "outputs": [
        {
          "output_type": "stream",
          "name": "stdout",
          "text": [
            "[1, 12, 123, 1234, 'hi']\n"
          ]
        }
      ]
    },
    {
      "cell_type": "code",
      "source": [
        "list4=[1,2,\"c\",\"d\"]\n",
        "list4[0:2]=[\"a\",\"b\"]\n",
        "print(list4)"
      ],
      "metadata": {
        "colab": {
          "base_uri": "https://localhost:8080/"
        },
        "id": "IQscXxtb1eVN",
        "outputId": "63a9f8a3-a4ae-498d-b687-06a1384eaf68"
      },
      "execution_count": 13,
      "outputs": [
        {
          "output_type": "stream",
          "name": "stdout",
          "text": [
            "['a', 'b', 'c', 'd']\n"
          ]
        }
      ]
    },
    {
      "cell_type": "code",
      "source": [
        "#list functions\n",
        "list5=[1,2,3,4,5,\"hey\"]\n",
        "list5.append(\"shivangi\")#here append is a function using for add elements in the list\n",
        "list5.extend(\"oks\")\n",
        "list5.extend([6,7])\n",
        "list5.pop(2)\n",
        "list5.remove(4)\n",
        "del list5[2]\n",
        "print(list5)"
      ],
      "metadata": {
        "colab": {
          "base_uri": "https://localhost:8080/"
        },
        "id": "tA8BW2KS2O7t",
        "outputId": "80fd277d-ae87-41fe-d43f-169face23fcd"
      },
      "execution_count": 23,
      "outputs": [
        {
          "output_type": "stream",
          "name": "stdout",
          "text": [
            "[1, 2, 'hey', 'shivangi', 'o', 'k', 's', 6, 7]\n"
          ]
        }
      ]
    },
    {
      "cell_type": "code",
      "source": [
        "list6=[10,21,30.0,\"hello\",20,501]\n",
        "newlist=[]\n",
        "for i in list6:\n",
        "  if(type(i) is int):\n",
        "    newlist.append(i)\n",
        "print(newlist)"
      ],
      "metadata": {
        "colab": {
          "base_uri": "https://localhost:8080/"
        },
        "id": "hHOLDFg82pFB",
        "outputId": "91d3bce3-64fd-42f0-a36f-c43b906e3889"
      },
      "execution_count": 26,
      "outputs": [
        {
          "output_type": "stream",
          "name": "stdout",
          "text": [
            "[10, 21, 20, 501]\n"
          ]
        }
      ]
    },
    {
      "cell_type": "code",
      "source": [
        "data=\"hey shivangi hey hello hey user hey\"\n",
        "mylist=data.split(\" \")\n",
        "newlist=[]\n",
        "for i in mylist:\n",
        "  if(i not in newlist):\n",
        "    newlist.append(i)\n",
        "print(newlist)"
      ],
      "metadata": {
        "colab": {
          "base_uri": "https://localhost:8080/"
        },
        "id": "rPga36Aw4bcd",
        "outputId": "32eb37b2-dc10-4455-dda0-981320123eec"
      },
      "execution_count": 31,
      "outputs": [
        {
          "output_type": "stream",
          "name": "stdout",
          "text": [
            "['hey', 'shivangi', 'hello', 'user']\n"
          ]
        }
      ]
    },
    {
      "cell_type": "code",
      "source": [
        "mytuple=10,20\n",
        "id(mytuple)"
      ],
      "metadata": {
        "colab": {
          "base_uri": "https://localhost:8080/"
        },
        "id": "dwke6B047RS5",
        "outputId": "3c1180a1-2f90-42c6-a22f-99679e7d3018"
      },
      "execution_count": 36,
      "outputs": [
        {
          "output_type": "execute_result",
          "data": {
            "text/plain": [
              "138634558387008"
            ]
          },
          "metadata": {},
          "execution_count": 36
        }
      ]
    },
    {
      "cell_type": "code",
      "source": [
        "mytuple=mytuple+(30,40)\n",
        "id(mytuple)"
      ],
      "metadata": {
        "colab": {
          "base_uri": "https://localhost:8080/"
        },
        "id": "F9p323SU9obN",
        "outputId": "cd75c0ef-b72b-417f-944f-09ab609bb02a"
      },
      "execution_count": 37,
      "outputs": [
        {
          "output_type": "execute_result",
          "data": {
            "text/plain": [
              "138634559517408"
            ]
          },
          "metadata": {},
          "execution_count": 37
        }
      ]
    },
    {
      "cell_type": "code",
      "source": [
        "x=153\n",
        "rem1=x%10\n",
        "x=x//10\n",
        "rem2=x%10\n",
        "x=x//10\n",
        "rem3=x%10\n",
        "x=x//10\n",
        "rem1**3 + rem2**3 + rem3**3"
      ],
      "metadata": {
        "colab": {
          "base_uri": "https://localhost:8080/"
        },
        "id": "_i_dZ43rAISd",
        "outputId": "d727d16f-1d0f-4c2d-92b2-cee7b428e276"
      },
      "execution_count": 44,
      "outputs": [
        {
          "output_type": "execute_result",
          "data": {
            "text/plain": [
              "153"
            ]
          },
          "metadata": {},
          "execution_count": 44
        }
      ]
    },
    {
      "cell_type": "code",
      "source": [
        "x=153\n",
        "num=x\n",
        "total=0\n",
        "while(x>0):\n",
        "  rem=x%10\n",
        "  total+=rem**3\n",
        "\n",
        "  x=x//10\n",
        "if(total==num):\n",
        "  print(\"Armstrong\")\n",
        "else:\n",
        "  print(\"not\")"
      ],
      "metadata": {
        "colab": {
          "base_uri": "https://localhost:8080/"
        },
        "id": "bFsKcxuWBRF1",
        "outputId": "690841d8-298a-45b6-de72-59c5b2e86a01"
      },
      "execution_count": 54,
      "outputs": [
        {
          "output_type": "stream",
          "name": "stdout",
          "text": [
            "Armstrong\n"
          ]
        }
      ]
    },
    {
      "cell_type": "code",
      "source": [
        "data=\"hey shivangi hey user shivangi hey everyone\"\n",
        "mylist=data.split(\" \")\n",
        "newlist=[]\n",
        "for i in mylist:\n",
        "  if mylist.count(i)==1:\n",
        "    newlist.append(i)\n",
        "print(newlist)"
      ],
      "metadata": {
        "colab": {
          "base_uri": "https://localhost:8080/"
        },
        "id": "hXJxLzM2C4LS",
        "outputId": "96124462-14eb-46d9-edb8-f337a571aabf"
      },
      "execution_count": 62,
      "outputs": [
        {
          "output_type": "stream",
          "name": "stdout",
          "text": [
            "['user', 'everyone']\n"
          ]
        }
      ]
    },
    {
      "cell_type": "code",
      "source": [
        "mydict={1:\"shivangi\",2:\"shiv\",3:\"shivi\"}\n",
        "x=200\n",
        "if(x not in mydict):\n",
        "  mydict[x]=1\n",
        "print(mydict)"
      ],
      "metadata": {
        "colab": {
          "base_uri": "https://localhost:8080/"
        },
        "id": "cO-QHm-tH1DK",
        "outputId": "652333f3-d951-4e10-b287-6060645e3364"
      },
      "execution_count": 69,
      "outputs": [
        {
          "output_type": "stream",
          "name": "stdout",
          "text": [
            "{1: 'shivangi', 2: 'shiv', 3: 'shivi', 200: 1}\n"
          ]
        }
      ]
    }
  ]
}