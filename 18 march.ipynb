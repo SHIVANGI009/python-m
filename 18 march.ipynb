{
 "cells": [
  {
   "cell_type": "code",
   "execution_count": 6,
   "id": "5cfb2cda-e8fd-4930-bcc3-bed824cd8be9",
   "metadata": {},
   "outputs": [
    {
     "name": "stdout",
     "output_type": "stream",
     "text": [
      "21\n"
     ]
    }
   ],
   "source": [
    "# local scope : A variable declared inside a function and can be used within the function.\n",
    "def my_func():\n",
    "    x=21\n",
    "    print(x)\n",
    "my_func()"
   ]
  },
  {
   "cell_type": "code",
   "execution_count": 7,
   "id": "5c9d5fc4-9f50-4ee9-b55b-8807e103ab36",
   "metadata": {},
   "outputs": [
    {
     "name": "stdout",
     "output_type": "stream",
     "text": [
      "11\n",
      "11\n"
     ]
    }
   ],
   "source": [
    "# Global scope : A variable declared outside the function and can be used anywhere in the code.\n",
    "y=11\n",
    "def my_func1():\n",
    "    print(y)\n",
    "my_func1()\n",
    "print(y)"
   ]
  },
  {
   "cell_type": "code",
   "execution_count": 11,
   "id": "245160b1-798b-4e4f-a9ef-eff02f8c5362",
   "metadata": {},
   "outputs": [
    {
     "name": "stdout",
     "output_type": "stream",
     "text": [
      "1\n",
      "2\n",
      "3\n",
      "4\n",
      "5\n"
     ]
    }
   ],
   "source": [
    "# Iterator is an object that access the elements of collections like lists,tuple one by one.\n",
    "# It remember the last item was accessed and provides the next value by using next() function.\n",
    "mylist=[1,2,3,4,5]\n",
    "iterator=iter(mylist)\n",
    "print(next(iterator))\n",
    "print(next(iterator))\n",
    "print(next(iterator))\n",
    "print(next(iterator))\n",
    "print(next(iterator))"
   ]
  },
  {
   "cell_type": "code",
   "execution_count": 17,
   "id": "995d8a06-245e-4833-a4ea-c653ac699bcf",
   "metadata": {},
   "outputs": [
    {
     "name": "stdout",
     "output_type": "stream",
     "text": [
      "shivangi\n",
      "21\n"
     ]
    }
   ],
   "source": [
    "# The init method,also called as the constructor,is used in Python classes.\n",
    "# It is called automatically when an object is created from a class and allow the access to initialize the attributes of the object.\n",
    "# It is the convention in Python that stands for 'Intialization'.\n",
    "class Person:\n",
    "    def __init__(self,name,age):\n",
    "        self.name=name\n",
    "        self.age=age\n",
    "p1=Person('shivangi',21)\n",
    "print(p1.name)\n",
    "print(p1.age)"
   ]
  },
  {
   "cell_type": "code",
   "execution_count": 18,
   "id": "474ed653-0a04-4f6c-affd-aa0460c3aff5",
   "metadata": {},
   "outputs": [
    {
     "name": "stdout",
     "output_type": "stream",
     "text": [
      "5\n"
     ]
    }
   ],
   "source": [
    "# Lambda function is a short,nameless function that is written in one line.\n",
    "# It is a shprter version of normal def function.\n",
    "# We use lambda function when:\n",
    "# 1. When you need short, one line code\n",
    "# 2. when you want to pass a function quikly\n",
    "# 3. when you need temporary function that wo\n",
    "a=lambda x,y: x+y\n",
    "print(a(2,3))"
   ]
  },
  {
   "cell_type": "code",
   "execution_count": null,
   "id": "474b4eca-396a-4354-895e-5047ba980c99",
   "metadata": {},
   "outputs": [],
   "source": []
  }
 ],
 "metadata": {
  "kernelspec": {
   "display_name": "Python 3 (ipykernel)",
   "language": "python",
   "name": "python3"
  },
  "language_info": {
   "codemirror_mode": {
    "name": "ipython",
    "version": 3
   },
   "file_extension": ".py",
   "mimetype": "text/x-python",
   "name": "python",
   "nbconvert_exporter": "python",
   "pygments_lexer": "ipython3",
   "version": "3.12.6"
  }
 },
 "nbformat": 4,
 "nbformat_minor": 5
}
