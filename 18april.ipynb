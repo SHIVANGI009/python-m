{
 "cells": [
  {
   "cell_type": "code",
   "execution_count": 10,
   "id": "d948d56e-cb9f-487f-8beb-f1b4e20b2187",
   "metadata": {},
   "outputs": [
    {
     "name": "stdin",
     "output_type": "stream",
     "text": [
      "enter your number:  5\n"
     ]
    },
    {
     "name": "stdout",
     "output_type": "stream",
     "text": [
      "Thursday\n"
     ]
    }
   ],
   "source": [
    "#Take a int number from the user and print the weekday.\n",
    "\n",
    "week=int(input(\"enter your number: \"))\n",
    "if(week==1):\n",
    "    print(\"Sunday\")\n",
    "elif(week==2):\n",
    "    print(\"Monday\")\n",
    "elif(week==3):\n",
    "    print(\"Tuesday\") \n",
    "elif(week==4):\n",
    "    print(\"Wednesday\")\n",
    "elif(week==5):\n",
    "    print(\"Thursday\") \n",
    "elif(week==6):\n",
    "    print(\"Friday\") \n",
    "elif(week==7):\n",
    "    print(\"Saturday\")\n",
    "else:\n",
    "    print(\"not a week number\")"
   ]
  },
  {
   "cell_type": "code",
   "execution_count": 11,
   "id": "cdc1106b-5e7d-4104-a943-d55e771a71d5",
   "metadata": {},
   "outputs": [
    {
     "name": "stdin",
     "output_type": "stream",
     "text": [
      "enter your number:  7\n"
     ]
    },
    {
     "name": "stdout",
     "output_type": "stream",
     "text": [
      "July\n"
     ]
    }
   ],
   "source": [
    "#Take a int number from the user and print the month name.\n",
    "\n",
    "month=int(input(\"enter your number: \"))\n",
    "if(month==1):\n",
    "    print(\"January\")\n",
    "elif(month==2):\n",
    "    print(\"February\")\n",
    "elif(month==3):\n",
    "    print(\"March\") \n",
    "elif(month==4):\n",
    "    print(\"April\")\n",
    "elif(month==5):\n",
    "    print(\"May\") \n",
    "elif(month==6):\n",
    "    print(\"June\") \n",
    "elif(month==7):\n",
    "    print(\"July\") \n",
    "elif(month==8):\n",
    "    print(\"August\")  \n",
    "elif(month==9):\n",
    "    print(\"September\") \n",
    "elif(month==10):\n",
    "    print(\"October\")     \n",
    "elif(month==11):\n",
    "    print(\"November\")\n",
    "elif(month==12):\n",
    "    print(\"December\")     \n",
    "else:\n",
    "    print(\"invalid number\")"
   ]
  },
  {
   "cell_type": "code",
   "execution_count": 12,
   "id": "1aa2cb4f-5541-44f0-8159-8bebbc7fe0dc",
   "metadata": {},
   "outputs": [
    {
     "name": "stdin",
     "output_type": "stream",
     "text": [
      "enter your marks:  99\n"
     ]
    },
    {
     "name": "stdout",
     "output_type": "stream",
     "text": [
      "Excellent\n"
     ]
    }
   ],
   "source": [
    "#Take a number from the user\n",
    "#- if the number is less than 60 => fail\n",
    "#- if number is more than 60 and less than 80  => average\n",
    "#- if number is more than 80 and less than 90  => good\n",
    "#- if number is more tham 90  => excellent\n",
    "\n",
    "marks=int(input(\"enter your marks: \"))\n",
    "if(marks<=60):\n",
    "    print(\"Fail\")\n",
    "elif(marks>=60 and marks<=80):\n",
    "    print(\"Average\")\n",
    "elif(marks>=80 and marks<=90):\n",
    "    print(\"Good\")      \n",
    "else:\n",
    "    print(\"Excellent\")"
   ]
  },
  {
   "cell_type": "code",
   "execution_count": null,
   "id": "b04830b8-1464-4328-b608-57cf10cfdb2a",
   "metadata": {},
   "outputs": [],
   "source": []
  }
 ],
 "metadata": {
  "kernelspec": {
   "display_name": "Python 3 (ipykernel)",
   "language": "python",
   "name": "python3"
  },
  "language_info": {
   "codemirror_mode": {
    "name": "ipython",
    "version": 3
   },
   "file_extension": ".py",
   "mimetype": "text/x-python",
   "name": "python",
   "nbconvert_exporter": "python",
   "pygments_lexer": "ipython3",
   "version": "3.12.2"
  }
 },
 "nbformat": 4,
 "nbformat_minor": 5
}
