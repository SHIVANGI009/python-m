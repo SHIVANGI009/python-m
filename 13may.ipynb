{
 "cells": [
  {
   "cell_type": "code",
   "execution_count": 5,
   "id": "2c891f10-a22c-4bec-ab8a-47bb5c842d14",
   "metadata": {},
   "outputs": [
    {
     "name": "stdout",
     "output_type": "stream",
     "text": [
      "white 5\n",
      "5\n"
     ]
    }
   ],
   "source": [
    "# student=class\n",
    "# sid,sname=variables,characteristics,attributes\n",
    "# branch,profile=class methods/function\n",
    "class House:\n",
    "    color=\"white\"\n",
    "    room=5\n",
    "\n",
    "h1=House()\n",
    "print(h1.color,h1.room)\n",
    "h2=House()\n",
    "print(h2.room)"
   ]
  },
  {
   "cell_type": "code",
   "execution_count": 11,
   "id": "6330be78-e89f-44d7-81c6-0d0e1581b151",
   "metadata": {},
   "outputs": [
    {
     "name": "stdout",
     "output_type": "stream",
     "text": [
      "yellow 5\n"
     ]
    }
   ],
   "source": [
    "class House:\n",
    "    # class variable: access both class and object\n",
    "    color=\"white\"\n",
    "    room=5\n",
    "    def info(self):\n",
    "        print(self.color,self.room)\n",
    "\n",
    "h1=House()\n",
    "h1.color=\"yellow\"\n",
    "h1.info() # info is functionality "
   ]
  },
  {
   "cell_type": "code",
   "execution_count": 18,
   "id": "08928f2f-a4a7-48e9-9d1f-a690cde18b94",
   "metadata": {},
   "outputs": [
    {
     "name": "stdout",
     "output_type": "stream",
     "text": [
      "hey <__main__.House object at 0x000001755AB461E0>\n",
      "<__main__.House object at 0x000001755AB461E0>\n"
     ]
    }
   ],
   "source": [
    "# constructor:intialize the objects\n",
    "class House:\n",
    "    def __init__(self):\n",
    "        # self is an parameter that holds the current object of memory address\n",
    "        print(\"hey\",self)\n",
    "\n",
    "h1=House()\n",
    "print(h1) "
   ]
  },
  {
   "cell_type": "code",
   "execution_count": 20,
   "id": "fb30927b-8126-46e4-a771-cc93eb620eb1",
   "metadata": {},
   "outputs": [
    {
     "name": "stdout",
     "output_type": "stream",
     "text": [
      "hey pink\n"
     ]
    }
   ],
   "source": [
    "class House:\n",
    "    def __init__(self,x):\n",
    "        print(\"hey\",x)\n",
    "        \n",
    "# House() is basically a constructor of a class\n",
    "# constructor is the function\n",
    "# function is __init__()\n",
    "# self is the current object reference by default \n",
    "h1=House(\"pink\")"
   ]
  },
  {
   "cell_type": "code",
   "execution_count": 32,
   "id": "56ff60b3-b681-49a8-95a0-890172e965bb",
   "metadata": {},
   "outputs": [
    {
     "data": {
      "text/plain": [
       "5"
      ]
     },
     "execution_count": 32,
     "metadata": {},
     "output_type": "execute_result"
    }
   ],
   "source": [
    "class House:\n",
    "    def __init__(self,color,room):\n",
    "        # instance variable / object variable \n",
    "        self.color=color\n",
    "        self.room=room\n",
    "        \n",
    "h2=House(\"green\",5)\n",
    "h2.room"
   ]
  },
  {
   "cell_type": "code",
   "execution_count": 18,
   "id": "c1e6787d-2710-4fda-8476-51a9535f8593",
   "metadata": {},
   "outputs": [
    {
     "name": "stdout",
     "output_type": "stream",
     "text": [
      "Email: shivangi11@example.com\n",
      "Salary: 110000000\n",
      "Employee Name: shivangi\n"
     ]
    }
   ],
   "source": [
    "class Employee:\n",
    "    company = \"regex\"  \n",
    "    def __init__(self,email,salary,ename,eid):\n",
    "        self.email=email  \n",
    "        self.salary=salary \n",
    "        self.ename=ename  \n",
    "        self.eid=eid \n",
    "    \n",
    "    def info(self):\n",
    "        print(\"Email:\", self.email)\n",
    "        print(\"Salary:\", self.salary)\n",
    "        print(\"Employee Name:\", self.ename) \n",
    "\n",
    "h1=Employee(\"shivangi11@example.com\",110000000,\"shivangi\",11)\n",
    "h1.info()"
   ]
  },
  {
   "cell_type": "code",
   "execution_count": null,
   "id": "6895c124-de72-4565-8e31-7e34b5493e96",
   "metadata": {},
   "outputs": [],
   "source": []
  }
 ],
 "metadata": {
  "kernelspec": {
   "display_name": "Python 3 (ipykernel)",
   "language": "python",
   "name": "python3"
  },
  "language_info": {
   "codemirror_mode": {
    "name": "ipython",
    "version": 3
   },
   "file_extension": ".py",
   "mimetype": "text/x-python",
   "name": "python",
   "nbconvert_exporter": "python",
   "pygments_lexer": "ipython3",
   "version": "3.12.2"
  }
 },
 "nbformat": 4,
 "nbformat_minor": 5
}
