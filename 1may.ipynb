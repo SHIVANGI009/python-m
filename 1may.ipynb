{
  "nbformat": 4,
  "nbformat_minor": 0,
  "metadata": {
    "colab": {
      "provenance": []
    },
    "kernelspec": {
      "name": "python3",
      "display_name": "Python 3"
    },
    "language_info": {
      "name": "python"
    }
  },
  "cells": [
    {
      "cell_type": "code",
      "execution_count": null,
      "metadata": {
        "colab": {
          "base_uri": "https://localhost:8080/"
        },
        "id": "LksZiaHWWICp",
        "outputId": "08f970c3-2997-425d-bb4a-cc00300a213a"
      },
      "outputs": [
        {
          "output_type": "stream",
          "name": "stdout",
          "text": [
            "Result of tuple addition: (5, 7, 9)\n"
          ]
        }
      ],
      "source": [
        "tuple1 = (1, 2, 3)\n",
        "tuple2 = (4, 5, 6)\n",
        "\n",
        "result = tuple(x + y for x, y in zip(tuple1, tuple2))\n",
        "\n",
        "print(\"Result of tuple addition:\", result)"
      ]
    },
    {
      "cell_type": "code",
      "source": [
        "list1 = [7, 3, 1, 5, 9, 2, 4, 6]\n",
        "list1.sort()\n",
        "n=len(list1)\n",
        "if n%2!=0:\n",
        "    median=list1[n // 2]\n",
        "else:\n",
        "    median=(list1[n//2-1]+list1[n//2])/2\n",
        "print(\"Median of the list:\",median)"
      ],
      "metadata": {
        "colab": {
          "base_uri": "https://localhost:8080/"
        },
        "id": "Imcjq8trWTKi",
        "outputId": "f5ac7129-924a-4d26-a26e-fc8e774ed9ed"
      },
      "execution_count": null,
      "outputs": [
        {
          "output_type": "stream",
          "name": "stdout",
          "text": [
            "Median of the list: 4.5\n"
          ]
        }
      ]
    },
    {
      "cell_type": "code",
      "source": [
        "integer_tuple = (7, 3, 1, 5, 9, 2, 4, 6, 8)\n",
        "maximum_element = max(integer_tuple)\n",
        "minimum_element = min(integer_tuple)\n",
        "print(\"Maximum:\", maximum_element)\n",
        "print(\"Minimum:\", minimum_element)"
      ],
      "metadata": {
        "colab": {
          "base_uri": "https://localhost:8080/"
        },
        "id": "x1YmdchaXkzJ",
        "outputId": "8d6112ca-81aa-478f-a6ed-11fd5fa839f2"
      },
      "execution_count": null,
      "outputs": [
        {
          "output_type": "stream",
          "name": "stdout",
          "text": [
            "Maximum element in the tuple: 9\n",
            "Minimum element in the tuple: 1\n"
          ]
        }
      ]
    },
    {
      "cell_type": "code",
      "source": [
        "set1 = {1, 2}\n",
        "set2 = {'a', 'b'}\n",
        "\n",
        "cartesian_product = {(x, y) for x in set1 for y in set2}\n",
        "\n",
        "print(\"Cartesian product of the two sets:\", cartesian_product)"
      ],
      "metadata": {
        "colab": {
          "base_uri": "https://localhost:8080/"
        },
        "id": "Ed3ejj-jZhhM",
        "outputId": "b8be3536-2550-4429-bcf3-fef9d8825fe9"
      },
      "execution_count": null,
      "outputs": [
        {
          "output_type": "stream",
          "name": "stdout",
          "text": [
            "Cartesian product of the two sets: {(2, 'a'), (2, 'b'), (1, 'a'), (1, 'b')}\n"
          ]
        }
      ]
    },
    {
      "cell_type": "code",
      "source": [
        "tuple1=(1,2,3)\n",
        "p1={(x,y,z) for x in tuple1 for y in tuple1 for z in tuple1 }\n",
        "print(p1)"
      ],
      "metadata": {
        "colab": {
          "base_uri": "https://localhost:8080/"
        },
        "id": "FlaLT2dwbmq1",
        "outputId": "abc4d2c7-eb9f-495a-f310-a2ed4543248e"
      },
      "execution_count": null,
      "outputs": [
        {
          "output_type": "stream",
          "name": "stdout",
          "text": [
            "{(2, 2, 2), (2, 1, 3), (3, 2, 1), (1, 2, 2), (1, 3, 3), (3, 1, 2), (3, 3, 2), (2, 3, 3), (1, 1, 3), (2, 1, 2), (2, 2, 1), (3, 1, 1), (1, 2, 1), (3, 3, 1), (1, 3, 2), (3, 2, 3), (2, 3, 2), (1, 1, 2), (2, 2, 3), (2, 1, 1), (3, 1, 3), (1, 3, 1), (1, 2, 3), (3, 2, 2), (3, 3, 3), (2, 3, 1), (1, 1, 1)}\n"
          ]
        }
      ]
    },
    {
      "cell_type": "code",
      "source": [],
      "metadata": {
        "id": "qVtdq_J5hz-U"
      },
      "execution_count": null,
      "outputs": []
    }
  ]
}