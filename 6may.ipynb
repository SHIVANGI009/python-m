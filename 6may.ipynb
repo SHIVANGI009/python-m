{
  "nbformat": 4,
  "nbformat_minor": 0,
  "metadata": {
    "colab": {
      "provenance": []
    },
    "kernelspec": {
      "name": "python3",
      "display_name": "Python 3"
    },
    "language_info": {
      "name": "python"
    }
  },
  "cells": [
    {
      "cell_type": "code",
      "execution_count": 2,
      "metadata": {
        "colab": {
          "base_uri": "https://localhost:8080/"
        },
        "id": "nfQRQQb7Dv2Z",
        "outputId": "46129dd3-85a0-47e9-e489-f93d3079bdd1"
      },
      "outputs": [
        {
          "output_type": "stream",
          "name": "stdout",
          "text": [
            "hi\n"
          ]
        }
      ],
      "source": [
        "# function\n",
        "def func():\n",
        "  print(\"hi\")\n",
        "func()  # function call"
      ]
    },
    {
      "cell_type": "code",
      "source": [
        "# parameter / formal parameter / informal parameter\n",
        "def func(x): # local variable\n",
        "  print(\"hi\",x)\n",
        "func(\"shivangi\")"
      ],
      "metadata": {
        "colab": {
          "base_uri": "https://localhost:8080/"
        },
        "id": "y4JJj3iREPMd",
        "outputId": "1be616f2-5ee8-41ad-9921-d8b4650383c3"
      },
      "execution_count": 4,
      "outputs": [
        {
          "output_type": "stream",
          "name": "stdout",
          "text": [
            "hi shivangi\n"
          ]
        }
      ]
    },
    {
      "cell_type": "code",
      "source": [
        "def func(x,y):\n",
        "  print(x+y)\n",
        "func(10,2)"
      ],
      "metadata": {
        "colab": {
          "base_uri": "https://localhost:8080/"
        },
        "id": "qG80a23KE0U0",
        "outputId": "e581af89-43a9-4a12-a544-e9c6a992bccb"
      },
      "execution_count": 5,
      "outputs": [
        {
          "output_type": "stream",
          "name": "stdout",
          "text": [
            "12\n"
          ]
        }
      ]
    },
    {
      "cell_type": "code",
      "source": [
        "# return value\n",
        "def func(x,y):\n",
        "  print(x+y)\n",
        "out=func(6,4)\n",
        "print(out)"
      ],
      "metadata": {
        "colab": {
          "base_uri": "https://localhost:8080/"
        },
        "id": "R1LprhEBH_l3",
        "outputId": "943468e1-b812-46a7-f6f7-39c07f428edc"
      },
      "execution_count": 9,
      "outputs": [
        {
          "output_type": "stream",
          "name": "stdout",
          "text": [
            "10\n",
            "None\n"
          ]
        }
      ]
    },
    {
      "cell_type": "code",
      "source": [
        "def func(x,y):\n",
        "  print(x+y)\n",
        "  return \"hey\"\n",
        "out=func(6,4)\n",
        "print(out)"
      ],
      "metadata": {
        "colab": {
          "base_uri": "https://localhost:8080/"
        },
        "id": "29Jj3k0wFjus",
        "outputId": "74c8ae07-8566-4194-a805-f94f5e9f0805"
      },
      "execution_count": 7,
      "outputs": [
        {
          "output_type": "stream",
          "name": "stdout",
          "text": [
            "10\n",
            "hey\n"
          ]
        }
      ]
    },
    {
      "cell_type": "code",
      "source": [
        "def func(x,y):\n",
        "  return x+y\n",
        "out=func(6,4)\n",
        "print(out)"
      ],
      "metadata": {
        "colab": {
          "base_uri": "https://localhost:8080/"
        },
        "id": "WmGcNh4RHQ81",
        "outputId": "203af27b-3a72-44cd-b3f3-5dc48202f231"
      },
      "execution_count": 8,
      "outputs": [
        {
          "output_type": "stream",
          "name": "stdout",
          "text": [
            "10\n"
          ]
        }
      ]
    },
    {
      "cell_type": "code",
      "source": [
        " def func(x):\n",
        "  x[0]=\"shivangi\"\n",
        "  print(x,id(x))\n",
        "\n",
        "list1=[100,2,3,4]\n",
        "print(\"list1 memory\",id(list1))\n",
        "func(list1)\n",
        "print(\"value of list\",list1)"
      ],
      "metadata": {
        "colab": {
          "base_uri": "https://localhost:8080/"
        },
        "id": "3L516p-rHg5L",
        "outputId": "1d8e9327-58e0-45a8-ef7e-ad31a54a6ed0"
      },
      "execution_count": 23,
      "outputs": [
        {
          "output_type": "stream",
          "name": "stdout",
          "text": [
            "list1 memory 139373081493440\n",
            "['shivangi', 2, 3, 4] 139373081493440\n",
            "value of list ['shivangi', 2, 3, 4]\n"
          ]
        }
      ]
    },
    {
      "cell_type": "code",
      "source": [
        "# print the following pattern\n",
        "def func():\n",
        "  for i in range(5,0,-1):\n",
        "    for j in range(5-i):\n",
        "      print(\" \",end=\" \")\n",
        "    for j in range(1,i+1):\n",
        "      print(\"*\",end=\" \")\n",
        "    for j in range(i-1,0,-1):\n",
        "      print(\"*\",end=\" \")\n",
        "    print(\"\")\n",
        "func()"
      ],
      "metadata": {
        "colab": {
          "base_uri": "https://localhost:8080/"
        },
        "id": "Bl1oBFbWVPxw",
        "outputId": "99cfd32d-4234-4c50-9605-66e2f0d48f93"
      },
      "execution_count": 17,
      "outputs": [
        {
          "output_type": "stream",
          "name": "stdout",
          "text": [
            "* * * * * * * * * \n",
            "  * * * * * * * \n",
            "    * * * * * \n",
            "      * * * \n",
            "        * \n"
          ]
        }
      ]
    },
    {
      "cell_type": "code",
      "source": [
        "# Create a function and find the prime number from the input.\n",
        "def func(x):\n",
        "  if x<=1:\n",
        "    return(False)\n",
        "  for i in range(2,x):\n",
        "    if x%i==0:\n",
        "        return False\n",
        "  return True\n",
        "my_list=[1,2,3,4,5,6,7,8,9,10]\n",
        "prime=[]\n",
        "for x in my_list:\n",
        "   if func(x):\n",
        "      prime.append(x)\n",
        "print(prime)"
      ],
      "metadata": {
        "colab": {
          "base_uri": "https://localhost:8080/"
        },
        "id": "dL3BKE0eyTrg",
        "outputId": "fb45e55c-e18d-455e-b4be-704c736f8645"
      },
      "execution_count": 18,
      "outputs": [
        {
          "output_type": "stream",
          "name": "stdout",
          "text": [
            "[2, 3, 5, 7]\n"
          ]
        }
      ]
    },
    {
      "cell_type": "code",
      "source": [
        "# create a function which takes 1 parameter as int\n",
        "def func(num):\n",
        "    if isinstance(num, int): # isinstance function is used to check if an object\n",
        "    # belongs to a particular class of integer data type\n",
        "        print(\"The provided integer is:\", num)\n",
        "    else:\n",
        "        print(\"Error: The parameter is not an integer.\")\n",
        "\n",
        "func(10)\n",
        "func(\"hello\")"
      ],
      "metadata": {
        "colab": {
          "base_uri": "https://localhost:8080/"
        },
        "id": "sIHHVc9w0fAD",
        "outputId": "fcb7110a-6fd8-4daf-c8cd-aa5105ca7a33"
      },
      "execution_count": 24,
      "outputs": [
        {
          "output_type": "stream",
          "name": "stdout",
          "text": [
            "The provided integer is: 10\n",
            "Error: The parameter is not an integer.\n"
          ]
        }
      ]
    },
    {
      "cell_type": "code",
      "source": [
        "# create a function and find out the lcm of two number\n",
        "def func(x, y):\n",
        "    # Choose the greater number\n",
        "    if x > y:\n",
        "        greater = x\n",
        "    else:\n",
        "        greater = y\n",
        "\n",
        "    while True:\n",
        "        if (greater % x == 0) and (greater % y == 0):\n",
        "            lcm = greater\n",
        "            break\n",
        "        greater += 1\n",
        "\n",
        "    return lcm\n",
        "\n",
        "num1 = 2\n",
        "num2 = 3\n",
        "print(\"The LCM of\", num1, \"and\", num2, \"is\", func(num1, num2))"
      ],
      "metadata": {
        "colab": {
          "base_uri": "https://localhost:8080/"
        },
        "id": "6pynRBED1vee",
        "outputId": "e439af81-dce6-4f92-9890-4b5370e3aa5e"
      },
      "execution_count": 29,
      "outputs": [
        {
          "output_type": "stream",
          "name": "stdout",
          "text": [
            "The LCM of 2 and 3 is 6\n"
          ]
        }
      ]
    }
  ]
}