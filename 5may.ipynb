{
 "cells": [
  {
   "cell_type": "code",
   "execution_count": 364,
   "id": "bcddcb38-dc58-4a07-8e4a-29895e7a5dd7",
   "metadata": {},
   "outputs": [
    {
     "name": "stdout",
     "output_type": "stream",
     "text": [
      "* \n",
      "* * \n",
      "* * * \n",
      "* * * * \n",
      "* * * * * \n"
     ]
    }
   ],
   "source": [
    "# Print a pattern of staircase using asterisks\n",
    "for i in range(1,6):\n",
    "    for j in range(i):\n",
    "        print(\"*\",end=\" \")\n",
    "    print(\"\")    "
   ]
  },
  {
   "cell_type": "code",
   "execution_count": 231,
   "id": "c6f3b087-f9e6-4820-8704-35f7bed34e69",
   "metadata": {},
   "outputs": [
    {
     "name": "stdout",
     "output_type": "stream",
     "text": [
      "            *    \n",
      "          *   *    \n",
      "        *   *   *    \n",
      "      *   *   *   *    \n",
      "    *   *   *   *   *    \n",
      "  *   *   *   *   *   *    \n",
      "*   *   *   *   *   *   *    \n"
     ]
    }
   ],
   "source": [
    "for i in range(1,8):\n",
    "    for j in range(i,7):\n",
    "        print(\" \",end=\" \")\n",
    "    for k in range(0,i):\n",
    "        print(\"*\",\" \",end=\" \")\n",
    "    print(\" \")    "
   ]
  },
  {
   "cell_type": "code",
   "execution_count": 245,
   "id": "f28b377d-c9c1-4fdc-b4e2-8ab19b020a93",
   "metadata": {},
   "outputs": [
    {
     "name": "stdout",
     "output_type": "stream",
     "text": [
      "        * \n",
      "      * * * \n",
      "    * * * * * \n",
      "  * * * * * * * \n",
      "* * * * * * * * * \n"
     ]
    }
   ],
   "source": [
    "# Print a pattern of equilateral triangle\n",
    "for i in range(1,5+1):\n",
    "    for j in range(5-i):\n",
    "        print(\" \",end=\" \")\n",
    "    for k in range(1,2*i):\n",
    "        print(\"*\",end=\" \")\n",
    "    print(\"\")       "
   ]
  },
  {
   "cell_type": "code",
   "execution_count": 282,
   "id": "ce2b38d9-a3b7-42e9-9c36-c2d7a2ce8883",
   "metadata": {},
   "outputs": [
    {
     "name": "stdout",
     "output_type": "stream",
     "text": [
      "        1 \n",
      "      1 2 1 \n",
      "    1 2 3 2 1 \n",
      "  1 2 3 4 3 2 1 \n",
      "1 2 3 4 5 4 3 2 1 \n"
     ]
    }
   ],
   "source": [
    "# Print a pattern of pyramid using numbers\n",
    "for i in range(1,5+1):\n",
    "    for j in range(5-i):\n",
    "        print(\" \",end=\" \")\n",
    "    for j in range(1,i+1): # Prints the numbers in increasing order for the left half of the pattern.\n",
    "        print(j,end=\" \")\n",
    "    for j in range(i-1,0,-1): # Prints the numbers in decreasing order for the right half of the pattern.\n",
    "        print(j,end=\" \")\n",
    "    print(\"\")    "
   ]
  },
  {
   "cell_type": "code",
   "execution_count": 365,
   "id": "285d227d-0ec9-45ce-b017-9b650b533f37",
   "metadata": {},
   "outputs": [
    {
     "name": "stdout",
     "output_type": "stream",
     "text": [
      "* * * * * * * * * \n",
      "  * * * * * * * \n",
      "    * * * * * \n",
      "      * * * \n",
      "        * \n"
     ]
    }
   ],
   "source": [
    "# Print a pattern of inverted pyramid using numbers\n",
    "for i in range(5,0,-1): \n",
    "    for j in range(5-i): \n",
    "        print(\" \",end=\" \") \n",
    "    for j in range(1,i+1): # Prints the numbers in increasing order for the left half of the pattern. \n",
    "        print(\"*\",end=\" \") \n",
    "    for j in range(i-1,0,-1): # Prints the numbers in decreasing order for the right half of the pattern.\n",
    "        print(\"*\",end=\" \") \n",
    "    print(\"\") "
   ]
  },
  {
   "cell_type": "code",
   "execution_count": 359,
   "id": "522faa57-72b4-411f-9abd-2331cf0499e7",
   "metadata": {},
   "outputs": [
    {
     "name": "stdout",
     "output_type": "stream",
     "text": [
      "        * \n",
      "      * * * \n",
      "    * * * * * \n",
      "  * * * * * * * \n",
      "* * * * * * * * * \n",
      "* * * * * * * * * \n",
      "  * * * * * * * \n",
      "    * * * * * \n",
      "      * * * \n",
      "        * \n"
     ]
    }
   ],
   "source": [
    "# Print a pattern of diamond using asterisks\n",
    "for i in range(1,5+1):\n",
    "    for j in range(5-i):\n",
    "        print(\" \",end=\" \")\n",
    "    for k in range(1,2*i):\n",
    "        print(\"*\",end=\" \") \n",
    "    print(\"\") \n",
    "for i in range(5,0,-1): \n",
    "    for j in range(5-i): \n",
    "        print(\" \",end=\" \") \n",
    "    for j in range(1,i+1): # Prints the numbers in increasing order for the left half of the pattern. \n",
    "        print(\"*\",end=\" \") \n",
    "    for j in range(i-1,0,-1): # Prints the numbers in decreasing order for the right half of the pattern.\n",
    "        print(\"*\",end=\" \")       \n",
    "    print(\"\")        "
   ]
  }
 ],
 "metadata": {
  "kernelspec": {
   "display_name": "Python 3 (ipykernel)",
   "language": "python",
   "name": "python3"
  },
  "language_info": {
   "codemirror_mode": {
    "name": "ipython",
    "version": 3
   },
   "file_extension": ".py",
   "mimetype": "text/x-python",
   "name": "python",
   "nbconvert_exporter": "python",
   "pygments_lexer": "ipython3",
   "version": "3.12.2"
  }
 },
 "nbformat": 4,
 "nbformat_minor": 5
}
