{
 "cells": [
  {
   "cell_type": "code",
   "execution_count": 5,
   "id": "5e54b44f-a3ec-4f06-bf5a-b8d1cf9d0526",
   "metadata": {},
   "outputs": [
    {
     "name": "stdout",
     "output_type": "stream",
     "text": [
      "calling the son class\n"
     ]
    }
   ],
   "source": [
    "# polymorphism\n",
    "class Father:\n",
    "    def info(self):\n",
    "        print(\"calling the father class\")\n",
    "\n",
    "class son(Father):\n",
    "    def sinfo(self):\n",
    "        print(\"calling the son class\")\n",
    "\n",
    "h1=son()\n",
    "h1.info()"
   ]
  },
  {
   "cell_type": "code",
   "execution_count": 6,
   "id": "6e9a01f3-3eec-4e50-803c-2b9dbfe0e3a9",
   "metadata": {},
   "outputs": [
    {
     "name": "stdout",
     "output_type": "stream",
     "text": [
      "calling the son class\n"
     ]
    }
   ],
   "source": [
    "class Father:\n",
    "    def info(self):\n",
    "        print(\"calling the father class\")\n",
    "\n",
    "class son(Father):\n",
    "    def info(self):\n",
    "        print(\"calling the son class\")\n",
    "\n",
    "h1=son()\n",
    "h1.info()"
   ]
  },
  {
   "cell_type": "code",
   "execution_count": 11,
   "id": "c4ad94ce-2c25-4fd7-9c18-e37d7841b738",
   "metadata": {},
   "outputs": [
    {
     "data": {
      "text/plain": [
       "<__main__.Example at 0x248de2c18e0>"
      ]
     },
     "execution_count": 11,
     "metadata": {},
     "output_type": "execute_result"
    }
   ],
   "source": [
    "# operator overloading\n",
    "class Example:\n",
    "    def __init__(self,x,y):\n",
    "        self.num1=x\n",
    "        self.num2=y\n",
    "\n",
    "h1=Example(10,20)\n",
    "h1"
   ]
  },
  {
   "cell_type": "code",
   "execution_count": 24,
   "id": "523b7280-b7e0-4a2b-be52-467129ec4a7b",
   "metadata": {},
   "outputs": [
    {
     "data": {
      "text/plain": [
       "Example class object has : 25 & 50"
      ]
     },
     "execution_count": 24,
     "metadata": {},
     "output_type": "execute_result"
    }
   ],
   "source": [
    "class Example:\n",
    "    def __init__(self,x,y):\n",
    "        self.num1=x\n",
    "        self.num2=y\n",
    "    # __func__ -> dundle method    \n",
    "    def __repr__(self):\n",
    "        return f\"Example class object has : {self.num1} & {self.num2}\"\n",
    "    def __add__(self,h1):\n",
    "        x=self.num1 + h2.num1\n",
    "        y=self.num2 + h2.num2\n",
    "        return Example(x,y)\n",
    "        \n",
    "h1=Example(10,20)\n",
    "h2=Example(15,30)\n",
    "h1+h2"
   ]
  },
  {
   "cell_type": "code",
   "execution_count": null,
   "id": "8c3ab313-de08-492d-b891-d23850a0e9f1",
   "metadata": {},
   "outputs": [],
   "source": [
    "# abstraction\n",
    "# feature of oops\n",
    "# hide unwanted details from the user\n",
    "class Mammels:\n",
    "    def legs(self):\n",
    "        pass\n",
    "\n",
    "\n",
    "        "
   ]
  }
 ],
 "metadata": {
  "kernelspec": {
   "display_name": "Python 3 (ipykernel)",
   "language": "python",
   "name": "python3"
  },
  "language_info": {
   "codemirror_mode": {
    "name": "ipython",
    "version": 3
   },
   "file_extension": ".py",
   "mimetype": "text/x-python",
   "name": "python",
   "nbconvert_exporter": "python",
   "pygments_lexer": "ipython3",
   "version": "3.12.2"
  }
 },
 "nbformat": 4,
 "nbformat_minor": 5
}
