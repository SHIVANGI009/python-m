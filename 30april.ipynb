{
  "cells": [
    {
      "cell_type": "code",
      "execution_count": null,
      "metadata": {
        "colab": {
          "base_uri": "https://localhost:8080/"
        },
        "id": "kYd9HWKlhdl2",
        "outputId": "62ef2d39-eac5-4757-87dd-673ffea4f27e"
      },
      "outputs": [
        {
          "name": "stdout",
          "output_type": "stream",
          "text": [
            "enter your value: 1\n",
            "x\n"
          ]
        }
      ],
      "source": [
        "n=int(input(\"enter your value: \"))\n",
        "c=\"x\"\n",
        "result=\"\"\n",
        "for i in range(n):\n",
        "    result+=c\n",
        "\n",
        "print(result)"
      ]
    },
    {
      "cell_type": "code",
      "execution_count": null,
      "metadata": {
        "colab": {
          "base_uri": "https://localhost:8080/"
        },
        "id": "J19-An-xjuKN",
        "outputId": "bc5d77c7-42ce-4c28-8387-0130d6931e9b"
      },
      "outputs": [
        {
          "output_type": "stream",
          "name": "stdout",
          "text": [
            "largest number in the list is:  223\n"
          ]
        }
      ],
      "source": [
        "num=[2,4,6,8,90,223]\n",
        "num.sort()\n",
        "print(\"largest number in the list is: \",num[-1])"
      ]
    },
    {
      "cell_type": "code",
      "source": [
        "wordslist = input(\"Enter a list of words separated by spaces: \").split()\n",
        "\n",
        "lengths = [len(word) for word in wordslist]\n",
        "\n",
        "print(lengths)\n"
      ],
      "metadata": {
        "id": "qYiOPdq6qTBC",
        "colab": {
          "base_uri": "https://localhost:8080/"
        },
        "outputId": "cbd8fbc7-5017-4e59-bd5c-eb98e9c8480a"
      },
      "execution_count": 6,
      "outputs": [
        {
          "output_type": "stream",
          "name": "stdout",
          "text": [
            "Enter a list of words separated by spaces: apple banana stawberry\n",
            "[5, 6, 9]\n"
          ]
        }
      ]
    },
    {
      "cell_type": "code",
      "source": [
        "list1=input(\"Enter a list of words separated by spaces: \").split()\n",
        "word=lambda words: max(map(len, words))\n",
        "length=word(list1)\n",
        "print(\"Length of the longest word:\",length)"
      ],
      "metadata": {
        "colab": {
          "base_uri": "https://localhost:8080/"
        },
        "id": "GVFreIGPf1QF",
        "outputId": "b0ca1dd2-52d2-4131-f170-9dab50afc209"
      },
      "execution_count": 8,
      "outputs": [
        {
          "output_type": "stream",
          "name": "stdout",
          "text": [
            "Enter a list of words separated by spaces: apple car \n",
            "Length of the longest word: 5\n"
          ]
        }
      ]
    },
    {
      "cell_type": "code",
      "source": [
        "words_list = input(\"Enter a list of words separated by spaces: \").split()\n",
        "n = int(input(\"Enter the minimum length to filter: \"))\n",
        "filter_long_words = lambda words, n: list(filter(lambda word: len(word) > n, words))\n",
        "filtered_words = filter_long_words(words_list, n)\n",
        "print(\"Words longer than\", n, \"characters:\", filtered_words)"
      ],
      "metadata": {
        "colab": {
          "base_uri": "https://localhost:8080/"
        },
        "id": "Por4Nb4igxw1",
        "outputId": "a53ae75f-8cf1-4c6a-86a2-04ddfb1f2d4d"
      },
      "execution_count": 9,
      "outputs": [
        {
          "output_type": "stream",
          "name": "stdout",
          "text": [
            "Enter a list of words separated by spaces: shivangi shaily madhav\n",
            "Enter the minimum length to filter: 11\n",
            "Words longer than 11 characters: []\n"
          ]
        }
      ]
    },
    {
      "cell_type": "code",
      "source": [
        "sentence = input(\"Enter a sentence: \")\n",
        "\n",
        "alphabet = \"abcdefghijklmnopqrstuvwxyz\"\n",
        "sentence = sentence.lower()\n",
        "\n",
        "p1= all(char in sentence for char in alphabet)\n",
        "\n",
        "print(\"The sentence is a pangram:\", p1)\n"
      ],
      "metadata": {
        "colab": {
          "base_uri": "https://localhost:8080/"
        },
        "id": "syQnMQ2PimX0",
        "outputId": "e5baebde-cfad-424c-955c-d56233a767d8"
      },
      "execution_count": 13,
      "outputs": [
        {
          "output_type": "stream",
          "name": "stdout",
          "text": [
            "Enter a sentence: s\n",
            "The sentence is a pangram: False\n"
          ]
        }
      ]
    },
    {
      "cell_type": "code",
      "source": [
        "bilingual_lexicon = {\n",
        "    \"merry\": \"god\",\n",
        "    \"christmas\": \"jul\",\n",
        "    \"and\": \"och\",\n",
        "    \"happy\": \"gott\",\n",
        "    \"new\": \"nytt\",\n",
        "    \"year\": \"år\"\n",
        "}\n",
        "english_words = [\"merry\", \"christmas\", \"and\", \"happy\", \"new\", \"year\"]\n",
        "swedish_words = [bilingual_lexicon[word] for word in english_words]\n",
        "print(\"English words:\", english_words)\n",
        "print(\"Swedish words:\", swedish_words)"
      ],
      "metadata": {
        "colab": {
          "base_uri": "https://localhost:8080/"
        },
        "id": "y4M895HojoNE",
        "outputId": "43105388-4465-4def-eba8-669ac62ebe0a"
      },
      "execution_count": 14,
      "outputs": [
        {
          "output_type": "stream",
          "name": "stdout",
          "text": [
            "English words: ['merry', 'christmas', 'and', 'happy', 'new', 'year']\n",
            "Swedish words: ['god', 'jul', 'och', 'gott', 'nytt', 'år']\n"
          ]
        }
      ]
    },
    {
      "cell_type": "code",
      "source": [
        "char_freq = (lambda string: {char: string.count(char) for char in set(string)})\n",
        "frequency_listing = char_freq(\"abbabcbdbabdbdbabababcbcbab\")\n",
        "print(frequency_listing)"
      ],
      "metadata": {
        "colab": {
          "base_uri": "https://localhost:8080/"
        },
        "id": "NRrbGkz7mMyE",
        "outputId": "344212c8-8c4a-465c-accf-03ba8d4f611a"
      },
      "execution_count": 15,
      "outputs": [
        {
          "output_type": "stream",
          "name": "stdout",
          "text": [
            "{'d': 3, 'b': 14, 'c': 3, 'a': 7}\n"
          ]
        }
      ]
    },
    {
      "cell_type": "code",
      "source": [
        "print(\"Basic Arithmetic Operations:\")\n",
        "print(\"1. Addition of 5 and 3:\", 5 + 3)\n",
        "print(\"2. Subtraction of 5 from 3:\", 5 - 3)\n",
        "print(\"3. Multiplication of 5 and 3:\", 5 * 3)\n",
        "print(\"4. Division of 5 by 3:\", 5 / 3)\n",
        "print(\"5. Integer division of 5 by 3:\", 5 // 3)\n",
        "print(\"6. Modulus of 5 by 3:\", 5 % 3)\n",
        "print(\"7. Exponentiation of 5 to the power of 3:\", 5 ** 3)\n",
        "\n",
        "print(\"\\nTrigonometric Functions (Using Taylor series approximations):\")\n",
        "x = 0.5\n",
        "sin_x = x - (x**3) / 6 + (x**5) / 120\n",
        "cos_x = 1 - (x**2) / 2 + (x**4) / 24\n",
        "print(\"1. Sine of\", x, \":\", sin_x)\n",
        "print(\"2. Cosine of\", x, \":\", cos_x)\n",
        "\n",
        "print(\"\\nFactorial Function (Using iterative method):\")\n",
        "n = 5\n",
        "factorial = 1\n",
        "for i in range(1, n + 1):\n",
        "    factorial *= i\n",
        "print(\"Factorial of\", n, \":\", factorial)\n",
        "\n",
        "print(\"\\nSquare Root Function (Using approximation method):\")\n",
        "x = 25\n",
        "sqrt_x = x ** 0.5\n",
        "print(\"Square root of\", x, \":\", sqrt_x)\n"
      ],
      "metadata": {
        "colab": {
          "base_uri": "https://localhost:8080/"
        },
        "id": "ODG5J-c845QV",
        "outputId": "dd3a46f7-769f-4e0f-f922-0b4fa75b4bef"
      },
      "execution_count": 22,
      "outputs": [
        {
          "output_type": "stream",
          "name": "stdout",
          "text": [
            "Basic Arithmetic Operations:\n",
            "1. Addition of 5 and 3: 8\n",
            "2. Subtraction of 5 from 3: 2\n",
            "3. Multiplication of 5 and 3: 15\n",
            "4. Division of 5 by 3: 1.6666666666666667\n",
            "5. Integer division of 5 by 3: 1\n",
            "6. Modulus of 5 by 3: 2\n",
            "7. Exponentiation of 5 to the power of 3: 125\n",
            "\n",
            "Trigonometric Functions (Using Taylor series approximations):\n",
            "1. Sine of 0.5 : 0.47942708333333334\n",
            "2. Cosine of 0.5 : 0.8776041666666666\n",
            "\n",
            "Factorial Function (Using iterative method):\n",
            "Factorial of 5 : 120\n",
            "\n",
            "Square Root Function (Using approximation method):\n",
            "Square root of 25 : 5.0\n"
          ]
        }
      ]
    },
    {
      "cell_type": "code",
      "source": [
        "name = input(\"Enter your name: \")\n",
        "id_number = input(\"Enter your ID number: \")\n",
        "location = input(\"Enter your location: \")\n",
        "\n",
        "print(\"Name: {}, ID Number: {}, Location: {}\".format(name, id_number, location))\n"
      ],
      "metadata": {
        "colab": {
          "base_uri": "https://localhost:8080/"
        },
        "id": "19mp4xn7Edsa",
        "outputId": "b0f0e1a6-83d7-435c-d7ef-4008b62e5534"
      },
      "execution_count": 23,
      "outputs": [
        {
          "output_type": "stream",
          "name": "stdout",
          "text": [
            "Enter your name: shivangi\n",
            "Enter your ID number: 111111\n",
            "Enter your location: jaipur\n",
            "Name: shivangi, ID Number: 111111, Location: jaipur\n"
          ]
        }
      ]
    },
    {
      "cell_type": "code",
      "source": [
        "ip_address = \"172.65.234.45\"\n",
        "\n",
        "octets = ip_address.split(\".\")\n",
        "\n",
        "octets[-1], octets[-2] = octets[-2], octets[-1]\n",
        "\n",
        "new_ip_address = \".\".join(octets)\n",
        "\n",
        "print(\"Input IP address:\", ip_address)\n",
        "print(\"Output IP address:\", new_ip_address)"
      ],
      "metadata": {
        "colab": {
          "base_uri": "https://localhost:8080/"
        },
        "id": "adATROuvFuTM",
        "outputId": "b25ef7b2-fcb7-4199-de7a-3fe608d2b13b"
      },
      "execution_count": 24,
      "outputs": [
        {
          "output_type": "stream",
          "name": "stdout",
          "text": [
            "Input IP address: 172.65.234.45\n",
            "Output IP address: 172.65.45.234\n"
          ]
        }
      ]
    },
    {
      "cell_type": "code",
      "source": [
        "lst = [1, 2, 3, 4, 5]\n",
        "\n",
        "length = len(lst)\n",
        "\n",
        "for i in range(length // 2):\n",
        "    lst[i], lst[length - i - 1] = lst[length - i - 1], lst[i]\n",
        "\n",
        "print(\"Reversed list:\", lst)"
      ],
      "metadata": {
        "colab": {
          "base_uri": "https://localhost:8080/"
        },
        "id": "4SfKMse1GX0r",
        "outputId": "42e65caa-293b-47c5-e264-418d2a06a9d9"
      },
      "execution_count": 26,
      "outputs": [
        {
          "output_type": "stream",
          "name": "stdout",
          "text": [
            "Reversed list: [5, 4, 3, 2, 1]\n"
          ]
        }
      ]
    },
    {
      "cell_type": "code",
      "source": [
        "try:\n",
        "    input_str = input(\"Enter employee name and rating (separated by colon): \")\n",
        "\n",
        "    name, rating_str = map(str.strip, input_str.split(\":\"))\n",
        "\n",
        "    if not name:\n",
        "        raise ValueError(\"Name is NULL\")\n",
        "    if not rating_str:\n",
        "        raise ValueError(\"Rating is NULL\")\n",
        "\n",
        "    rating = float(rating_str)\n",
        "    if rating < 1 or rating > 10:\n",
        "        raise ValueError(\"Rating must be between 1 and 10\")\n",
        "\n",
        "    if any(char.isdigit() for char in name):\n",
        "        raise ValueError(\"Name contains integers\")\n",
        "\n",
        "    print(\"Employee Name:\", name)\n",
        "    print(\"Performance Rating:\", rating)\n",
        "\n",
        "except ValueError as e:\n",
        "    print(\"Invalid input:\", e)\n",
        "except KeyboardInterrupt:\n",
        "    print(\"\\nProgram terminated by user.\")\n",
        "except Exception as e:\n",
        "    print(\"Error:\", e)\n"
      ],
      "metadata": {
        "colab": {
          "base_uri": "https://localhost:8080/"
        },
        "id": "cU3B39irGzr5",
        "outputId": "30be5e11-fb4e-4f25-e288-0448bc752a3a"
      },
      "execution_count": 27,
      "outputs": [
        {
          "output_type": "stream",
          "name": "stdout",
          "text": [
            "Enter employee name and rating (separated by colon): shivangi 111\n",
            "Invalid input: not enough values to unpack (expected 2, got 1)\n"
          ]
        }
      ]
    },
    {
      "cell_type": "code",
      "source": [
        "lst = [5, 21, 4, 18, 2, 55, 6, 8, 3, 18, 5, 3, 44]\n",
        "\n",
        "even_numbers = [num for num in lst if num % 2 == 0]\n",
        "\n",
        "print(\"Even numbers:\", even_numbers)"
      ],
      "metadata": {
        "colab": {
          "base_uri": "https://localhost:8080/"
        },
        "id": "Hij7PddpWLg-",
        "outputId": "ef5fc6fd-14e5-4a05-eb11-b3d5e4f4835f"
      },
      "execution_count": 29,
      "outputs": [
        {
          "output_type": "stream",
          "name": "stdout",
          "text": [
            "Even numbers: [4, 18, 2, 6, 8, 18, 44]\n"
          ]
        }
      ]
    },
    {
      "cell_type": "code",
      "source": [
        "import math\n",
        "\n",
        "def calculate_rectangle_area(length, width):\n",
        "    return length * width\n",
        "\n",
        "def calculate_square_area(side_length):\n",
        "    return side_length * side_length\n",
        "\n",
        "def calculate_circle_area(radius):\n",
        "    return math.pi * (radius ** 2)\n",
        "\n",
        "def calculate_triangle_area(base, height):\n",
        "    return (base * height) / 2\n",
        "\n",
        "print(\"Area of rectangle:\", calculate_rectangle_area(5, 3))\n",
        "print(\"Area of square:\", calculate_square_area(4))\n",
        "print(\"Area of circle:\", calculate_circle_area(3))\n",
        "print(\"Area of triangle:\", calculate_triangle_area(6, 4))"
      ],
      "metadata": {
        "colab": {
          "base_uri": "https://localhost:8080/"
        },
        "id": "L_8YiLbJYLsC",
        "outputId": "871d3e9f-14fd-439e-ed0f-0377017ec4f8"
      },
      "execution_count": 32,
      "outputs": [
        {
          "output_type": "stream",
          "name": "stdout",
          "text": [
            "Area of rectangle: 15\n",
            "Area of square: 16\n",
            "Area of circle: 28.274333882308138\n",
            "Area of triangle: 12.0\n"
          ]
        }
      ]
    },
    {
      "cell_type": "code",
      "source": [
        "list_to_sort = [6, 2, 8, 9, 34, 12, 4, 3, 9]\n",
        "\n",
        "n = len(list_to_sort)\n",
        "for i in range(n):\n",
        "    for j in range(0, n - i - 1):\n",
        "        if list_to_sort[j] > list_to_sort[j + 1]:\n",
        "\n",
        "            list_to_sort[j], list_to_sort[j + 1] = list_to_sort[j + 1], list_to_sort[j]\n",
        "\n",
        "print(\"Sorted list:\", list_to_sort)"
      ],
      "metadata": {
        "colab": {
          "base_uri": "https://localhost:8080/"
        },
        "id": "E6-4xaQqcCOD",
        "outputId": "595f2d61-0792-4355-98e7-9d54ddf2a789"
      },
      "execution_count": 34,
      "outputs": [
        {
          "output_type": "stream",
          "name": "stdout",
          "text": [
            "Sorted list: [2, 3, 4, 6, 8, 9, 9, 12, 34]\n"
          ]
        }
      ]
    },
    {
      "cell_type": "code",
      "source": [
        "num = int(input(\"Enter a number: \"))\n",
        "\n",
        "fib_series = [0, 1]\n",
        "\n",
        "while fib_series[-1] + fib_series[-2] <= num:\n",
        "    next_fib = fib_series[-1] + fib_series[-2]\n",
        "    fib_series.append(next_fib)\n",
        "\n",
        "print(\"Fibonacci series up to\", num, \":\", fib_series)"
      ],
      "metadata": {
        "colab": {
          "base_uri": "https://localhost:8080/"
        },
        "id": "9w9N9nfzeBxM",
        "outputId": "f838626c-6267-4d50-a65e-abfcec4a40aa"
      },
      "execution_count": 38,
      "outputs": [
        {
          "output_type": "stream",
          "name": "stdout",
          "text": [
            "Enter a number: 4\n",
            "Fibonacci series up to 4 : [0, 1, 1, 2, 3]\n"
          ]
        }
      ]
    },
    {
      "cell_type": "code",
      "source": [
        "num_students = int(input(\"Enter the number of students: \"))\n",
        "\n",
        "pass_students = []\n",
        "\n",
        "for i in range(num_students):\n",
        "\n",
        "    student_name = input(f\"Enter name for student {i+1}: \")\n",
        "\n",
        "\n",
        "    marks = []\n",
        "    for j in range(5):\n",
        "        subject_mark = int(input(f\"Enter mark for subject {j+1} for {student_name}: \"))\n",
        "        marks.append(subject_mark)\n",
        "\n",
        "\n",
        "    total_marks = sum(marks)\n",
        "\n",
        "\n",
        "    print(f\"Total marks for {student_name}: {total_marks}\")\n",
        "\n",
        "    if total_marks >= sum(marks) * 0.5:\n",
        "        pass_students.append(student_name)\n",
        "\n",
        "print(\"Total pass students:\", len(pass_students))"
      ],
      "metadata": {
        "id": "3MsjVEn9fW0O"
      },
      "execution_count": 37,
      "outputs": []
    },
    {
      "cell_type": "code",
      "source": [
        "while True:\n",
        "    try:\n",
        "\n",
        "        input_data = input(\"Enter employee name and rating (format: Name : Rating): \")\n",
        "\n",
        "\n",
        "        name, rating = input_data.split(':')\n",
        "\n",
        "\n",
        "        name = name.strip()\n",
        "        rating = rating.strip()\n",
        "\n",
        "\n",
        "        if not name and not rating:\n",
        "            raise ValueError(\"Both name and rating are empty\")\n",
        "\n",
        "\n",
        "        if not name:\n",
        "            raise ValueError(\"Name is empty\")\n",
        "\n",
        "\n",
        "        if not rating:\n",
        "            raise ValueError(\"Rating is empty\")\n",
        "\n",
        "\n",
        "        if any(char.isdigit() for char in name):\n",
        "            raise ValueError(\"Name contains integers\")\n",
        "\n",
        "\n",
        "        if not rating.replace('.', '').isdigit():\n",
        "            raise ValueError(\"Rating contains characters\")\n",
        "\n",
        "\n",
        "        rating = float(rating)\n",
        "\n",
        "\n",
        "        if not 1 <= rating <= 10:\n",
        "            raise ValueError(\"Rating should be between 1 and 10\")\n",
        "\n",
        "\n",
        "        print(f\"Employee Name: {name}\")\n",
        "        if rating < 5:\n",
        "            print(\"Performance: Poor\")\n",
        "        elif rating < 7:\n",
        "            print(\"Performance: Average\")\n",
        "        else:\n",
        "            print(\"Performance: Excellent\")\n",
        "\n",
        "        break\n",
        "\n",
        "    except ValueError as e:\n",
        "        print(f\"Invalid input: {e}. Please try again.\")"
      ],
      "metadata": {
        "id": "Q1FAS1AQg60S"
      },
      "execution_count": null,
      "outputs": []
    },
    {
      "cell_type": "code",
      "source": [
        "import os\n",
        "import shutil\n",
        "\n",
        "def get_folder_size(folder_path):\n",
        "    total_size = 0\n",
        "    for dirpath, _, filenames in os.walk(folder_path):\n",
        "        for filename in filenames:\n",
        "            file_path = os.path.join(dirpath, filename)\n",
        "            total_size += os.path.getsize(file_path)\n",
        "    return total_size / (1024 * 1024)\n",
        "\n",
        "def delete_files_to_fit(folder_path, target_size_mb):\n",
        "    while get_folder_size(folder_path) > target_size_mb:\n",
        "\n",
        "        largest_file = max((os.path.join(dirpath, f) for dirpath, _, files in os.walk(folder_path) for f in files), key=os.path.getsize)\n",
        "        os.remove(largest_file)\n",
        "        print(f\"Deleted {largest_file} to fit the folder size within {target_size_mb} MB\")\n",
        "\n",
        "folder_path = 'folder'\n",
        "\n",
        "target_size_mb = 2\n",
        "\n",
        "current_size_mb = get_folder_size(folder_path)\n",
        "print(f\"Current folder size: {current_size_mb:.2f} MB\")\n",
        "\n",
        "delete_files_to_fit(folder_path, target_size_mb)\n",
        "\n",
        "new_size_mb = get_folder_size(folder_path)\n",
        "print(f\"New folder size: {new_size_mb:.2f} MB\")"
      ],
      "metadata": {
        "colab": {
          "base_uri": "https://localhost:8080/"
        },
        "id": "8O9q8pL_hUMk",
        "outputId": "3a18f799-8f14-4f19-fe5e-6ecd6f39ff7c"
      },
      "execution_count": 41,
      "outputs": [
        {
          "output_type": "stream",
          "name": "stdout",
          "text": [
            "Current folder size: 0.00 MB\n",
            "New folder size: 0.00 MB\n"
          ]
        }
      ]
    },
    {
      "cell_type": "code",
      "source": [
        "mark = int(input(\"Enter the mark (0-100): \"))\n",
        "\n",
        "assert 0 <= mark <= 100, \"Invalid mark! Mark should be in the range of 0 to 100.\"\n",
        "\n",
        "print(\"Mark:\", mark)"
      ],
      "metadata": {
        "colab": {
          "base_uri": "https://localhost:8080/"
        },
        "id": "oLVs6s-Iic3w",
        "outputId": "eac27134-a8b4-4a62-9b03-c9cebc51ea5a"
      },
      "execution_count": 43,
      "outputs": [
        {
          "output_type": "stream",
          "name": "stdout",
          "text": [
            "Enter the mark (0-100): 10\n",
            "Mark: 10\n"
          ]
        }
      ]
    },
    {
      "cell_type": "code",
      "source": [
        "import logging\n",
        "\n",
        "logging.basicConfig(filename='user_data.log', level=logging.INFO, format='%(asctime)s - %(message)s')\n",
        "\n",
        "try:\n",
        "    mark = int(input(\"Enter the mark (0-100): \"))\n",
        "\n",
        "\n",
        "    assert 0 <= mark <= 100, \"Invalid mark! Mark should be in the range of 0 to 100.\"\n",
        "\n",
        "    logging.info(f\"Valid mark: {mark}\")\n",
        "\n",
        "    print(\"Mark:\", mark)\n",
        "\n",
        "except ValueError:\n",
        "    logging.error(\"User input is not an integer\")\n",
        "\n",
        "except AssertionError as e:\n",
        "    logging.error(str(e))"
      ],
      "metadata": {
        "colab": {
          "base_uri": "https://localhost:8080/"
        },
        "id": "SNGaDpcjjnc0",
        "outputId": "8b7ede91-46fa-43d6-f4f8-84eab03d9ed9"
      },
      "execution_count": 44,
      "outputs": [
        {
          "output_type": "stream",
          "name": "stdout",
          "text": [
            "Enter the mark (0-100): 45\n",
            "Mark: 45\n"
          ]
        }
      ]
    },
    {
      "cell_type": "code",
      "source": [
        "temperatures_celsius = [0, 10, 20, 30, 40]\n",
        "\n",
        "temperatures_fahrenheit = list(map(lambda c: (c * 9/5) + 32, temperatures_celsius))\n",
        "\n",
        "print(\"Temperatures in Fahrenheit:\", temperatures_fahrenheit)"
      ],
      "metadata": {
        "colab": {
          "base_uri": "https://localhost:8080/"
        },
        "id": "Eb7s44Kmkln6",
        "outputId": "bb87dc03-270a-453c-9e2e-0ba101962023"
      },
      "execution_count": 45,
      "outputs": [
        {
          "output_type": "stream",
          "name": "stdout",
          "text": [
            "Temperatures in Fahrenheit: [32.0, 50.0, 68.0, 86.0, 104.0]\n"
          ]
        }
      ]
    },
    {
      "cell_type": "code",
      "source": [
        "numbers = [22, 24, 25, 27, 29, 31, 33, 35, 36, 37, 38, 39, 41, 42, 43]\n",
        "\n",
        "filtered_numbers = [num for num in numbers if 25 <= num <= 40]\n",
        "\n",
        "print(\"Filtered numbers:\", filtered_numbers)"
      ],
      "metadata": {
        "colab": {
          "base_uri": "https://localhost:8080/"
        },
        "id": "jN_LqwoQlHgo",
        "outputId": "5fe9343f-266d-46f5-b483-2d17650f3c5f"
      },
      "execution_count": 46,
      "outputs": [
        {
          "output_type": "stream",
          "name": "stdout",
          "text": [
            "Filtered numbers: [25, 27, 29, 31, 33, 35, 36, 37, 38, 39]\n"
          ]
        }
      ]
    },
    {
      "cell_type": "code",
      "source": [
        "numbers = [3, 5, 2, 6, 8, 3, 18, 5, 3, 44, 21, 4, 18, 2]\n",
        "\n",
        "unique_numbers = []\n",
        "\n",
        "for num in numbers:\n",
        "    if num not in unique_numbers:\n",
        "      unique_numbers.append(num)\n",
        "\n",
        "print(\"List with duplicate elements removed:\", unique_numbers)"
      ],
      "metadata": {
        "colab": {
          "base_uri": "https://localhost:8080/"
        },
        "id": "Bh7cUzuslq9B",
        "outputId": "e2672abb-1755-421a-8747-a3143a5dbbe1"
      },
      "execution_count": 48,
      "outputs": [
        {
          "output_type": "stream",
          "name": "stdout",
          "text": [
            "List with duplicate elements removed: [3, 5, 2, 6, 8, 18, 44, 21, 4]\n"
          ]
        }
      ]
    },
    {
      "cell_type": "code",
      "source": [
        "numbers = []\n",
        "def add_number(num):\n",
        "    if num not in numbers:\n",
        "        numbers.append(num)\n",
        "        print(f\"Added {num} to the list\")\n",
        "    else:\n",
        "        print(f\"{num} is already present in the list\")\n",
        "add_number(3)\n",
        "add_number(5)\n",
        "add_number(2)\n",
        "add_number(6)\n",
        "add_number(8)\n",
        "add_number(3)\n",
        "add_number(18)\n",
        "add_number(5)\n",
        "add_number(3)\n",
        "add_number(44)\n",
        "add_number(21)\n",
        "add_number(4)\n",
        "add_number(18)\n",
        "add_number(2)\n",
        "print(\"List after adding numbers:\", numbers)"
      ],
      "metadata": {
        "colab": {
          "base_uri": "https://localhost:8080/"
        },
        "id": "_c9xMvHhmb7p",
        "outputId": "e9dba250-c54d-4a45-bd24-6ddf8044560f"
      },
      "execution_count": 49,
      "outputs": [
        {
          "output_type": "stream",
          "name": "stdout",
          "text": [
            "Added 3 to the list\n",
            "Added 5 to the list\n",
            "Added 2 to the list\n",
            "Added 6 to the list\n",
            "Added 8 to the list\n",
            "3 is already present in the list\n",
            "Added 18 to the list\n",
            "5 is already present in the list\n",
            "3 is already present in the list\n",
            "Added 44 to the list\n",
            "Added 21 to the list\n",
            "Added 4 to the list\n",
            "18 is already present in the list\n",
            "2 is already present in the list\n",
            "List after adding numbers: [3, 5, 2, 6, 8, 18, 44, 21, 4]\n"
          ]
        }
      ]
    },
    {
      "cell_type": "code",
      "source": [
        "input_string = input(\"Enter a string: \")\n",
        "\n",
        "cleaned_string = ''.join(char.lower() for char in input_string if char.isalnum())\n",
        "\n",
        "if cleaned_string == cleaned_string[::-1]:\n",
        "    print(\"The string is a palindrome.\")\n",
        "else:\n",
        "    print(\"The string is not a palindrome.\")"
      ],
      "metadata": {
        "colab": {
          "base_uri": "https://localhost:8080/"
        },
        "id": "fxJlX-H2nagl",
        "outputId": "96ca75e1-378f-4132-df9a-5627a6f3317b"
      },
      "execution_count": 51,
      "outputs": [
        {
          "output_type": "stream",
          "name": "stdout",
          "text": [
            "Enter a string: carrace\n",
            "The string is not a palindrome.\n"
          ]
        }
      ]
    },
    {
      "cell_type": "code",
      "source": [],
      "metadata": {
        "id": "W-sQpV4UoMT-"
      },
      "execution_count": null,
      "outputs": []
    }
  ],
  "metadata": {
    "colab": {
      "provenance": []
    },
    "kernelspec": {
      "display_name": "Python 3",
      "name": "python3"
    },
    "language_info": {
      "name": "python"
    }
  },
  "nbformat": 4,
  "nbformat_minor": 0
}